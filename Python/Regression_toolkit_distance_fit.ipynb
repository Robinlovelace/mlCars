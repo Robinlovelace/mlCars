{
 "cells": [
  {
   "cell_type": "code",
   "execution_count": 1,
   "metadata": {
    "collapsed": false
   },
   "outputs": [],
   "source": [
    "__author__ = \"Ilan Fridman Rojas\"\n",
    "\n",
    "import numpy as np\n",
    "import pandas as pd\n",
    "import sklearn as sk\n",
    "import matplotlib.pyplot as plt\n",
    "plt.style.use('ggplot')\n",
    "import os\n",
    "import seaborn as sns\n",
    "\n",
    "%matplotlib inline"
   ]
  },
  {
   "cell_type": "code",
   "execution_count": 2,
   "metadata": {
    "collapsed": false
   },
   "outputs": [
    {
     "data": {
      "text/plain": [
       "['evaluating-machine-learning-models.pdf',\n",
       " 'tree.dot',\n",
       " 'Rule_Extraction_w_pretraining_iris_corrected.ipynb',\n",
       " 'tree.png',\n",
       " 'Regression_toolkit_distance_fit.ipynb',\n",
       " 'LasagneUpdateRules_Feb_2017.py',\n",
       " '.ipynb_checkpoints',\n",
       " 'Rule_Extraction_w_pretraining.ipynb',\n",
       " 'Regression_toolkit.ipynb']"
      ]
     },
     "execution_count": 2,
     "metadata": {},
     "output_type": "execute_result"
    }
   ],
   "source": [
    "#os.chdir(\"/home/ilan/Desktop/Boris_proyecto\")\n",
    "os.listdir()"
   ]
  },
  {
   "cell_type": "code",
   "execution_count": 3,
   "metadata": {
    "collapsed": true
   },
   "outputs": [],
   "source": [
    "df = pd.read_csv(\"../data/wyflows_w_response_and_geo.csv\")"
   ]
  },
  {
   "cell_type": "code",
   "execution_count": 4,
   "metadata": {
    "collapsed": false
   },
   "outputs": [
    {
     "data": {
      "text/html": [
       "<div>\n",
       "<table border=\"1\" class=\"dataframe\">\n",
       "  <thead>\n",
       "    <tr style=\"text-align: right;\">\n",
       "      <th></th>\n",
       "      <th>workhome</th>\n",
       "      <th>metro</th>\n",
       "      <th>train</th>\n",
       "      <th>bus</th>\n",
       "      <th>taxi</th>\n",
       "      <th>motorcycle</th>\n",
       "      <th>car</th>\n",
       "      <th>cycle</th>\n",
       "      <th>walk</th>\n",
       "      <th>othertransp</th>\n",
       "      <th>...</th>\n",
       "      <th>otherqual</th>\n",
       "      <th>centheat</th>\n",
       "      <th>nrooms</th>\n",
       "      <th>wzclass</th>\n",
       "      <th>distance</th>\n",
       "      <th>response</th>\n",
       "      <th>disttrainstn</th>\n",
       "      <th>distcoachstn</th>\n",
       "      <th>distbusstop</th>\n",
       "      <th>distmway</th>\n",
       "    </tr>\n",
       "  </thead>\n",
       "  <tbody>\n",
       "    <tr>\n",
       "      <th>count</th>\n",
       "      <td>53807.0</td>\n",
       "      <td>53807.000000</td>\n",
       "      <td>53807.000000</td>\n",
       "      <td>53807.000000</td>\n",
       "      <td>53807.000000</td>\n",
       "      <td>53807.000000</td>\n",
       "      <td>53807.000000</td>\n",
       "      <td>53807.000000</td>\n",
       "      <td>53807.000000</td>\n",
       "      <td>53807.000000</td>\n",
       "      <td>...</td>\n",
       "      <td>53807.000000</td>\n",
       "      <td>53807.000000</td>\n",
       "      <td>53807.000000</td>\n",
       "      <td>53807.000000</td>\n",
       "      <td>53807.000000</td>\n",
       "      <td>53807.000000</td>\n",
       "      <td>53807.000000</td>\n",
       "      <td>53807.000000</td>\n",
       "      <td>5.380700e+04</td>\n",
       "      <td>53807.000000</td>\n",
       "    </tr>\n",
       "    <tr>\n",
       "      <th>mean</th>\n",
       "      <td>0.0</td>\n",
       "      <td>0.000586</td>\n",
       "      <td>0.040234</td>\n",
       "      <td>0.078933</td>\n",
       "      <td>0.005760</td>\n",
       "      <td>0.006470</td>\n",
       "      <td>0.823709</td>\n",
       "      <td>0.008320</td>\n",
       "      <td>0.033876</td>\n",
       "      <td>0.002112</td>\n",
       "      <td>...</td>\n",
       "      <td>0.050563</td>\n",
       "      <td>0.952235</td>\n",
       "      <td>5.258981</td>\n",
       "      <td>4.115189</td>\n",
       "      <td>14.517468</td>\n",
       "      <td>0.118612</td>\n",
       "      <td>0.693155</td>\n",
       "      <td>1.826619</td>\n",
       "      <td>1.601633e-02</td>\n",
       "      <td>2.359772</td>\n",
       "    </tr>\n",
       "    <tr>\n",
       "      <th>std</th>\n",
       "      <td>0.0</td>\n",
       "      <td>0.016080</td>\n",
       "      <td>0.151422</td>\n",
       "      <td>0.173004</td>\n",
       "      <td>0.043271</td>\n",
       "      <td>0.050552</td>\n",
       "      <td>0.260127</td>\n",
       "      <td>0.052078</td>\n",
       "      <td>0.112083</td>\n",
       "      <td>0.029691</td>\n",
       "      <td>...</td>\n",
       "      <td>0.023133</td>\n",
       "      <td>0.024733</td>\n",
       "      <td>0.535409</td>\n",
       "      <td>1.479845</td>\n",
       "      <td>7.955181</td>\n",
       "      <td>0.268266</td>\n",
       "      <td>0.734384</td>\n",
       "      <td>1.757177</td>\n",
       "      <td>3.047258e-02</td>\n",
       "      <td>2.825875</td>\n",
       "    </tr>\n",
       "    <tr>\n",
       "      <th>min</th>\n",
       "      <td>0.0</td>\n",
       "      <td>0.000000</td>\n",
       "      <td>0.000000</td>\n",
       "      <td>0.000000</td>\n",
       "      <td>0.000000</td>\n",
       "      <td>0.000000</td>\n",
       "      <td>0.000000</td>\n",
       "      <td>0.000000</td>\n",
       "      <td>0.000000</td>\n",
       "      <td>0.000000</td>\n",
       "      <td>...</td>\n",
       "      <td>0.017214</td>\n",
       "      <td>0.842247</td>\n",
       "      <td>2.900000</td>\n",
       "      <td>1.000000</td>\n",
       "      <td>0.599442</td>\n",
       "      <td>-0.768199</td>\n",
       "      <td>0.000008</td>\n",
       "      <td>0.000011</td>\n",
       "      <td>3.903194e-07</td>\n",
       "      <td>0.000022</td>\n",
       "    </tr>\n",
       "    <tr>\n",
       "      <th>25%</th>\n",
       "      <td>0.0</td>\n",
       "      <td>0.000000</td>\n",
       "      <td>0.000000</td>\n",
       "      <td>0.000000</td>\n",
       "      <td>0.000000</td>\n",
       "      <td>0.000000</td>\n",
       "      <td>0.717391</td>\n",
       "      <td>0.000000</td>\n",
       "      <td>0.000000</td>\n",
       "      <td>0.000000</td>\n",
       "      <td>...</td>\n",
       "      <td>0.036216</td>\n",
       "      <td>0.936194</td>\n",
       "      <td>5.000000</td>\n",
       "      <td>3.000000</td>\n",
       "      <td>8.481763</td>\n",
       "      <td>0.006851</td>\n",
       "      <td>0.196448</td>\n",
       "      <td>0.659839</td>\n",
       "      <td>2.922652e-03</td>\n",
       "      <td>0.476861</td>\n",
       "    </tr>\n",
       "    <tr>\n",
       "      <th>50%</th>\n",
       "      <td>0.0</td>\n",
       "      <td>0.000000</td>\n",
       "      <td>0.000000</td>\n",
       "      <td>0.000000</td>\n",
       "      <td>0.000000</td>\n",
       "      <td>0.000000</td>\n",
       "      <td>1.000000</td>\n",
       "      <td>0.000000</td>\n",
       "      <td>0.000000</td>\n",
       "      <td>0.000000</td>\n",
       "      <td>...</td>\n",
       "      <td>0.042466</td>\n",
       "      <td>0.953867</td>\n",
       "      <td>5.200000</td>\n",
       "      <td>4.000000</td>\n",
       "      <td>13.480005</td>\n",
       "      <td>0.232432</td>\n",
       "      <td>0.456020</td>\n",
       "      <td>1.353887</td>\n",
       "      <td>7.658440e-03</td>\n",
       "      <td>1.289197</td>\n",
       "    </tr>\n",
       "    <tr>\n",
       "      <th>75%</th>\n",
       "      <td>0.0</td>\n",
       "      <td>0.000000</td>\n",
       "      <td>0.000000</td>\n",
       "      <td>0.090909</td>\n",
       "      <td>0.000000</td>\n",
       "      <td>0.000000</td>\n",
       "      <td>1.000000</td>\n",
       "      <td>0.000000</td>\n",
       "      <td>0.000000</td>\n",
       "      <td>0.000000</td>\n",
       "      <td>...</td>\n",
       "      <td>0.056434</td>\n",
       "      <td>0.973034</td>\n",
       "      <td>5.500000</td>\n",
       "      <td>5.000000</td>\n",
       "      <td>19.379276</td>\n",
       "      <td>0.269903</td>\n",
       "      <td>0.940981</td>\n",
       "      <td>2.434321</td>\n",
       "      <td>1.753587e-02</td>\n",
       "      <td>3.080721</td>\n",
       "    </tr>\n",
       "    <tr>\n",
       "      <th>max</th>\n",
       "      <td>0.0</td>\n",
       "      <td>1.000000</td>\n",
       "      <td>1.000000</td>\n",
       "      <td>1.000000</td>\n",
       "      <td>1.000000</td>\n",
       "      <td>1.000000</td>\n",
       "      <td>1.000000</td>\n",
       "      <td>1.000000</td>\n",
       "      <td>1.000000</td>\n",
       "      <td>1.000000</td>\n",
       "      <td>...</td>\n",
       "      <td>0.140689</td>\n",
       "      <td>0.995994</td>\n",
       "      <td>7.100000</td>\n",
       "      <td>7.000000</td>\n",
       "      <td>56.246358</td>\n",
       "      <td>0.901646</td>\n",
       "      <td>14.221932</td>\n",
       "      <td>16.523315</td>\n",
       "      <td>1.241236e+00</td>\n",
       "      <td>23.216051</td>\n",
       "    </tr>\n",
       "  </tbody>\n",
       "</table>\n",
       "<p>8 rows × 52 columns</p>\n",
       "</div>"
      ],
      "text/plain": [
       "       workhome         metro         train           bus          taxi  \\\n",
       "count   53807.0  53807.000000  53807.000000  53807.000000  53807.000000   \n",
       "mean        0.0      0.000586      0.040234      0.078933      0.005760   \n",
       "std         0.0      0.016080      0.151422      0.173004      0.043271   \n",
       "min         0.0      0.000000      0.000000      0.000000      0.000000   \n",
       "25%         0.0      0.000000      0.000000      0.000000      0.000000   \n",
       "50%         0.0      0.000000      0.000000      0.000000      0.000000   \n",
       "75%         0.0      0.000000      0.000000      0.090909      0.000000   \n",
       "max         0.0      1.000000      1.000000      1.000000      1.000000   \n",
       "\n",
       "         motorcycle           car         cycle          walk   othertransp  \\\n",
       "count  53807.000000  53807.000000  53807.000000  53807.000000  53807.000000   \n",
       "mean       0.006470      0.823709      0.008320      0.033876      0.002112   \n",
       "std        0.050552      0.260127      0.052078      0.112083      0.029691   \n",
       "min        0.000000      0.000000      0.000000      0.000000      0.000000   \n",
       "25%        0.000000      0.717391      0.000000      0.000000      0.000000   \n",
       "50%        0.000000      1.000000      0.000000      0.000000      0.000000   \n",
       "75%        0.000000      1.000000      0.000000      0.000000      0.000000   \n",
       "max        1.000000      1.000000      1.000000      1.000000      1.000000   \n",
       "\n",
       "           ...          otherqual      centheat        nrooms       wzclass  \\\n",
       "count      ...       53807.000000  53807.000000  53807.000000  53807.000000   \n",
       "mean       ...           0.050563      0.952235      5.258981      4.115189   \n",
       "std        ...           0.023133      0.024733      0.535409      1.479845   \n",
       "min        ...           0.017214      0.842247      2.900000      1.000000   \n",
       "25%        ...           0.036216      0.936194      5.000000      3.000000   \n",
       "50%        ...           0.042466      0.953867      5.200000      4.000000   \n",
       "75%        ...           0.056434      0.973034      5.500000      5.000000   \n",
       "max        ...           0.140689      0.995994      7.100000      7.000000   \n",
       "\n",
       "           distance      response  disttrainstn  distcoachstn   distbusstop  \\\n",
       "count  53807.000000  53807.000000  53807.000000  53807.000000  5.380700e+04   \n",
       "mean      14.517468      0.118612      0.693155      1.826619  1.601633e-02   \n",
       "std        7.955181      0.268266      0.734384      1.757177  3.047258e-02   \n",
       "min        0.599442     -0.768199      0.000008      0.000011  3.903194e-07   \n",
       "25%        8.481763      0.006851      0.196448      0.659839  2.922652e-03   \n",
       "50%       13.480005      0.232432      0.456020      1.353887  7.658440e-03   \n",
       "75%       19.379276      0.269903      0.940981      2.434321  1.753587e-02   \n",
       "max       56.246358      0.901646     14.221932     16.523315  1.241236e+00   \n",
       "\n",
       "           distmway  \n",
       "count  53807.000000  \n",
       "mean       2.359772  \n",
       "std        2.825875  \n",
       "min        0.000022  \n",
       "25%        0.476861  \n",
       "50%        1.289197  \n",
       "75%        3.080721  \n",
       "max       23.216051  \n",
       "\n",
       "[8 rows x 52 columns]"
      ]
     },
     "execution_count": 4,
     "metadata": {},
     "output_type": "execute_result"
    }
   ],
   "source": [
    "df.describe()"
   ]
  },
  {
   "cell_type": "code",
   "execution_count": 5,
   "metadata": {
    "collapsed": false
   },
   "outputs": [],
   "source": [
    "#df = df.rename(columns={'Nucleus or nucleic juncture':'Nucleus', 'Uttered beat\\nprominence':'Prominence', \\\n",
    "#                  'High boundary':'Upper_bound', 'Low\\nboundary':'Lower_bound', 'Fundamental frequency':'Fund_freq',\\\n",
    "#                  'Focal frequency':'Focal_freq', 'Event ID,\\nUtterance #':'Event_ID_Utterance'})\n",
    "#df.head()"
   ]
  },
  {
   "cell_type": "code",
   "execution_count": 6,
   "metadata": {
    "collapsed": false
   },
   "outputs": [
    {
     "data": {
      "text/plain": [
       "Index(['homeMSOA', 'workMSOA', 'workhome', 'metro', 'train', 'bus', 'taxi',\n",
       "       'motorcycle', 'car', 'cycle', 'walk', 'othertransp', 'npeople', '16-24',\n",
       "       '25-34', '35-49', '50-54', '65-74', '75+', 'female', 'house0carpct',\n",
       "       'house1carpct', 'house2carpct', 'house3carpct', 'house4carpct',\n",
       "       'ppperhect', 'econactivpct', 'econinactivpct', 'vghealth', 'ghealth',\n",
       "       'fhealth', 'bhealth', 'vbhealth', 'white', 'mixed', 'asian', 'black',\n",
       "       'otherethn', 'noqual', 'aptshpqual', 'lev1qual', 'lev2qual', 'lev3qual',\n",
       "       'lev4qual', 'otherqual', 'centheat', 'nrooms', 'wzclass', 'distance',\n",
       "       'response', 'disttrainstn', 'distcoachstn', 'distbusstop', 'distmway'],\n",
       "      dtype='object')"
      ]
     },
     "execution_count": 6,
     "metadata": {},
     "output_type": "execute_result"
    }
   ],
   "source": [
    "df.columns"
   ]
  },
  {
   "cell_type": "markdown",
   "metadata": {
    "collapsed": false
   },
   "source": [
    "# In order to apply logit models etc we need to rescale the response to [0,1]\n",
    "from sklearn.preprocessing import MinMaxScaler\n",
    "\n",
    "yscaler = MinMaxScaler().fit(df.loc[:, \"response\"].values.reshape(-1,1))\n",
    "df.loc[:, \"response\"] = yscaler.transform(df.loc[:, \"response\"].values.reshape(-1,1))"
   ]
  },
  {
   "cell_type": "markdown",
   "metadata": {
    "collapsed": false
   },
   "source": [
    "df.loc[:, \"response\"].describe()"
   ]
  },
  {
   "cell_type": "markdown",
   "metadata": {
    "collapsed": false
   },
   "source": [
    "df.loc[:,\"response\"].hist()"
   ]
  },
  {
   "cell_type": "code",
   "execution_count": 7,
   "metadata": {
    "collapsed": false
   },
   "outputs": [],
   "source": [
    "Xfull = df.drop(['homeMSOA','workMSOA','car','response','npeople','workhome','metro','train','bus','taxi','motorcycle','cycle','walk','othertransp'], axis=1).values\n",
    "Yfull = df['car'].values\n",
    "\n",
    "predictors = list(df.drop(['homeMSOA','workMSOA','car','response','npeople','workhome','metro','train','bus','taxi','motorcycle','cycle','walk','othertransp'], axis=1).columns)"
   ]
  },
  {
   "cell_type": "code",
   "execution_count": 8,
   "metadata": {
    "collapsed": false
   },
   "outputs": [],
   "source": [
    "# DO NOT USE THE FULL DATASET, SPLIT OFF A TRAINING SET BEFORE GOING FURTHER, AND NEVER USE THE FULL SET\n",
    "\n",
    "import math\n",
    "\n",
    "idx = list(range(Xfull.shape[0]))\n",
    "np.random.seed(seed=5)\n",
    "np.random.shuffle(idx)\n",
    "np.random.seed(seed=None)\n",
    "\n",
    "trainsetsize = math.floor(Xfull.shape[0]/2)\n",
    "trainidx = idx[:trainsetsize]\n",
    "\n",
    "X, Y = Xfull[trainidx,:], Yfull[trainidx]"
   ]
  },
  {
   "cell_type": "code",
   "execution_count": 9,
   "metadata": {
    "collapsed": false
   },
   "outputs": [
    {
     "data": {
      "text/plain": [
       "['16-24',\n",
       " '25-34',\n",
       " '35-49',\n",
       " '50-54',\n",
       " '65-74',\n",
       " '75+',\n",
       " 'female',\n",
       " 'house0carpct',\n",
       " 'house1carpct',\n",
       " 'house2carpct',\n",
       " 'house3carpct',\n",
       " 'house4carpct',\n",
       " 'ppperhect',\n",
       " 'econactivpct',\n",
       " 'econinactivpct',\n",
       " 'vghealth',\n",
       " 'ghealth',\n",
       " 'fhealth',\n",
       " 'bhealth',\n",
       " 'vbhealth',\n",
       " 'white',\n",
       " 'mixed',\n",
       " 'asian',\n",
       " 'black',\n",
       " 'otherethn',\n",
       " 'noqual',\n",
       " 'aptshpqual',\n",
       " 'lev1qual',\n",
       " 'lev2qual',\n",
       " 'lev3qual',\n",
       " 'lev4qual',\n",
       " 'otherqual',\n",
       " 'centheat',\n",
       " 'nrooms',\n",
       " 'wzclass',\n",
       " 'distance',\n",
       " 'disttrainstn',\n",
       " 'distcoachstn',\n",
       " 'distbusstop',\n",
       " 'distmway']"
      ]
     },
     "execution_count": 9,
     "metadata": {},
     "output_type": "execute_result"
    }
   ],
   "source": [
    "predictors"
   ]
  },
  {
   "cell_type": "code",
   "execution_count": 10,
   "metadata": {
    "collapsed": false
   },
   "outputs": [],
   "source": [
    "#from sklearn.model_selection import StratifiedKFold\n",
    "from sklearn.model_selection import KFold\n",
    "\n",
    "#cross_valsets = StratifiedKFold(n_splits=2)\n",
    "cross_valsets = KFold(n_splits=10)\n",
    "for train_index, test_index in cross_valsets.split(X, Y):\n",
    "    #print(\"TRAIN:\", train_index, \"TEST:\", test_index)\n",
    "    X_train, X_test = X[train_index], X[test_index]\n",
    "    Y_train, Y_test = Y[train_index], Y[test_index]"
   ]
  },
  {
   "cell_type": "code",
   "execution_count": 11,
   "metadata": {
    "collapsed": false
   },
   "outputs": [],
   "source": [
    "from sklearn.preprocessing import StandardScaler\n",
    "\n",
    "scaler = StandardScaler().fit(X_train)\n",
    "X_train = scaler.transform(X_train)\n",
    "X_test = scaler.transform(X_test)\n",
    "\n",
    "# We use X = X_train + X_test for the cross-validation runs, so scale X too (note: X is already a training set)\n",
    "X = scaler.transform(X)"
   ]
  },
  {
   "cell_type": "code",
   "execution_count": 12,
   "metadata": {
    "collapsed": false
   },
   "outputs": [
    {
     "name": "stdout",
     "output_type": "stream",
     "text": [
      "[['XGB', 0.054537605514341225],\n",
      " ['ElasticNetCV', 0.057036139716645784],\n",
      " ['MLP', 0.061222980176179838],\n",
      " ['RandomForest', 0.063027943484442003],\n",
      " ['TheilSen', 0.064709055193385434],\n",
      " ['KNeighbors', 0.064848019493263687],\n",
      " ['ExtraTrees', 0.065729536346671752],\n",
      " ['Dummy', 0.066760533756757445],\n",
      " ['--MEAN MODEL--', 0.070934529073551258],\n",
      " ['DecisionTrees', 0.11432369159457569],\n",
      " ['PassiveAggressive', 0.13358346589961886],\n",
      " ['SGD', 6.2335840449568132e+24]]\n"
     ]
    }
   ],
   "source": [
    "from sklearn.model_selection import cross_val_score\n",
    "\n",
    "from pprint import pprint\n",
    "\n",
    "from sklearn.metrics import mean_squared_error\n",
    "\n",
    "from sklearn.dummy import DummyRegressor\n",
    "#from sklearn.linear_model import LogisticRegressionCV # would require Min-Max scaling of response variable\n",
    "#from sklearn.ensemble import AdaBoostRegressor # Boosted decision trees, superseded by xgboost?\n",
    "#from sklearn.ensemble import GradientBoostingRegressor # Boosted decision trees, superseded by xgboost?\n",
    "#from sklearn.ensemble import BaggingRegressor # needs base clasifier\n",
    "from sklearn.ensemble import ExtraTreesRegressor\n",
    "from sklearn.tree import DecisionTreeRegressor\n",
    "from sklearn.ensemble import RandomForestRegressor\n",
    "from sklearn.gaussian_process import GaussianProcessRegressor\n",
    "from sklearn.linear_model import ElasticNetCV\n",
    "from sklearn.linear_model import PassiveAggressiveRegressor\n",
    "from sklearn.linear_model import RANSACRegressor\n",
    "from sklearn.linear_model import SGDRegressor\n",
    "from sklearn.linear_model import TheilSenRegressor\n",
    "from sklearn.neighbors import KNeighborsRegressor\n",
    "from sklearn.neighbors import RadiusNeighborsRegressor\n",
    "from sklearn.neural_network import MLPRegressor\n",
    "\n",
    "import xgboost as xgb\n",
    "\n",
    "result = []\n",
    "\n",
    "clf = DummyRegressor()\n",
    "scores = cross_val_score(clf, X, Y, n_jobs=4, scoring='neg_mean_squared_error')\n",
    "result.append([\"Dummy\", -scores.mean()])\n",
    "\n",
    "clf = ExtraTreesRegressor(n_jobs=4)\n",
    "scores = cross_val_score(clf, X, Y, scoring='neg_mean_squared_error')\n",
    "result.append([\"ExtraTrees\", -scores.mean()])\n",
    "\n",
    "clf = DecisionTreeRegressor()\n",
    "scores = cross_val_score(clf, X, Y, n_jobs=4, scoring='neg_mean_squared_error')\n",
    "result.append([\"DecisionTrees\", -scores.mean()])\n",
    "\n",
    "clf = RandomForestRegressor(n_jobs=4)\n",
    "scores = cross_val_score(clf, X, Y, scoring='neg_mean_squared_error')\n",
    "result.append([\"RandomForest\", -scores.mean()])\n",
    "\n",
    "#  THIS MODEL REQUIRES SO MUCH RAM IT WILL CRASH YOUR COMPUTER INSTANTLY\n",
    "#clf = GaussianProcessRegressor()\n",
    "#clf = clf.fit(X_train, Y_train)\n",
    "#Y_pred = clf.predict(X_test)\n",
    "#scores = mean_squared_error(Y_test, Y_pred)\n",
    "#result.append([\"GaussianProcess\", scores.mean()])\n",
    "\n",
    "clf = ElasticNetCV(n_jobs=4)\n",
    "scores = cross_val_score(clf, X, Y, scoring='neg_mean_squared_error')\n",
    "result.append([\"ElasticNetCV\", -scores.mean()])\n",
    "\n",
    "clf = PassiveAggressiveRegressor()\n",
    "scores = cross_val_score(clf, X, Y, n_jobs=4, scoring='neg_mean_squared_error')\n",
    "result.append([\"PassiveAggressive\", -scores.mean()])\n",
    "\n",
    "#clf = RANSACRegressor()\n",
    "#scores = cross_val_score(clf, X, Y, n_jobs=4, scoring='neg_mean_squared_error')\n",
    "#result.append([\"RANSAC\", -scores.mean()])\n",
    "\n",
    "clf = SGDRegressor(learning_rate='optimal')\n",
    "scores = cross_val_score(clf, X, Y, n_jobs=4, scoring='neg_mean_squared_error')\n",
    "result.append([\"SGD\", -scores.mean()])\n",
    "\n",
    "clf = TheilSenRegressor(n_jobs=4)\n",
    "scores = cross_val_score(clf, X, Y, scoring='neg_mean_squared_error')\n",
    "result.append([\"TheilSen\", -scores.mean()])\n",
    "\n",
    "clf = KNeighborsRegressor(n_jobs=4)\n",
    "scores = cross_val_score(clf, X, Y, scoring='neg_mean_squared_error')\n",
    "result.append([\"KNeighbors\", -scores.mean()])\n",
    "\n",
    "#clf = RadiusNeighborsRegressor(n_jobs=4)\n",
    "#clf = clf.fit(X_train, Y_train)\n",
    "#Y_pred = clf.predict(X_test)\n",
    "#scores = mean_squared_error(Y_test, Y_pred)\n",
    "#result.append([\"RadiusNeighbors\", scores.mean()])\n",
    "\n",
    "clf = MLPRegressor()\n",
    "scores = cross_val_score(clf, X, Y, n_jobs=4, scoring='neg_mean_squared_error')\n",
    "result.append([\"MLP\", -scores.mean()])\n",
    "\n",
    "clf = xgb.XGBRegressor()\n",
    "scores = cross_val_score(clf, X, Y, scoring='neg_mean_squared_error')\n",
    "result.append([\"XGB\", -scores.mean()])\n",
    "\n",
    "# Model which simply always predicts the sample mean of the response\n",
    "result.append([\"--MEAN MODEL--\", mean_squared_error(Y_test, np.repeat(Y_test.mean(), Y_test.shape[0]))])\n",
    "\n",
    "result.sort(key=lambda x: x[1], reverse=False)\n",
    "pprint(result)"
   ]
  },
  {
   "cell_type": "code",
   "execution_count": 13,
   "metadata": {
    "collapsed": true
   },
   "outputs": [],
   "source": [
    "# HOW TO PREDICT FROM A MODEL\n",
    "#clf = xgb.XGBRegressor()\n",
    "#clf = clf.fit(X_train, Y_train)\n",
    "#Y_pred = clf.predict(X_test)\n",
    "#scores = mean_squared_error(Y_test, Y_pred)"
   ]
  },
  {
   "cell_type": "code",
   "execution_count": 14,
   "metadata": {
    "collapsed": true
   },
   "outputs": [],
   "source": [
    "from sklearn.feature_selection import f_regression\n",
    "from sklearn.feature_selection import mutual_info_regression\n",
    "\n",
    "#f_regression(X, Y)\n",
    "\n",
    "mutinfo = mutual_info_regression(X, Y)"
   ]
  },
  {
   "cell_type": "code",
   "execution_count": 15,
   "metadata": {
    "collapsed": false
   },
   "outputs": [
    {
     "name": "stdout",
     "output_type": "stream",
     "text": [
      "[['35-49', 0.7275008408587107],\n",
      " ['25-34', 0.68383915028400555],\n",
      " ['female', 0.67677050234618363],\n",
      " ['50-54', 0.6607119473200207],\n",
      " ['16-24', 0.62807705327769625],\n",
      " ['65-74', 0.19826299750034515],\n",
      " ['distance', 0.18788529527842712],\n",
      " ['house0carpct', 0.089151208358824618],\n",
      " ['house2carpct', 0.086736630194631736],\n",
      " ['house4carpct', 0.084113970369545932],\n",
      " ['house3carpct', 0.079617742831130656],\n",
      " ['mixed', 0.075136201541975645],\n",
      " ['lev2qual', 0.073996029065397373],\n",
      " ['ppperhect', 0.073245226815574327],\n",
      " ['centheat', 0.072933476511653161]]\n"
     ]
    }
   ],
   "source": [
    "mutinfofeats = []\n",
    "for i, row in enumerate(mutinfo):\n",
    "    mutinfofeats.append([predictors[i], row])\n",
    "    \n",
    "mutinfofeats.sort(key=lambda x: x[1], reverse=True)\n",
    "pprint(mutinfofeats[:15])"
   ]
  },
  {
   "cell_type": "code",
   "execution_count": 16,
   "metadata": {
    "collapsed": false
   },
   "outputs": [
    {
     "name": "stdout",
     "output_type": "stream",
     "text": [
      "0.0625747239542\n"
     ]
    },
    {
     "data": {
      "image/png": "[encoded data removed]",
      "text/plain": [
       "<IPython.core.display.Image object>"
      ]
     },
     "execution_count": 16,
     "metadata": {},
     "output_type": "execute_result"
    }
   ],
   "source": [
    "from sklearn import tree\n",
    "\n",
    "clf = tree.DecisionTreeRegressor(max_depth=3)\n",
    "clf = clf.fit(X_train, Y_train)\n",
    "Y_pred = clf.predict(X_test)\n",
    "print(mean_squared_error(Y_test,Y_pred))\n",
    "\n",
    "tree.export_graphviz(clf, out_file='tree.dot')\n",
    "\n",
    "# sudo apt-get install graphviz\n",
    "!dot -Tpng tree.dot -o tree.png\n",
    "\n",
    "from IPython.display import Image\n",
    "Image(filename='tree.png') "
   ]
  },
  {
   "cell_type": "code",
   "execution_count": 17,
   "metadata": {
    "collapsed": false
   },
   "outputs": [
    {
     "name": "stdout",
     "output_type": "stream",
     "text": [
      "Feature ranking:\n",
      "1. distance (0.111344)\n",
      "2. distbusstop (0.079499)\n",
      "3. disttrainstn (0.075982)\n",
      "4. distcoachstn (0.072227)\n",
      "5. distmway (0.069648)\n",
      "6. 16-24 (0.068402)\n",
      "7. house0carpct (0.062040)\n",
      "8. house2carpct (0.057238)\n",
      "9. female (0.039768)\n",
      "10. wzclass (0.033759)\n",
      "11. 25-34 (0.028353)\n",
      "12. 35-49 (0.028239)\n",
      "13. 50-54 (0.024520)\n",
      "14. ppperhect (0.014956)\n",
      "15. house1carpct (0.012044)\n",
      "16. centheat (0.011976)\n",
      "17. mixed (0.011715)\n",
      "18. ghealth (0.011676)\n",
      "19. house4carpct (0.011205)\n",
      "20. black (0.011026)\n",
      "21. lev1qual (0.010617)\n",
      "22. house3carpct (0.010304)\n",
      "23. lev3qual (0.010284)\n",
      "24. aptshpqual (0.010204)\n",
      "25. vbhealth (0.009913)\n",
      "26. otherqual (0.009874)\n",
      "27. lev2qual (0.009794)\n",
      "28. otherethn (0.009308)\n",
      "29. fhealth (0.009177)\n",
      "30. vghealth (0.008607)\n",
      "31. bhealth (0.008546)\n",
      "32. asian (0.008160)\n",
      "33. lev4qual (0.008042)\n",
      "34. noqual (0.007755)\n",
      "35. white (0.006962)\n",
      "36. nrooms (0.006780)\n",
      "37. econinactivpct (0.006438)\n",
      "38. 65-74 (0.006192)\n",
      "39. econactivpct (0.005431)\n",
      "40. 75+ (0.001998)\n"
     ]
    },
    {
     "data": {
      "image/png": "[encoded data removed]",
      "text/plain": [
       "<matplotlib.figure.Figure at 0x7f957c1fe0f0>"
      ]
     },
     "metadata": {},
     "output_type": "display_data"
    }
   ],
   "source": [
    "clf = RandomForestRegressor(n_jobs=4)\n",
    "clf = clf.fit(X_train, Y_train)\n",
    "Y_pred = clf.predict(X_test)\n",
    "\n",
    "scores = mean_squared_error(Y_test, Y_pred)\n",
    "\n",
    "importances = clf.feature_importances_\n",
    "std = np.std([tree.feature_importances_ for tree in clf.estimators_],\n",
    "             axis=0)\n",
    "indices = np.argsort(importances)[::-1]\n",
    "\n",
    "# Print the feature ranking\n",
    "print(\"Feature ranking:\")\n",
    "\n",
    "#for f in range(X.shape[1]):\n",
    "#    print(\"%d. feature %d (%f)\" % (f + 1, indices[f], importances[indices[f]]))\n",
    "\n",
    "for f in range(X.shape[1]):\n",
    "    print(\"%d. %s (%f)\" % (f + 1, predictors[indices[f]], importances[indices[f]]))\n",
    "    \n",
    "randforestfeats = [[predictors[indices[f]], importances[indices[f]]] for f in range(X.shape[1])]\n",
    "\n",
    "# Plot the feature importances of the forest\n",
    "plt.figure()\n",
    "plt.title(\"Feature importances\")\n",
    "plt.bar(range(X.shape[1]), importances[indices],\n",
    "       color=\"r\", yerr=std[indices], align=\"center\")\n",
    "plt.xticks(range(X.shape[1]), np.asarray(predictors)[indices], rotation=\"vertical\")\n",
    "plt.xlim([-1, X.shape[1]])\n",
    "plt.show()"
   ]
  },
  {
   "cell_type": "markdown",
   "metadata": {
    "collapsed": false
   },
   "source": [
    "import seaborn as sns\n",
    "\n",
    "#sns.boxplot(x=\"IPA tags\", y=\"Prominence\", data=df_sub)\n",
    "#sns.boxplot(x=\"IPA tags\", y=\"Prominence\", data=df_sub)\n",
    "\n",
    "#for i in predictors:\n",
    "#    sns.boxplot(x=\"car\", y=i, data=df.iloc[trainidx,:])\n",
    "#    plt.show()\n",
    "\n",
    "\n",
    "sns.pairplot(data=df.loc[trainidx, predictors])"
   ]
  },
  {
   "cell_type": "code",
   "execution_count": 18,
   "metadata": {
    "collapsed": false
   },
   "outputs": [],
   "source": [
    "# HOW TO PREDICT FROM A MODEL\n",
    "clf = xgb.XGBRegressor()\n",
    "#clf = ElasticNetCV()\n",
    "#clf = MLPRegressor()\n",
    "#clf = RandomForestRegressor()\n",
    "#clf = TheilSenRegressor()\n",
    "#clf = KNeighborsRegressor()\n",
    "\n",
    "# We undo the standard scaling of features so that explanation is given in terms of variables with original scale\n",
    "# For tree-based models this scaling or lackthereof should not affect performance much\n",
    "clf = clf.fit(scaler.inverse_transform(X_train), Y_train)\n",
    "\n",
    "#Y_pred = clf.predict(X_test)\n",
    "#scores = mean_squared_error(Y_test, Y_pred)"
   ]
  },
  {
   "cell_type": "markdown",
   "metadata": {},
   "source": [
    "https://github.com/marcotcr/lime/blob/master/doc/notebooks/Using%20lime%20for%20regression.ipynb"
   ]
  },
  {
   "cell_type": "code",
   "execution_count": 19,
   "metadata": {
    "collapsed": false
   },
   "outputs": [],
   "source": [
    "# git clone https://github.com/marcotcr/lime.git\n",
    "# cd lime\n",
    "# sudo python3 setup.py install\n",
    "\n",
    "# Or simply:\n",
    "# sudo pip3 install git+https://github.com/marcotcr/lime.git\n",
    "\n",
    "import lime\n",
    "import lime.lime_tabular"
   ]
  },
  {
   "cell_type": "code",
   "execution_count": 20,
   "metadata": {
    "collapsed": false
   },
   "outputs": [],
   "source": [
    "explainer = lime.lime_tabular.LimeTabularExplainer(X, feature_names=predictors, class_names=['response'], categorical_features=None, verbose=True)"
   ]
  },
  {
   "cell_type": "code",
   "execution_count": 21,
   "metadata": {
    "collapsed": true
   },
   "outputs": [],
   "source": [
    "predict_fn = lambda x: clf.predict(x).reshape(-1,1)"
   ]
  },
  {
   "cell_type": "code",
   "execution_count": 22,
   "metadata": {
    "collapsed": false
   },
   "outputs": [
    {
     "data": {
      "text/plain": [
       "304"
      ]
     },
     "execution_count": 22,
     "metadata": {},
     "output_type": "execute_result"
    }
   ],
   "source": [
    "np.argmin(predict_fn(X_test))"
   ]
  },
  {
   "cell_type": "code",
   "execution_count": 23,
   "metadata": {
    "collapsed": false
   },
   "outputs": [
    {
     "data": {
      "text/plain": [
       "2212"
      ]
     },
     "execution_count": 23,
     "metadata": {},
     "output_type": "execute_result"
    }
   ],
   "source": [
    "np.argmax(predict_fn(X_test))"
   ]
  },
  {
   "cell_type": "code",
   "execution_count": 24,
   "metadata": {
    "collapsed": false
   },
   "outputs": [
    {
     "name": "stdout",
     "output_type": "stream",
     "text": [
      "Intercept 0.339428418868\n",
      "Prediction_local [ 0.53241257]\n",
      "Right: 0.44259\n"
     ]
    }
   ],
   "source": [
    "i = 1151\n",
    "exp = explainer.explain_instance(X_test[i], predict_fn, labels=[0], num_features=15)"
   ]
  },
  {
   "cell_type": "code",
   "execution_count": 25,
   "metadata": {
    "collapsed": false
   },
   "outputs": [
    {
     "data": {
      "text/plain": [
       "[('house2carpct > 0.75', 0.080081857216996108),\n",
       " ('16-24 <= -0.55', 0.061895472287837615),\n",
       " ('house0carpct <= -0.74', 0.047467186694501735),\n",
       " ('distcoachstn <= -0.67', -0.042125855449962196),\n",
       " ('50-54 > 0.37', 0.032267931478744211),\n",
       " ('distance > 0.61', 0.03024794514147456),\n",
       " ('wzclass > 0.60', -0.027070933598927725),\n",
       " ('75+ <= -0.09', 0.023949641570312069),\n",
       " ('disttrainstn <= -0.68', -0.021285737307728425),\n",
       " ('female <= -1.27', 0.021044245147696854),\n",
       " ('house1carpct <= -0.38', -0.020910511168593236),\n",
       " ('ghealth <= -0.66', 0.016259602060673374),\n",
       " ('65-74 <= -0.20', 0.01479193892430306),\n",
       " ('lev1qual <= -0.48', -0.01276063333849151),\n",
       " ('lev4qual > 0.48', -0.010867996615108918)]"
      ]
     },
     "execution_count": 25,
     "metadata": {},
     "output_type": "execute_result"
    }
   ],
   "source": [
    "limefeats = exp.as_list(0)\n",
    "exp.as_list(0)"
   ]
  },
  {
   "cell_type": "code",
   "execution_count": 26,
   "metadata": {
    "collapsed": false
   },
   "outputs": [
    {
     "name": "stdout",
     "output_type": "stream",
     "text": [
      "Prediction 0.44259\n",
      "True 1.0\n"
     ]
    }
   ],
   "source": [
    "print('Prediction', predict_fn(X_test[i].reshape(1,-1))[0,0])\n",
    "print('True', Y_test[i])"
   ]
  },
  {
   "cell_type": "code",
   "execution_count": 27,
   "metadata": {
    "collapsed": false
   },
   "outputs": [],
   "source": [
    "testidx = idx[trainsetsize:]\n",
    "\n",
    "plotdf = df.loc[testidx, :]\n",
    "\n",
    "plotdf.loc[:, \"prediction\"] = clf.predict(plotdf.loc[:, predictors].values)\n",
    "plotdf.loc[:, \"residual\"] = plotdf.loc[:, \"response\"] - plotdf.loc[:, \"prediction\"]"
   ]
  },
  {
   "cell_type": "code",
   "execution_count": 28,
   "metadata": {
    "collapsed": false
   },
   "outputs": [
    {
     "data": {
      "image/png": "[encoded data removed]",
      "text/plain": [
       "<matplotlib.figure.Figure at 0x7f9582058390>"
      ]
     },
     "metadata": {},
     "output_type": "display_data"
    }
   ],
   "source": [
    "import seaborn as sns\n",
    "\n",
    "sns.regplot(\"prediction\", \"residual\", data=plotdf)\n",
    "plt.show()"
   ]
  },
  {
   "cell_type": "code",
   "execution_count": 29,
   "metadata": {
    "collapsed": false
   },
   "outputs": [
    {
     "name": "stdout",
     "output_type": "stream",
     "text": [
      "[['house2carpct', 0.079990491290460056],\n",
      " ['16-24', -0.04098702716937877],\n",
      " ['distance', 0.021408437841544774],\n",
      " ['fhealth', 0.017814671897367979],\n",
      " ['black', -0.015474452743304374],\n",
      " ['wzclass', 0.014586315588620407],\n",
      " ['mixed', 0.013541719354682867],\n",
      " ['house1carpct', 0.012297809450786856],\n",
      " ['house3carpct', -0.011606604733999239],\n",
      " ['asian', 0.010598698845676161],\n",
      " ['distcoachstn', 0.010171387387740238],\n",
      " ['lev4qual', -0.0096272163436613486],\n",
      " ['female', -0.0087456460923302608],\n",
      " ['centheat', 0.0076377141721538982],\n",
      " ['lev3qual', 0.0067625572163082358]]\n"
     ]
    }
   ],
   "source": [
    "clf = ElasticNetCV()\n",
    "clf = clf.fit(X_train, Y_train)\n",
    "\n",
    "elasticfeats = []\n",
    "for i, row in enumerate(clf.coef_):\n",
    "    elasticfeats.append([predictors[i], row])\n",
    "    \n",
    "elasticfeats.sort(key=lambda x: abs(x[1]), reverse=True)\n",
    "pprint(elasticfeats[:15])"
   ]
  },
  {
   "cell_type": "code",
   "execution_count": 30,
   "metadata": {
    "collapsed": false
   },
   "outputs": [
    {
     "data": {
      "text/plain": [
       "{'16-24', 'distance', 'house2carpct', 'wzclass'}"
      ]
     },
     "execution_count": 30,
     "metadata": {},
     "output_type": "execute_result"
    }
   ],
   "source": [
    "elasticfeats_set = set(np.asarray(elasticfeats)[:10,0])\n",
    "randforestfeats_set = set(np.asarray(randforestfeats)[:10,0])\n",
    "#limefeats_set = set([i[0].split()[0] for i in limefeats[:10]]) # LIME is for individual predictions, so do not consider here\n",
    "#mutinfofeats_set = set(np.asarray(mutinfofeats)[:10,0])\n",
    "\n",
    "impfeats = randforestfeats_set.intersection(elasticfeats_set)\n",
    "#impfeats = impfeats.intersection(mutinfofeats_set)\n",
    "impfeats"
   ]
  },
  {
   "cell_type": "markdown",
   "metadata": {
    "collapsed": false
   },
   "source": [
    "for i in predictors:\n",
    "    sns.regplot(i, \"response\", data=df.iloc[trainidx, :])\n",
    "    plt.show()"
   ]
  },
  {
   "cell_type": "markdown",
   "metadata": {},
   "source": [
    "sns.pairplot(data=df.loc[trainidx, predictors])"
   ]
  }
 ],
 "metadata": {
  "kernelspec": {
   "display_name": "Python 3",
   "language": "python",
   "name": "python3"
  },
  "language_info": {
   "codemirror_mode": {
    "name": "ipython",
    "version": 3
   },
   "file_extension": ".py",
   "mimetype": "text/x-python",
   "name": "python",
   "nbconvert_exporter": "python",
   "pygments_lexer": "ipython3",
   "version": "3.5.2"
  }
 },
 "nbformat": 4,
 "nbformat_minor": 0
}
