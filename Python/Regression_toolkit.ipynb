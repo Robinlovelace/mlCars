{
 "cells": [
  {
   "cell_type": "code",
   "execution_count": 1,
   "metadata": {
    "collapsed": false
   },
   "outputs": [],
   "source": [
    "__author__ = \"Ilan Fridman Rojas\"\n",
    "\n",
    "import numpy as np\n",
    "import pandas as pd\n",
    "import sklearn as sk\n",
    "import matplotlib.pyplot as plt\n",
    "plt.style.use('ggplot')\n",
    "import os\n",
    "import seaborn as sns\n",
    "\n",
    "%matplotlib inline"
   ]
  },
  {
   "cell_type": "code",
   "execution_count": 2,
   "metadata": {
    "collapsed": false
   },
   "outputs": [
    {
     "data": {
      "text/plain": [
       "['evaluating-machine-learning-models.pdf',\n",
       " 'tree.dot',\n",
       " '__pycache__',\n",
       " 'tree.png',\n",
       " 'Deep_MLP.ipynb',\n",
       " 'LasagneUpdateRules_Feb_2017.py',\n",
       " '.ipynb_checkpoints',\n",
       " 'Rule_Extraction_w_pretraining.ipynb',\n",
       " 'Regression_toolkit.ipynb']"
      ]
     },
     "execution_count": 2,
     "metadata": {},
     "output_type": "execute_result"
    }
   ],
   "source": [
    "#os.chdir(\"/home/ilan/Desktop/Boris_proyecto\")\n",
    "os.listdir()"
   ]
  },
  {
   "cell_type": "code",
   "execution_count": 3,
   "metadata": {
    "collapsed": true
   },
   "outputs": [],
   "source": [
    "df = pd.read_csv(\"../data/wyflows_w_response_and_geo.csv\")"
   ]
  },
  {
   "cell_type": "code",
   "execution_count": 4,
   "metadata": {
    "collapsed": false
   },
   "outputs": [
    {
     "data": {
      "text/html": [
       "<div>\n",
       "<table border=\"1\" class=\"dataframe\">\n",
       "  <thead>\n",
       "    <tr style=\"text-align: right;\">\n",
       "      <th></th>\n",
       "      <th>homeMSOA</th>\n",
       "      <th>workMSOA</th>\n",
       "      <th>metro</th>\n",
       "      <th>train</th>\n",
       "      <th>bus</th>\n",
       "      <th>taxi</th>\n",
       "      <th>motorcycle</th>\n",
       "      <th>car</th>\n",
       "      <th>cycle</th>\n",
       "      <th>walk</th>\n",
       "      <th>...</th>\n",
       "      <th>unistudents</th>\n",
       "      <th>centheat</th>\n",
       "      <th>nrooms</th>\n",
       "      <th>wzclass</th>\n",
       "      <th>area</th>\n",
       "      <th>distance</th>\n",
       "      <th>disttrainstn</th>\n",
       "      <th>distcoachstn</th>\n",
       "      <th>distbusstop</th>\n",
       "      <th>distmway</th>\n",
       "    </tr>\n",
       "  </thead>\n",
       "  <tbody>\n",
       "    <tr>\n",
       "      <th>0</th>\n",
       "      <td>E02002183</td>\n",
       "      <td>E02002184</td>\n",
       "      <td>0</td>\n",
       "      <td>5</td>\n",
       "      <td>23</td>\n",
       "      <td>0</td>\n",
       "      <td>0</td>\n",
       "      <td>247</td>\n",
       "      <td>4</td>\n",
       "      <td>52</td>\n",
       "      <td>...</td>\n",
       "      <td>89</td>\n",
       "      <td>2528</td>\n",
       "      <td>5.9</td>\n",
       "      <td>4</td>\n",
       "      <td>25.099725</td>\n",
       "      <td>2.684270</td>\n",
       "      <td>0.437264</td>\n",
       "      <td>7.354263</td>\n",
       "      <td>0.021183</td>\n",
       "      <td>22.434402</td>\n",
       "    </tr>\n",
       "    <tr>\n",
       "      <th>1</th>\n",
       "      <td>E02002183</td>\n",
       "      <td>E02002185</td>\n",
       "      <td>0</td>\n",
       "      <td>2</td>\n",
       "      <td>0</td>\n",
       "      <td>0</td>\n",
       "      <td>0</td>\n",
       "      <td>13</td>\n",
       "      <td>0</td>\n",
       "      <td>1</td>\n",
       "      <td>...</td>\n",
       "      <td>89</td>\n",
       "      <td>2528</td>\n",
       "      <td>5.9</td>\n",
       "      <td>6</td>\n",
       "      <td>25.099725</td>\n",
       "      <td>7.265346</td>\n",
       "      <td>0.270787</td>\n",
       "      <td>7.354263</td>\n",
       "      <td>0.031054</td>\n",
       "      <td>18.741927</td>\n",
       "    </tr>\n",
       "    <tr>\n",
       "      <th>2</th>\n",
       "      <td>E02002183</td>\n",
       "      <td>E02002186</td>\n",
       "      <td>0</td>\n",
       "      <td>0</td>\n",
       "      <td>1</td>\n",
       "      <td>0</td>\n",
       "      <td>0</td>\n",
       "      <td>81</td>\n",
       "      <td>1</td>\n",
       "      <td>3</td>\n",
       "      <td>...</td>\n",
       "      <td>89</td>\n",
       "      <td>2528</td>\n",
       "      <td>5.9</td>\n",
       "      <td>6</td>\n",
       "      <td>25.099725</td>\n",
       "      <td>4.906847</td>\n",
       "      <td>1.636134</td>\n",
       "      <td>5.263695</td>\n",
       "      <td>0.483769</td>\n",
       "      <td>23.216051</td>\n",
       "    </tr>\n",
       "    <tr>\n",
       "      <th>3</th>\n",
       "      <td>E02002183</td>\n",
       "      <td>E02002187</td>\n",
       "      <td>0</td>\n",
       "      <td>0</td>\n",
       "      <td>0</td>\n",
       "      <td>0</td>\n",
       "      <td>0</td>\n",
       "      <td>11</td>\n",
       "      <td>0</td>\n",
       "      <td>1</td>\n",
       "      <td>...</td>\n",
       "      <td>89</td>\n",
       "      <td>2528</td>\n",
       "      <td>5.9</td>\n",
       "      <td>4</td>\n",
       "      <td>25.099725</td>\n",
       "      <td>6.938770</td>\n",
       "      <td>0.935954</td>\n",
       "      <td>6.985427</td>\n",
       "      <td>0.328198</td>\n",
       "      <td>18.379430</td>\n",
       "    </tr>\n",
       "    <tr>\n",
       "      <th>4</th>\n",
       "      <td>E02002183</td>\n",
       "      <td>E02002188</td>\n",
       "      <td>0</td>\n",
       "      <td>0</td>\n",
       "      <td>1</td>\n",
       "      <td>0</td>\n",
       "      <td>0</td>\n",
       "      <td>7</td>\n",
       "      <td>0</td>\n",
       "      <td>1</td>\n",
       "      <td>...</td>\n",
       "      <td>89</td>\n",
       "      <td>2528</td>\n",
       "      <td>5.9</td>\n",
       "      <td>5</td>\n",
       "      <td>25.099725</td>\n",
       "      <td>4.595884</td>\n",
       "      <td>2.604336</td>\n",
       "      <td>3.576567</td>\n",
       "      <td>0.699492</td>\n",
       "      <td>19.114812</td>\n",
       "    </tr>\n",
       "  </tbody>\n",
       "</table>\n",
       "<p>5 rows × 57 columns</p>\n",
       "</div>"
      ],
      "text/plain": [
       "    homeMSOA   workMSOA  metro  train  bus  taxi  motorcycle  car  cycle  \\\n",
       "0  E02002183  E02002184      0      5   23     0           0  247      4   \n",
       "1  E02002183  E02002185      0      2    0     0           0   13      0   \n",
       "2  E02002183  E02002186      0      0    1     0           0   81      1   \n",
       "3  E02002183  E02002187      0      0    0     0           0   11      0   \n",
       "4  E02002183  E02002188      0      0    1     0           0    7      0   \n",
       "\n",
       "   walk    ...      unistudents  centheat  nrooms  wzclass       area  \\\n",
       "0    52    ...               89      2528     5.9        4  25.099725   \n",
       "1     1    ...               89      2528     5.9        6  25.099725   \n",
       "2     3    ...               89      2528     5.9        6  25.099725   \n",
       "3     1    ...               89      2528     5.9        4  25.099725   \n",
       "4     1    ...               89      2528     5.9        5  25.099725   \n",
       "\n",
       "   distance  disttrainstn  distcoachstn  distbusstop   distmway  \n",
       "0  2.684270      0.437264      7.354263     0.021183  22.434402  \n",
       "1  7.265346      0.270787      7.354263     0.031054  18.741927  \n",
       "2  4.906847      1.636134      5.263695     0.483769  23.216051  \n",
       "3  6.938770      0.935954      6.985427     0.328198  18.379430  \n",
       "4  4.595884      2.604336      3.576567     0.699492  19.114812  \n",
       "\n",
       "[5 rows x 57 columns]"
      ]
     },
     "execution_count": 4,
     "metadata": {},
     "output_type": "execute_result"
    }
   ],
   "source": [
    "df.head()"
   ]
  },
  {
   "cell_type": "code",
   "execution_count": 5,
   "metadata": {
    "collapsed": false
   },
   "outputs": [],
   "source": [
    "df = df[df.npeople >= 10]"
   ]
  },
  {
   "cell_type": "code",
   "execution_count": 6,
   "metadata": {
    "collapsed": false
   },
   "outputs": [
    {
     "data": {
      "text/plain": [
       "13703"
      ]
     },
     "execution_count": 6,
     "metadata": {},
     "output_type": "execute_result"
    }
   ],
   "source": [
    "df.shape[0]"
   ]
  },
  {
   "cell_type": "code",
   "execution_count": 7,
   "metadata": {
    "collapsed": false
   },
   "outputs": [],
   "source": [
    "df = df.dropna()"
   ]
  },
  {
   "cell_type": "code",
   "execution_count": 8,
   "metadata": {
    "collapsed": false
   },
   "outputs": [
    {
     "data": {
      "text/plain": [
       "13703"
      ]
     },
     "execution_count": 8,
     "metadata": {},
     "output_type": "execute_result"
    }
   ],
   "source": [
    "df.shape[0]"
   ]
  },
  {
   "cell_type": "code",
   "execution_count": 9,
   "metadata": {
    "collapsed": false
   },
   "outputs": [],
   "source": [
    "#df.reset_index()\n",
    "df.index = list(range(df.shape[0]))"
   ]
  },
  {
   "cell_type": "code",
   "execution_count": 10,
   "metadata": {
    "collapsed": false
   },
   "outputs": [],
   "source": [
    "#df = df.rename(columns={'Nucleus or nucleic juncture':'Nucleus', 'Uttered beat\\nprominence':'Prominence', \\\n",
    "#                  'High boundary':'Upper_bound', 'Low\\nboundary':'Lower_bound', 'Fundamental frequency':'Fund_freq',\\\n",
    "#                  'Focal frequency':'Focal_freq', 'Event ID,\\nUtterance #':'Event_ID_Utterance'})\n",
    "#df.head()"
   ]
  },
  {
   "cell_type": "code",
   "execution_count": 11,
   "metadata": {
    "collapsed": false
   },
   "outputs": [
    {
     "data": {
      "text/plain": [
       "Index(['homeMSOA', 'workMSOA', 'metro', 'train', 'bus', 'taxi', 'motorcycle',\n",
       "       'car', 'cycle', 'walk', 'othertransp', 'npeople', '16-24', '25-34',\n",
       "       '35-49', '50-64', '65-74', '75+', 'male', 'female', 'housesw0car',\n",
       "       'housesw1car', 'housesw2car', 'housesw3car', 'housesw4ormorecar',\n",
       "       'econactiv', 'econinactiv', 'date', 'geography', 'vghealth', 'ghealth',\n",
       "       'fhealth', 'bhealth', 'vbhealth', 'white', 'mixed', 'asian', 'black',\n",
       "       'otherethn', 'noqual', 'aptshpqual', 'lev1qual', 'lev2qual', 'lev3qual',\n",
       "       'lev4qual', 'otherqual', 'schoolstudents', 'unistudents', 'centheat',\n",
       "       'nrooms', 'wzclass', 'area', 'distance', 'disttrainstn', 'distcoachstn',\n",
       "       'distbusstop', 'distmway'],\n",
       "      dtype='object')"
      ]
     },
     "execution_count": 11,
     "metadata": {},
     "output_type": "execute_result"
    }
   ],
   "source": [
    "df.columns"
   ]
  },
  {
   "cell_type": "markdown",
   "metadata": {
    "collapsed": false
   },
   "source": [
    "# In order to apply logit models etc we need to rescale the response to [0,1]\n",
    "from sklearn.preprocessing import MinMaxScaler\n",
    "\n",
    "yscaler = MinMaxScaler().fit(df.loc[:, \"response\"].values.reshape(-1,1))\n",
    "df.loc[:, \"response\"] = yscaler.transform(df.loc[:, \"response\"].values.reshape(-1,1))"
   ]
  },
  {
   "cell_type": "markdown",
   "metadata": {
    "collapsed": false
   },
   "source": [
    "df.loc[:, \"response\"].describe()"
   ]
  },
  {
   "cell_type": "markdown",
   "metadata": {
    "collapsed": false
   },
   "source": [
    "df.loc[:,\"response\"].hist()"
   ]
  },
  {
   "cell_type": "code",
   "execution_count": 12,
   "metadata": {
    "collapsed": false
   },
   "outputs": [],
   "source": [
    "Xfull = df.drop(['homeMSOA','workMSOA','geography','date','car','distance','npeople','metro','train','bus','taxi','motorcycle','cycle','walk','othertransp'], axis=1).values\n",
    "Yfull = df['car'].values\n",
    "\n",
    "weightsfull = df['npeople'].values\n",
    "\n",
    "predictors = list(df.drop(['homeMSOA','workMSOA','geography','date','car','distance','npeople','metro','train','bus','taxi','motorcycle','cycle','walk','othertransp'], axis=1).columns)"
   ]
  },
  {
   "cell_type": "code",
   "execution_count": 13,
   "metadata": {
    "collapsed": true
   },
   "outputs": [],
   "source": [
    "# TO PREDICT CAR FRACTION DIRECTLY, INCLUDING DISTANCE AS A COVARIATE\n",
    "#Xfull = df.drop(['homeMSOA','workMSOA','car','response','npeople','workhome','metro','train','bus','taxi','motorcycle','cycle','walk','othertransp'], axis=1).values\n",
    "#Yfull = df['car'].values\n",
    "\n",
    "#predictors = list(df.drop(['homeMSOA','workMSOA','car','response','npeople','workhome','metro','train','bus','taxi','motorcycle','cycle','walk','othertransp'], axis=1).columns)"
   ]
  },
  {
   "cell_type": "code",
   "execution_count": 14,
   "metadata": {
    "collapsed": false
   },
   "outputs": [
    {
     "data": {
      "text/plain": [
       "['16-24',\n",
       " '25-34',\n",
       " '35-49',\n",
       " '50-64',\n",
       " '65-74',\n",
       " '75+',\n",
       " 'male',\n",
       " 'female',\n",
       " 'housesw0car',\n",
       " 'housesw1car',\n",
       " 'housesw2car',\n",
       " 'housesw3car',\n",
       " 'housesw4ormorecar',\n",
       " 'econactiv',\n",
       " 'econinactiv',\n",
       " 'vghealth',\n",
       " 'ghealth',\n",
       " 'fhealth',\n",
       " 'bhealth',\n",
       " 'vbhealth',\n",
       " 'white',\n",
       " 'mixed',\n",
       " 'asian',\n",
       " 'black',\n",
       " 'otherethn',\n",
       " 'noqual',\n",
       " 'aptshpqual',\n",
       " 'lev1qual',\n",
       " 'lev2qual',\n",
       " 'lev3qual',\n",
       " 'lev4qual',\n",
       " 'otherqual',\n",
       " 'schoolstudents',\n",
       " 'unistudents',\n",
       " 'centheat',\n",
       " 'nrooms',\n",
       " 'wzclass',\n",
       " 'area',\n",
       " 'disttrainstn',\n",
       " 'distcoachstn',\n",
       " 'distbusstop',\n",
       " 'distmway']"
      ]
     },
     "execution_count": 14,
     "metadata": {},
     "output_type": "execute_result"
    }
   ],
   "source": [
    "predictors"
   ]
  },
  {
   "cell_type": "code",
   "execution_count": 15,
   "metadata": {
    "collapsed": false
   },
   "outputs": [],
   "source": [
    "# DO NOT USE THE FULL DATASET, SPLIT OFF A TRAINING SET BEFORE GOING FURTHER, AND NEVER USE THE FULL SET\n",
    "\n",
    "import math\n",
    "\n",
    "idx = list(range(Xfull.shape[0]))\n",
    "np.random.seed(seed=5)\n",
    "np.random.shuffle(idx)\n",
    "np.random.seed(seed=None)\n",
    "\n",
    "trainsetsize = math.floor(Xfull.shape[0]/2)\n",
    "trainidx = idx[:trainsetsize]\n",
    "\n",
    "X, Y, weights = Xfull[trainidx,:], Yfull[trainidx], weightsfull[trainidx]"
   ]
  },
  {
   "cell_type": "code",
   "execution_count": 16,
   "metadata": {
    "collapsed": false
   },
   "outputs": [],
   "source": [
    "#from sklearn.model_selection import StratifiedKFold\n",
    "from sklearn.model_selection import KFold\n",
    "\n",
    "#cross_valsets = StratifiedKFold(n_splits=2)\n",
    "cross_valsets = KFold(n_splits=10)\n",
    "for train_index, test_index in cross_valsets.split(X, Y):\n",
    "    #print(\"TRAIN:\", train_index, \"TEST:\", test_index)\n",
    "    X_train, X_test = X[train_index], X[test_index]\n",
    "    Y_train, Y_test = Y[train_index], Y[test_index]"
   ]
  },
  {
   "cell_type": "code",
   "execution_count": 17,
   "metadata": {
    "collapsed": false
   },
   "outputs": [],
   "source": [
    "from sklearn.preprocessing import StandardScaler\n",
    "\n",
    "scaler = StandardScaler().fit(X_train)\n",
    "X_train = scaler.transform(X_train)\n",
    "X_test = scaler.transform(X_test)\n",
    "\n",
    "# We use X = X_train + X_test for the cross-validation runs, so scale X too (note: X is already a training set)\n",
    "X = scaler.transform(X)"
   ]
  },
  {
   "cell_type": "code",
   "execution_count": 18,
   "metadata": {
    "collapsed": false
   },
   "outputs": [
    {
     "name": "stderr",
     "output_type": "stream",
     "text": [
      "/usr/local/lib/python3.5/dist-packages/sklearn/neural_network/multilayer_perceptron.py:563: ConvergenceWarning: Stochastic Optimizer: Maximum iterations reached and the optimization hasn't converged yet.\n",
      "  % (), ConvergenceWarning)\n",
      "/usr/local/lib/python3.5/dist-packages/sklearn/neural_network/multilayer_perceptron.py:563: ConvergenceWarning: Stochastic Optimizer: Maximum iterations reached and the optimization hasn't converged yet.\n",
      "  % (), ConvergenceWarning)\n"
     ]
    },
    {
     "name": "stdout",
     "output_type": "stream",
     "text": [
      "[['MLP', 0.95480664571211638],\n",
      " ['XGB', 0.95221782699878565],\n",
      " ['RandomForest', 0.94110527517837894],\n",
      " ['ExtraTrees', 0.93660428365175041],\n",
      " ['ElasticNetCV', 0.92687784055607514],\n",
      " ['PassiveAggressive', 0.88703967983492982],\n",
      " ['DecisionTrees', 0.87369739490295328],\n",
      " ['TheilSen', 0.85617625169566003],\n",
      " ['KNeighbors', 0.8427571341143999],\n",
      " ['RANSAC', 0.77661470618074036],\n",
      " ['--MEAN MODEL--', 0.0],\n",
      " ['Dummy', -0.00037522330595122594],\n",
      " ['SGD', -1.2113190001068818e+23]]\n"
     ]
    }
   ],
   "source": [
    "from sklearn.model_selection import cross_val_score\n",
    "\n",
    "from pprint import pprint\n",
    "\n",
    "from sklearn.metrics import mean_squared_error\n",
    "from sklearn.metrics import r2_score\n",
    "\n",
    "from sklearn.dummy import DummyRegressor\n",
    "#from sklearn.linear_model import LogisticRegressionCV # would require Min-Max scaling of response variable\n",
    "#from sklearn.ensemble import AdaBoostRegressor # Boosted decision trees, superseded by xgboost?\n",
    "#from sklearn.ensemble import GradientBoostingRegressor # Boosted decision trees, superseded by xgboost?\n",
    "#from sklearn.ensemble import BaggingRegressor # needs base clasifier\n",
    "from sklearn.ensemble import ExtraTreesRegressor\n",
    "from sklearn.tree import DecisionTreeRegressor\n",
    "from sklearn.ensemble import RandomForestRegressor\n",
    "#from sklearn.gaussian_process import GaussianProcessRegressor\n",
    "from sklearn.linear_model import ElasticNetCV\n",
    "from sklearn.linear_model import PassiveAggressiveRegressor\n",
    "from sklearn.linear_model import RANSACRegressor\n",
    "from sklearn.linear_model import SGDRegressor\n",
    "from sklearn.linear_model import TheilSenRegressor\n",
    "from sklearn.neighbors import KNeighborsRegressor\n",
    "from sklearn.neighbors import RadiusNeighborsRegressor\n",
    "from sklearn.neural_network import MLPRegressor\n",
    "\n",
    "import xgboost as xgb\n",
    "\n",
    "result = []\n",
    "\n",
    "clf = DummyRegressor()\n",
    "#scores = cross_val_score(clf, X, Y, n_jobs=4, scoring='neg_mean_squared_error')\n",
    "scores = cross_val_score(clf, X, Y, n_jobs=4, scoring='r2')\n",
    "result.append([\"Dummy\", scores.mean()])\n",
    "\n",
    "clf = ExtraTreesRegressor(n_jobs=4)\n",
    "#scores = cross_val_score(clf, X, Y, scoring='neg_mean_squared_error')\n",
    "scores = cross_val_score(clf, X, Y, scoring='r2')\n",
    "result.append([\"ExtraTrees\", scores.mean()])\n",
    "\n",
    "clf = DecisionTreeRegressor()\n",
    "#scores = cross_val_score(clf, X, Y, n_jobs=4, scoring='neg_mean_squared_error')\n",
    "scores = cross_val_score(clf, X, Y, n_jobs=4, scoring='r2')\n",
    "result.append([\"DecisionTrees\", scores.mean()])\n",
    "\n",
    "clf = RandomForestRegressor(n_jobs=4)\n",
    "#scores = cross_val_score(clf, X, Y, scoring='neg_mean_squared_error')\n",
    "scores = cross_val_score(clf, X, Y, scoring='r2')\n",
    "result.append([\"RandomForest\", scores.mean()])\n",
    "\n",
    "#  THIS MODEL REQUIRES SO MUCH RAM IT WILL CRASH YOUR COMPUTER INSTANTLY\n",
    "#clf = GaussianProcessRegressor()\n",
    "#clf = clf.fit(X_train, Y_train)\n",
    "#Y_pred = clf.predict(X_test)\n",
    "#scores = mean_squared_error(Y_test, Y_pred)\n",
    "#result.append([\"GaussianProcess\", scores.mean()])\n",
    "\n",
    "clf = ElasticNetCV(n_jobs=4)\n",
    "#scores = cross_val_score(clf, X, Y, scoring='neg_mean_squared_error')\n",
    "scores = cross_val_score(clf, X, Y, scoring='r2')\n",
    "result.append([\"ElasticNetCV\", scores.mean()])\n",
    "\n",
    "clf = PassiveAggressiveRegressor()\n",
    "#scores = cross_val_score(clf, X, Y, n_jobs=4, scoring='neg_mean_squared_error')\n",
    "scores = cross_val_score(clf, X, Y, n_jobs=4, scoring='r2')\n",
    "result.append([\"PassiveAggressive\", scores.mean()])\n",
    "\n",
    "clf = RANSACRegressor()\n",
    "#scores = cross_val_score(clf, X, Y, n_jobs=4, scoring='neg_mean_squared_error')\n",
    "scores = cross_val_score(clf, X, Y, n_jobs=4, scoring='r2')\n",
    "result.append([\"RANSAC\", scores.mean()])\n",
    "\n",
    "clf = SGDRegressor(learning_rate='optimal')\n",
    "#scores = cross_val_score(clf, X, Y, n_jobs=4, scoring='neg_mean_squared_error')\n",
    "scores = cross_val_score(clf, X, Y, n_jobs=4, scoring='r2')\n",
    "result.append([\"SGD\", scores.mean()])\n",
    "\n",
    "clf = TheilSenRegressor(n_jobs=4)\n",
    "#scores = cross_val_score(clf, X, Y, scoring='neg_mean_squared_error')\n",
    "scores = cross_val_score(clf, X, Y, scoring='r2')\n",
    "result.append([\"TheilSen\", scores.mean()])\n",
    "\n",
    "clf = KNeighborsRegressor(n_jobs=4)\n",
    "#scores = cross_val_score(clf, X, Y, scoring='neg_mean_squared_error')\n",
    "scores = cross_val_score(clf, X, Y, scoring='r2')\n",
    "result.append([\"KNeighbors\", scores.mean()])\n",
    "\n",
    "#clf = RadiusNeighborsRegressor(n_jobs=4)\n",
    "#clf = clf.fit(X_train, Y_train)\n",
    "#Y_pred = clf.predict(X_test)\n",
    "#scores = mean_squared_error(Y_test, Y_pred)\n",
    "#result.append([\"RadiusNeighbors\", scores.mean()])\n",
    "\n",
    "clf = MLPRegressor()\n",
    "#scores = cross_val_score(clf, X, Y, n_jobs=4, scoring='neg_mean_squared_error')\n",
    "scores = cross_val_score(clf, X, Y, n_jobs=4, scoring='r2')\n",
    "result.append([\"MLP\", scores.mean()])\n",
    "\n",
    "clf = xgb.XGBRegressor()\n",
    "#scores = cross_val_score(clf, X, Y, scoring='neg_mean_squared_error')\n",
    "scores = cross_val_score(clf, X, Y, scoring='r2')\n",
    "result.append([\"XGB\", scores.mean()])\n",
    "\n",
    "# Model which simply always predicts the sample mean of the response\n",
    "#result.append([\"--MEAN MODEL--\", mean_squared_error(Y_test, np.repeat(Y_test.mean(), Y_test.shape[0]))])\n",
    "result.append([\"--MEAN MODEL--\", r2_score(Y_test, np.repeat(Y_test.mean(), Y_test.shape[0]))])\n",
    "\n",
    "result.sort(key=lambda x: x[1], reverse=True)\n",
    "pprint(result)"
   ]
  },
  {
   "cell_type": "code",
   "execution_count": 19,
   "metadata": {
    "collapsed": true
   },
   "outputs": [],
   "source": [
    "# HOW TO PREDICT FROM A MODEL\n",
    "#clf = xgb.XGBRegressor()\n",
    "#clf = clf.fit(X_train, Y_train)\n",
    "#Y_pred = clf.predict(X_test)\n",
    "#scores = mean_squared_error(Y_test, Y_pred)"
   ]
  },
  {
   "cell_type": "code",
   "execution_count": 20,
   "metadata": {
    "collapsed": false
   },
   "outputs": [],
   "source": [
    "#from sklearn.feature_selection import f_regression\n",
    "#from sklearn.feature_selection import mutual_info_regression\n",
    "\n",
    "#f_regression(X, Y)\n",
    "\n",
    "#mutinfo = mutual_info_regression(X, Y)"
   ]
  },
  {
   "cell_type": "code",
   "execution_count": 21,
   "metadata": {
    "collapsed": false
   },
   "outputs": [],
   "source": [
    "#mutinfofeats = []\n",
    "#for i, row in enumerate(mutinfo):\n",
    "#    mutinfofeats.append([predictors[i], row])\n",
    "    \n",
    "#mutinfofeats.sort(key=lambda x: x[1], reverse=True)\n",
    "#pprint(mutinfofeats[:15])"
   ]
  },
  {
   "cell_type": "code",
   "execution_count": 22,
   "metadata": {
    "collapsed": false
   },
   "outputs": [
    {
     "name": "stdout",
     "output_type": "stream",
     "text": [
      "0.861981230103\n"
     ]
    },
    {
     "data": {
      "image/png": "[encoded data removed]",
      "text/plain": [
       "<IPython.core.display.Image object>"
      ]
     },
     "execution_count": 22,
     "metadata": {},
     "output_type": "execute_result"
    }
   ],
   "source": [
    "from sklearn import tree\n",
    "\n",
    "clf = tree.DecisionTreeRegressor(max_depth=3)\n",
    "clf = clf.fit(X_train, Y_train)\n",
    "Y_pred = clf.predict(X_test)\n",
    "print(r2_score(Y_test,Y_pred))\n",
    "\n",
    "tree.export_graphviz(clf, out_file='tree.dot')\n",
    "\n",
    "# sudo apt-get install graphviz\n",
    "!dot -Tpng tree.dot -o tree.png\n",
    "\n",
    "from IPython.display import Image\n",
    "Image(filename='tree.png') "
   ]
  },
  {
   "cell_type": "code",
   "execution_count": 23,
   "metadata": {
    "collapsed": false
   },
   "outputs": [
    {
     "name": "stdout",
     "output_type": "stream",
     "text": [
      "Feature ranking:\n",
      "1. 35-49 (0.808210)\n",
      "2. 50-64 (0.118657)\n",
      "3. male (0.013556)\n",
      "4. housesw3car (0.005312)\n",
      "5. 16-24 (0.005245)\n",
      "6. female (0.004591)\n",
      "7. housesw2car (0.003787)\n",
      "8. distmway (0.003202)\n",
      "9. 25-34 (0.002731)\n",
      "10. distcoachstn (0.002575)\n",
      "11. nrooms (0.002313)\n",
      "12. lev3qual (0.001963)\n",
      "13. black (0.001673)\n",
      "14. area (0.001672)\n",
      "15. housesw4ormorecar (0.001558)\n",
      "16. lev4qual (0.001533)\n",
      "17. disttrainstn (0.001518)\n",
      "18. 65-74 (0.001476)\n",
      "19. mixed (0.001321)\n",
      "20. fhealth (0.001203)\n",
      "21. distbusstop (0.001196)\n",
      "22. wzclass (0.001135)\n",
      "23. vghealth (0.001134)\n",
      "24. housesw0car (0.001123)\n",
      "25. lev2qual (0.001102)\n",
      "26. schoolstudents (0.000977)\n",
      "27. asian (0.000957)\n",
      "28. aptshpqual (0.000909)\n",
      "29. lev1qual (0.000792)\n",
      "30. econactiv (0.000717)\n",
      "31. econinactiv (0.000695)\n",
      "32. otherethn (0.000691)\n",
      "33. housesw1car (0.000663)\n",
      "34. otherqual (0.000609)\n",
      "35. ghealth (0.000581)\n",
      "36. centheat (0.000490)\n",
      "37. noqual (0.000464)\n",
      "38. vbhealth (0.000429)\n",
      "39. white (0.000415)\n",
      "40. unistudents (0.000322)\n",
      "41. bhealth (0.000322)\n",
      "42. 75+ (0.000179)\n"
     ]
    },
    {
     "data": {
      "image/png": "[encoded data removed]",
      "text/plain": [
       "<matplotlib.figure.Figure at 0x7f5a72443550>"
      ]
     },
     "metadata": {},
     "output_type": "display_data"
    }
   ],
   "source": [
    "clf = RandomForestRegressor(n_jobs=4)\n",
    "clf = clf.fit(X_train, Y_train)\n",
    "Y_pred = clf.predict(X_test)\n",
    "\n",
    "scores = r2_score(Y_test, Y_pred)\n",
    "\n",
    "importances = clf.feature_importances_\n",
    "std = np.std([tree.feature_importances_ for tree in clf.estimators_],\n",
    "             axis=0)\n",
    "indices = np.argsort(importances)[::-1]\n",
    "\n",
    "# Print the feature ranking\n",
    "print(\"Feature ranking:\")\n",
    "\n",
    "#for f in range(X.shape[1]):\n",
    "#    print(\"%d. feature %d (%f)\" % (f + 1, indices[f], importances[indices[f]]))\n",
    "\n",
    "for f in range(X.shape[1]):\n",
    "    print(\"%d. %s (%f)\" % (f + 1, predictors[indices[f]], importances[indices[f]]))\n",
    "    \n",
    "randforestfeats = [[predictors[indices[f]], importances[indices[f]]] for f in range(X.shape[1])]\n",
    "\n",
    "# Plot the feature importances of the forest\n",
    "plt.figure()\n",
    "plt.title(\"Feature importances\")\n",
    "plt.bar(range(X.shape[1]), importances[indices],\n",
    "       color=\"r\", yerr=std[indices], align=\"center\")\n",
    "plt.xticks(range(X.shape[1]), np.asarray(predictors)[indices], rotation=\"vertical\")\n",
    "plt.xlim([-1, X.shape[1]])\n",
    "plt.show()"
   ]
  },
  {
   "cell_type": "markdown",
   "metadata": {
    "collapsed": false
   },
   "source": [
    "import seaborn as sns\n",
    "\n",
    "#sns.boxplot(x=\"IPA tags\", y=\"Prominence\", data=df_sub)\n",
    "#sns.boxplot(x=\"IPA tags\", y=\"Prominence\", data=df_sub)\n",
    "\n",
    "#for i in predictors:\n",
    "#    sns.boxplot(x=\"car\", y=i, data=df.iloc[trainidx,:])\n",
    "#    plt.show()\n",
    "\n",
    "\n",
    "sns.pairplot(data=df.loc[trainidx, predictors])"
   ]
  },
  {
   "cell_type": "code",
   "execution_count": 24,
   "metadata": {
    "collapsed": false
   },
   "outputs": [
    {
     "name": "stdout",
     "output_type": "stream",
     "text": [
      "Iteration: \t1 / 100\n",
      "Confirmed: \t0\n",
      "Tentative: \t42\n",
      "Rejected: \t0\n",
      "Iteration: \t2 / 100\n",
      "Confirmed: \t0\n",
      "Tentative: \t42\n",
      "Rejected: \t0\n",
      "Iteration: \t3 / 100\n",
      "Confirmed: \t0\n",
      "Tentative: \t42\n",
      "Rejected: \t0\n",
      "Iteration: \t4 / 100\n",
      "Confirmed: \t0\n",
      "Tentative: \t42\n",
      "Rejected: \t0\n",
      "Iteration: \t5 / 100\n",
      "Confirmed: \t0\n",
      "Tentative: \t42\n",
      "Rejected: \t0\n",
      "Iteration: \t6 / 100\n",
      "Confirmed: \t0\n",
      "Tentative: \t42\n",
      "Rejected: \t0\n",
      "Iteration: \t7 / 100\n",
      "Confirmed: \t0\n",
      "Tentative: \t42\n",
      "Rejected: \t0\n",
      "Iteration: \t8 / 100\n",
      "Confirmed: \t7\n",
      "Tentative: \t8\n",
      "Rejected: \t27\n",
      "Iteration: \t9 / 100\n",
      "Confirmed: \t7\n",
      "Tentative: \t8\n",
      "Rejected: \t27\n",
      "Iteration: \t10 / 100\n",
      "Confirmed: \t7\n",
      "Tentative: \t8\n",
      "Rejected: \t27\n",
      "Iteration: \t11 / 100\n",
      "Confirmed: \t7\n",
      "Tentative: \t8\n",
      "Rejected: \t27\n",
      "Iteration: \t12 / 100\n",
      "Confirmed: \t10\n",
      "Tentative: \t5\n",
      "Rejected: \t27\n",
      "Iteration: \t13 / 100\n",
      "Confirmed: \t10\n",
      "Tentative: \t5\n",
      "Rejected: \t27\n",
      "Iteration: \t14 / 100\n",
      "Confirmed: \t10\n",
      "Tentative: \t5\n",
      "Rejected: \t27\n",
      "Iteration: \t15 / 100\n",
      "Confirmed: \t10\n",
      "Tentative: \t5\n",
      "Rejected: \t27\n",
      "Iteration: \t16 / 100\n",
      "Confirmed: \t10\n",
      "Tentative: \t5\n",
      "Rejected: \t27\n",
      "Iteration: \t17 / 100\n",
      "Confirmed: \t10\n",
      "Tentative: \t5\n",
      "Rejected: \t27\n",
      "Iteration: \t18 / 100\n",
      "Confirmed: \t10\n",
      "Tentative: \t5\n",
      "Rejected: \t27\n",
      "Iteration: \t19 / 100\n",
      "Confirmed: \t11\n",
      "Tentative: \t4\n",
      "Rejected: \t27\n",
      "Iteration: \t20 / 100\n",
      "Confirmed: \t11\n",
      "Tentative: \t4\n",
      "Rejected: \t27\n",
      "Iteration: \t21 / 100\n",
      "Confirmed: \t11\n",
      "Tentative: \t4\n",
      "Rejected: \t27\n",
      "Iteration: \t22 / 100\n",
      "Confirmed: \t11\n",
      "Tentative: \t4\n",
      "Rejected: \t27\n",
      "Iteration: \t23 / 100\n",
      "Confirmed: \t11\n",
      "Tentative: \t4\n",
      "Rejected: \t27\n",
      "Iteration: \t24 / 100\n",
      "Confirmed: \t11\n",
      "Tentative: \t4\n",
      "Rejected: \t27\n",
      "Iteration: \t25 / 100\n",
      "Confirmed: \t11\n",
      "Tentative: \t4\n",
      "Rejected: \t27\n",
      "Iteration: \t26 / 100\n",
      "Confirmed: \t11\n",
      "Tentative: \t4\n",
      "Rejected: \t27\n",
      "Iteration: \t27 / 100\n",
      "Confirmed: \t11\n",
      "Tentative: \t4\n",
      "Rejected: \t27\n",
      "Iteration: \t28 / 100\n",
      "Confirmed: \t11\n",
      "Tentative: \t4\n",
      "Rejected: \t27\n",
      "Iteration: \t29 / 100\n",
      "Confirmed: \t12\n",
      "Tentative: \t3\n",
      "Rejected: \t27\n",
      "Iteration: \t30 / 100\n",
      "Confirmed: \t12\n",
      "Tentative: \t3\n",
      "Rejected: \t27\n",
      "Iteration: \t31 / 100\n",
      "Confirmed: \t12\n",
      "Tentative: \t3\n",
      "Rejected: \t27\n",
      "Iteration: \t32 / 100\n",
      "Confirmed: \t12\n",
      "Tentative: \t3\n",
      "Rejected: \t27\n",
      "Iteration: \t33 / 100\n",
      "Confirmed: \t12\n",
      "Tentative: \t3\n",
      "Rejected: \t27\n",
      "Iteration: \t34 / 100\n",
      "Confirmed: \t12\n",
      "Tentative: \t3\n",
      "Rejected: \t27\n",
      "Iteration: \t35 / 100\n",
      "Confirmed: \t12\n",
      "Tentative: \t3\n",
      "Rejected: \t27\n",
      "Iteration: \t36 / 100\n",
      "Confirmed: \t12\n",
      "Tentative: \t3\n",
      "Rejected: \t27\n",
      "Iteration: \t37 / 100\n",
      "Confirmed: \t12\n",
      "Tentative: \t3\n",
      "Rejected: \t27\n",
      "Iteration: \t38 / 100\n",
      "Confirmed: \t12\n",
      "Tentative: \t3\n",
      "Rejected: \t27\n",
      "Iteration: \t39 / 100\n",
      "Confirmed: \t12\n",
      "Tentative: \t3\n",
      "Rejected: \t27\n",
      "Iteration: \t40 / 100\n",
      "Confirmed: \t12\n",
      "Tentative: \t3\n",
      "Rejected: \t27\n",
      "Iteration: \t41 / 100\n",
      "Confirmed: \t12\n",
      "Tentative: \t3\n",
      "Rejected: \t27\n",
      "Iteration: \t42 / 100\n",
      "Confirmed: \t12\n",
      "Tentative: \t3\n",
      "Rejected: \t27\n",
      "Iteration: \t43 / 100\n",
      "Confirmed: \t12\n",
      "Tentative: \t3\n",
      "Rejected: \t27\n",
      "Iteration: \t44 / 100\n",
      "Confirmed: \t12\n",
      "Tentative: \t3\n",
      "Rejected: \t27\n",
      "Iteration: \t45 / 100\n",
      "Confirmed: \t12\n",
      "Tentative: \t3\n",
      "Rejected: \t27\n",
      "Iteration: \t46 / 100\n",
      "Confirmed: \t12\n",
      "Tentative: \t3\n",
      "Rejected: \t27\n",
      "Iteration: \t47 / 100\n",
      "Confirmed: \t12\n",
      "Tentative: \t3\n",
      "Rejected: \t27\n",
      "Iteration: \t48 / 100\n",
      "Confirmed: \t12\n",
      "Tentative: \t3\n",
      "Rejected: \t27\n",
      "Iteration: \t49 / 100\n",
      "Confirmed: \t12\n",
      "Tentative: \t3\n",
      "Rejected: \t27\n",
      "Iteration: \t50 / 100\n",
      "Confirmed: \t12\n",
      "Tentative: \t3\n",
      "Rejected: \t27\n",
      "Iteration: \t51 / 100\n",
      "Confirmed: \t12\n",
      "Tentative: \t3\n",
      "Rejected: \t27\n",
      "Iteration: \t52 / 100\n",
      "Confirmed: \t12\n",
      "Tentative: \t3\n",
      "Rejected: \t27\n",
      "Iteration: \t53 / 100\n",
      "Confirmed: \t12\n",
      "Tentative: \t3\n",
      "Rejected: \t27\n",
      "Iteration: \t54 / 100\n",
      "Confirmed: \t12\n",
      "Tentative: \t3\n",
      "Rejected: \t27\n",
      "Iteration: \t55 / 100\n",
      "Confirmed: \t12\n",
      "Tentative: \t3\n",
      "Rejected: \t27\n",
      "Iteration: \t56 / 100\n",
      "Confirmed: \t12\n",
      "Tentative: \t3\n",
      "Rejected: \t27\n",
      "Iteration: \t57 / 100\n",
      "Confirmed: \t12\n",
      "Tentative: \t3\n",
      "Rejected: \t27\n",
      "Iteration: \t58 / 100\n",
      "Confirmed: \t12\n",
      "Tentative: \t3\n",
      "Rejected: \t27\n",
      "Iteration: \t59 / 100\n",
      "Confirmed: \t12\n",
      "Tentative: \t3\n",
      "Rejected: \t27\n",
      "Iteration: \t60 / 100\n",
      "Confirmed: \t12\n",
      "Tentative: \t3\n",
      "Rejected: \t27\n",
      "Iteration: \t61 / 100\n",
      "Confirmed: \t12\n",
      "Tentative: \t3\n",
      "Rejected: \t27\n",
      "Iteration: \t62 / 100\n",
      "Confirmed: \t12\n",
      "Tentative: \t3\n",
      "Rejected: \t27\n",
      "Iteration: \t63 / 100\n",
      "Confirmed: \t12\n",
      "Tentative: \t3\n",
      "Rejected: \t27\n",
      "Iteration: \t64 / 100\n",
      "Confirmed: \t12\n",
      "Tentative: \t3\n",
      "Rejected: \t27\n",
      "Iteration: \t65 / 100\n",
      "Confirmed: \t12\n",
      "Tentative: \t3\n",
      "Rejected: \t27\n",
      "Iteration: \t66 / 100\n",
      "Confirmed: \t12\n",
      "Tentative: \t3\n",
      "Rejected: \t27\n",
      "Iteration: \t67 / 100\n",
      "Confirmed: \t12\n",
      "Tentative: \t3\n",
      "Rejected: \t27\n",
      "Iteration: \t68 / 100\n",
      "Confirmed: \t12\n",
      "Tentative: \t3\n",
      "Rejected: \t27\n",
      "Iteration: \t69 / 100\n",
      "Confirmed: \t12\n",
      "Tentative: \t3\n",
      "Rejected: \t27\n",
      "Iteration: \t70 / 100\n",
      "Confirmed: \t12\n",
      "Tentative: \t3\n",
      "Rejected: \t27\n",
      "Iteration: \t71 / 100\n",
      "Confirmed: \t12\n",
      "Tentative: \t3\n",
      "Rejected: \t27\n",
      "Iteration: \t72 / 100\n",
      "Confirmed: \t12\n",
      "Tentative: \t3\n",
      "Rejected: \t27\n",
      "Iteration: \t73 / 100\n",
      "Confirmed: \t12\n",
      "Tentative: \t3\n",
      "Rejected: \t27\n",
      "Iteration: \t74 / 100\n",
      "Confirmed: \t12\n",
      "Tentative: \t3\n",
      "Rejected: \t27\n",
      "Iteration: \t75 / 100\n",
      "Confirmed: \t13\n",
      "Tentative: \t2\n",
      "Rejected: \t27\n",
      "Iteration: \t76 / 100\n",
      "Confirmed: \t13\n",
      "Tentative: \t2\n",
      "Rejected: \t27\n",
      "Iteration: \t77 / 100\n",
      "Confirmed: \t13\n",
      "Tentative: \t2\n",
      "Rejected: \t27\n",
      "Iteration: \t78 / 100\n",
      "Confirmed: \t13\n",
      "Tentative: \t2\n",
      "Rejected: \t27\n",
      "Iteration: \t79 / 100\n",
      "Confirmed: \t13\n",
      "Tentative: \t2\n",
      "Rejected: \t27\n",
      "Iteration: \t80 / 100\n",
      "Confirmed: \t13\n",
      "Tentative: \t2\n",
      "Rejected: \t27\n",
      "Iteration: \t81 / 100\n",
      "Confirmed: \t13\n",
      "Tentative: \t2\n",
      "Rejected: \t27\n",
      "Iteration: \t82 / 100\n",
      "Confirmed: \t13\n",
      "Tentative: \t2\n",
      "Rejected: \t27\n",
      "Iteration: \t83 / 100\n",
      "Confirmed: \t13\n",
      "Tentative: \t2\n",
      "Rejected: \t27\n",
      "Iteration: \t84 / 100\n",
      "Confirmed: \t13\n",
      "Tentative: \t2\n",
      "Rejected: \t27\n",
      "Iteration: \t85 / 100\n",
      "Confirmed: \t13\n",
      "Tentative: \t2\n",
      "Rejected: \t27\n",
      "Iteration: \t86 / 100\n",
      "Confirmed: \t13\n",
      "Tentative: \t2\n",
      "Rejected: \t27\n",
      "Iteration: \t87 / 100\n",
      "Confirmed: \t13\n",
      "Tentative: \t2\n",
      "Rejected: \t27\n",
      "Iteration: \t88 / 100\n",
      "Confirmed: \t13\n",
      "Tentative: \t2\n",
      "Rejected: \t27\n",
      "Iteration: \t89 / 100\n",
      "Confirmed: \t13\n",
      "Tentative: \t2\n",
      "Rejected: \t27\n",
      "Iteration: \t90 / 100\n",
      "Confirmed: \t13\n",
      "Tentative: \t2\n",
      "Rejected: \t27\n",
      "Iteration: \t91 / 100\n",
      "Confirmed: \t13\n",
      "Tentative: \t2\n",
      "Rejected: \t27\n",
      "Iteration: \t92 / 100\n",
      "Confirmed: \t13\n",
      "Tentative: \t2\n",
      "Rejected: \t27\n",
      "Iteration: \t93 / 100\n",
      "Confirmed: \t13\n",
      "Tentative: \t2\n",
      "Rejected: \t27\n",
      "Iteration: \t94 / 100\n",
      "Confirmed: \t13\n",
      "Tentative: \t2\n",
      "Rejected: \t27\n",
      "Iteration: \t95 / 100\n",
      "Confirmed: \t13\n",
      "Tentative: \t2\n",
      "Rejected: \t27\n",
      "Iteration: \t96 / 100\n",
      "Confirmed: \t13\n",
      "Tentative: \t2\n",
      "Rejected: \t27\n",
      "Iteration: \t97 / 100\n",
      "Confirmed: \t13\n",
      "Tentative: \t2\n",
      "Rejected: \t27\n",
      "Iteration: \t98 / 100\n",
      "Confirmed: \t13\n",
      "Tentative: \t2\n",
      "Rejected: \t27\n",
      "Iteration: \t99 / 100\n",
      "Confirmed: \t13\n",
      "Tentative: \t2\n",
      "Rejected: \t27\n",
      "\n",
      "\n",
      "BorutaPy finished running.\n",
      "\n",
      "Iteration: \t100 / 100\n",
      "Confirmed: \t13\n",
      "Tentative: \t0\n",
      "Rejected: \t27\n"
     ]
    },
    {
     "data": {
      "text/plain": [
       "BorutaPy(alpha=0.05,\n",
       "     estimator=RandomForestRegressor(bootstrap=True, criterion='mse', max_depth=None,\n",
       "           max_features='auto', max_leaf_nodes=None,\n",
       "           min_impurity_split=1e-07, min_samples_leaf=1,\n",
       "           min_samples_split=2, min_weight_fraction_leaf=0.0,\n",
       "           n_estimators=54, n_jobs=4, oob_score=False,\n",
       "           random_state=<mtrand.RandomState object at 0x7f5a6e60c990>,\n",
       "           verbose=0, warm_start=False),\n",
       "     max_iter=100, n_estimators='auto', perc=100,\n",
       "     random_state=<mtrand.RandomState object at 0x7f5a6e60c990>,\n",
       "     two_step=True, verbose=2)"
      ]
     },
     "execution_count": 24,
     "metadata": {},
     "output_type": "execute_result"
    }
   ],
   "source": [
    "# We now test the Boruta feature selection method\n",
    "# https://www.jstatsoft.org/article/view/v036i11\n",
    "\n",
    "# git clone https://github.com/scikit-learn-contrib/boruta_py.git && cd boruta_py && sudo python3 setup.py install\n",
    "# or\n",
    "# sudo pip3 install git+https://github.com/scikit-learn-contrib/boruta_py.git\n",
    "\n",
    "from boruta import BorutaPy\n",
    "\n",
    "clfbor = RandomForestRegressor(n_jobs=4)\n",
    "\n",
    "boruta = BorutaPy(clfbor, n_estimators='auto', verbose=2, random_state=1)\n",
    "boruta.fit(X_train, Y_train)"
   ]
  },
  {
   "cell_type": "code",
   "execution_count": 25,
   "metadata": {
    "collapsed": false
   },
   "outputs": [],
   "source": [
    "#borutafeats.support_"
   ]
  },
  {
   "cell_type": "code",
   "execution_count": 26,
   "metadata": {
    "collapsed": false
   },
   "outputs": [],
   "source": [
    "#borutafeats.ranking_"
   ]
  },
  {
   "cell_type": "code",
   "execution_count": 27,
   "metadata": {
    "collapsed": false
   },
   "outputs": [
    {
     "data": {
      "text/plain": [
       "['16-24',\n",
       " '25-34',\n",
       " '35-49',\n",
       " '50-64',\n",
       " 'male',\n",
       " 'female',\n",
       " 'housesw0car',\n",
       " 'housesw2car',\n",
       " 'housesw3car',\n",
       " 'housesw4ormorecar',\n",
       " 'black',\n",
       " 'area',\n",
       " 'distmway']"
      ]
     },
     "execution_count": 27,
     "metadata": {},
     "output_type": "execute_result"
    }
   ],
   "source": [
    "borutafeats = list(np.asarray(predictors)[boruta.support_])\n",
    "borutafeats"
   ]
  },
  {
   "cell_type": "markdown",
   "metadata": {},
   "source": [
    "https://github.com/marcotcr/lime/blob/master/doc/notebooks/Using%20lime%20for%20regression.ipynb"
   ]
  },
  {
   "cell_type": "code",
   "execution_count": 28,
   "metadata": {
    "collapsed": true
   },
   "outputs": [],
   "source": [
    "# HOW TO PREDICT FROM A MODEL\n",
    "clf = xgb.XGBRegressor()\n",
    "#clf = ElasticNetCV()\n",
    "#clf = MLPRegressor()\n",
    "#clf = RandomForestRegressor()\n",
    "#clf = TheilSenRegressor()\n",
    "#clf = KNeighborsRegressor()\n",
    "\n",
    "# We undo the standard scaling of features so that explanation is given in terms of variables with original scale\n",
    "# For tree-based models this scaling or lackthereof should not affect performance much\n",
    "clf = clf.fit(scaler.inverse_transform(X_train), Y_train)\n",
    "\n",
    "#Y_pred = clf.predict(X_test)\n",
    "#scores = mean_squared_error(Y_test, Y_pred)"
   ]
  },
  {
   "cell_type": "code",
   "execution_count": 29,
   "metadata": {
    "collapsed": false
   },
   "outputs": [],
   "source": [
    "# git clone https://github.com/marcotcr/lime.git\n",
    "# cd lime\n",
    "# sudo python3 setup.py install\n",
    "\n",
    "# Or simply:\n",
    "# sudo pip3 install git+https://github.com/marcotcr/lime.git\n",
    "\n",
    "import lime\n",
    "import lime.lime_tabular"
   ]
  },
  {
   "cell_type": "code",
   "execution_count": 30,
   "metadata": {
    "collapsed": false
   },
   "outputs": [],
   "source": [
    "explainer = lime.lime_tabular.LimeTabularExplainer(X, feature_names=predictors, class_names=['response'], categorical_features=None, verbose=True)"
   ]
  },
  {
   "cell_type": "code",
   "execution_count": 31,
   "metadata": {
    "collapsed": true
   },
   "outputs": [],
   "source": [
    "predict_fn = lambda x: clf.predict(x).reshape(-1,1)"
   ]
  },
  {
   "cell_type": "code",
   "execution_count": 32,
   "metadata": {
    "collapsed": false
   },
   "outputs": [
    {
     "data": {
      "text/plain": [
       "257"
      ]
     },
     "execution_count": 32,
     "metadata": {},
     "output_type": "execute_result"
    }
   ],
   "source": [
    "np.argmin(predict_fn(X_test))"
   ]
  },
  {
   "cell_type": "code",
   "execution_count": 33,
   "metadata": {
    "collapsed": false
   },
   "outputs": [
    {
     "data": {
      "text/plain": [
       "276"
      ]
     },
     "execution_count": 33,
     "metadata": {},
     "output_type": "execute_result"
    }
   ],
   "source": [
    "np.argmax(predict_fn(X_test))"
   ]
  },
  {
   "cell_type": "code",
   "execution_count": 34,
   "metadata": {
    "collapsed": false
   },
   "outputs": [
    {
     "name": "stdout",
     "output_type": "stream",
     "text": [
      "Intercept 3.3388335729\n",
      "Prediction_local [ 3.68942153]\n",
      "Right: 6.0221\n"
     ]
    }
   ],
   "source": [
    "i = 265\n",
    "exp = explainer.explain_instance(X_test[i], predict_fn, labels=[0], num_features=15)"
   ]
  },
  {
   "cell_type": "code",
   "execution_count": 35,
   "metadata": {
    "collapsed": false
   },
   "outputs": [
    {
     "data": {
      "text/plain": [
       "[('distmway > 0.38', 1.5658305905564187),\n",
       " ('wzclass > 0.64', -0.65392769537881634),\n",
       " ('75+ <= -0.28', -0.50537077658088714),\n",
       " ('65-74 <= -0.47', 0.15784334084586701),\n",
       " ('50-64 <= -0.45', -0.11138315818592245),\n",
       " ('-0.66 < distcoachstn <= -0.28', -0.093203330715291008),\n",
       " ('-0.32 < distbusstop <= 0.09', 0.066183230441780636),\n",
       " ('-0.21 < 16-24 <= -0.02', 0.063091145326841958),\n",
       " ('-0.41 < asian <= -0.08', -0.057087600296320297),\n",
       " ('housesw1car <= -0.75', 0.054789659285169511),\n",
       " ('-0.68 < fhealth <= -0.20', 0.04912114269573125),\n",
       " ('econactiv <= -0.77', -0.048831449650547552),\n",
       " ('35-49 <= -0.44', -0.048015501255921647),\n",
       " ('-0.17 < housesw0car <= 0.54', -0.046159925942110741),\n",
       " ('lev2qual <= -0.68', -0.042291716940468689)]"
      ]
     },
     "execution_count": 35,
     "metadata": {},
     "output_type": "execute_result"
    }
   ],
   "source": [
    "limefeats = exp.as_list(0)\n",
    "exp.as_list(0)"
   ]
  },
  {
   "cell_type": "code",
   "execution_count": 36,
   "metadata": {
    "collapsed": false
   },
   "outputs": [
    {
     "name": "stdout",
     "output_type": "stream",
     "text": [
      "Prediction 6.0221\n",
      "True 10\n"
     ]
    }
   ],
   "source": [
    "print('Prediction', predict_fn(X_test[i].reshape(1,-1))[0,0])\n",
    "print('True', Y_test[i])"
   ]
  },
  {
   "cell_type": "code",
   "execution_count": 37,
   "metadata": {
    "collapsed": false
   },
   "outputs": [],
   "source": [
    "testidx = idx[trainsetsize:]\n",
    "\n",
    "plotdf = df.loc[testidx, :]\n",
    "\n",
    "plotdf.loc[:, \"prediction\"] = clf.predict(plotdf.loc[:, predictors].values)\n",
    "plotdf.loc[:, \"residual\"] = plotdf.loc[:, \"car\"] - plotdf.loc[:, \"prediction\"]\n",
    "plotdf = plotdf[[\"car\",\"prediction\",\"residual\"]]"
   ]
  },
  {
   "cell_type": "code",
   "execution_count": 38,
   "metadata": {
    "collapsed": false
   },
   "outputs": [
    {
     "data": {
      "text/html": [
       "<div>\n",
       "<table border=\"1\" class=\"dataframe\">\n",
       "  <thead>\n",
       "    <tr style=\"text-align: right;\">\n",
       "      <th></th>\n",
       "      <th>car</th>\n",
       "      <th>prediction</th>\n",
       "      <th>residual</th>\n",
       "    </tr>\n",
       "  </thead>\n",
       "  <tbody>\n",
       "    <tr>\n",
       "      <th>10392</th>\n",
       "      <td>13</td>\n",
       "      <td>12.712845</td>\n",
       "      <td>0.287155</td>\n",
       "    </tr>\n",
       "    <tr>\n",
       "      <th>730</th>\n",
       "      <td>10</td>\n",
       "      <td>10.918354</td>\n",
       "      <td>-0.918354</td>\n",
       "    </tr>\n",
       "    <tr>\n",
       "      <th>5012</th>\n",
       "      <td>11</td>\n",
       "      <td>10.724720</td>\n",
       "      <td>0.275280</td>\n",
       "    </tr>\n",
       "    <tr>\n",
       "      <th>11240</th>\n",
       "      <td>12</td>\n",
       "      <td>13.769094</td>\n",
       "      <td>-1.769094</td>\n",
       "    </tr>\n",
       "    <tr>\n",
       "      <th>5570</th>\n",
       "      <td>14</td>\n",
       "      <td>11.469474</td>\n",
       "      <td>2.530526</td>\n",
       "    </tr>\n",
       "  </tbody>\n",
       "</table>\n",
       "</div>"
      ],
      "text/plain": [
       "       car  prediction  residual\n",
       "10392   13   12.712845  0.287155\n",
       "730     10   10.918354 -0.918354\n",
       "5012    11   10.724720  0.275280\n",
       "11240   12   13.769094 -1.769094\n",
       "5570    14   11.469474  2.530526"
      ]
     },
     "execution_count": 38,
     "metadata": {},
     "output_type": "execute_result"
    }
   ],
   "source": [
    "plotdf.head()"
   ]
  },
  {
   "cell_type": "code",
   "execution_count": 39,
   "metadata": {
    "collapsed": false
   },
   "outputs": [
    {
     "data": {
      "text/html": [
       "<div>\n",
       "<table border=\"1\" class=\"dataframe\">\n",
       "  <thead>\n",
       "    <tr style=\"text-align: right;\">\n",
       "      <th></th>\n",
       "      <th>car</th>\n",
       "      <th>prediction</th>\n",
       "      <th>residual</th>\n",
       "    </tr>\n",
       "  </thead>\n",
       "  <tbody>\n",
       "    <tr>\n",
       "      <th>count</th>\n",
       "      <td>6852.000000</td>\n",
       "      <td>6852.000000</td>\n",
       "      <td>6852.000000</td>\n",
       "    </tr>\n",
       "    <tr>\n",
       "      <th>mean</th>\n",
       "      <td>29.023205</td>\n",
       "      <td>29.133711</td>\n",
       "      <td>-0.110505</td>\n",
       "    </tr>\n",
       "    <tr>\n",
       "      <th>std</th>\n",
       "      <td>38.311755</td>\n",
       "      <td>38.009171</td>\n",
       "      <td>9.029785</td>\n",
       "    </tr>\n",
       "    <tr>\n",
       "      <th>min</th>\n",
       "      <td>0.000000</td>\n",
       "      <td>3.433380</td>\n",
       "      <td>-154.269287</td>\n",
       "    </tr>\n",
       "    <tr>\n",
       "      <th>25%</th>\n",
       "      <td>11.000000</td>\n",
       "      <td>10.959301</td>\n",
       "      <td>-1.793579</td>\n",
       "    </tr>\n",
       "    <tr>\n",
       "      <th>50%</th>\n",
       "      <td>16.500000</td>\n",
       "      <td>15.984448</td>\n",
       "      <td>0.203471</td>\n",
       "    </tr>\n",
       "    <tr>\n",
       "      <th>75%</th>\n",
       "      <td>31.000000</td>\n",
       "      <td>31.233521</td>\n",
       "      <td>2.118209</td>\n",
       "    </tr>\n",
       "    <tr>\n",
       "      <th>max</th>\n",
       "      <td>482.000000</td>\n",
       "      <td>419.547516</td>\n",
       "      <td>191.758759</td>\n",
       "    </tr>\n",
       "  </tbody>\n",
       "</table>\n",
       "</div>"
      ],
      "text/plain": [
       "               car   prediction     residual\n",
       "count  6852.000000  6852.000000  6852.000000\n",
       "mean     29.023205    29.133711    -0.110505\n",
       "std      38.311755    38.009171     9.029785\n",
       "min       0.000000     3.433380  -154.269287\n",
       "25%      11.000000    10.959301    -1.793579\n",
       "50%      16.500000    15.984448     0.203471\n",
       "75%      31.000000    31.233521     2.118209\n",
       "max     482.000000   419.547516   191.758759"
      ]
     },
     "execution_count": 39,
     "metadata": {},
     "output_type": "execute_result"
    }
   ],
   "source": [
    "plotdf.describe()"
   ]
  },
  {
   "cell_type": "code",
   "execution_count": 40,
   "metadata": {
    "collapsed": false
   },
   "outputs": [
    {
     "data": {
      "text/plain": [
       "0.94444083354010533"
      ]
     },
     "execution_count": 40,
     "metadata": {},
     "output_type": "execute_result"
    }
   ],
   "source": [
    "r2_score(plotdf[[\"car\"]], plotdf[[\"prediction\"]])"
   ]
  },
  {
   "cell_type": "code",
   "execution_count": 41,
   "metadata": {
    "collapsed": false
   },
   "outputs": [
    {
     "data": {
      "image/png": "[encoded data removed]",
      "text/plain": [
       "<matplotlib.figure.Figure at 0x7f5a897b2a20>"
      ]
     },
     "metadata": {},
     "output_type": "display_data"
    }
   ],
   "source": [
    "import seaborn as sns\n",
    "plt.hist([plotdf.loc[:, \"car\"], plotdf.loc[:, \"prediction\"]], color=['r','b'], alpha=0.5)\n",
    "plt.show()"
   ]
  },
  {
   "cell_type": "code",
   "execution_count": 42,
   "metadata": {
    "collapsed": false
   },
   "outputs": [
    {
     "data": {
      "image/png": "[encoded data removed]",
      "text/plain": [
       "<matplotlib.figure.Figure at 0x7f5a896f1a90>"
      ]
     },
     "metadata": {},
     "output_type": "display_data"
    }
   ],
   "source": [
    "import seaborn as sns\n",
    "\n",
    "sns.regplot(\"prediction\", \"residual\", data=plotdf)\n",
    "plt.show()"
   ]
  },
  {
   "cell_type": "code",
   "execution_count": 43,
   "metadata": {
    "collapsed": false
   },
   "outputs": [
    {
     "data": {
      "image/png": "[encoded data removed]",
      "text/plain": [
       "<matplotlib.figure.Figure at 0x7f5a89677080>"
      ]
     },
     "metadata": {},
     "output_type": "display_data"
    }
   ],
   "source": [
    "sns.regplot(\"car\",\"prediction\", plotdf)\n",
    "plt.show()"
   ]
  },
  {
   "cell_type": "code",
   "execution_count": 44,
   "metadata": {
    "collapsed": false
   },
   "outputs": [
    {
     "data": {
      "image/png": "[encoded data removed]",
      "text/plain": [
       "<matplotlib.figure.Figure at 0x7f5a89659908>"
      ]
     },
     "metadata": {},
     "output_type": "display_data"
    }
   ],
   "source": [
    "sns.jointplot(\"car\",\"prediction\", plotdf)\n",
    "plt.show()"
   ]
  },
  {
   "cell_type": "code",
   "execution_count": 45,
   "metadata": {
    "collapsed": false
   },
   "outputs": [
    {
     "name": "stdout",
     "output_type": "stream",
     "text": [
      "[['35-49', 16.188769481349937],\n",
      " ['50-64', 13.798901589801531],\n",
      " ['male', 9.3765921374280357],\n",
      " ['female', 3.2682303316300758],\n",
      " ['25-34', -3.1827789792230803],\n",
      " ['16-24', -3.0933284720581131],\n",
      " ['65-74', 2.0803314931263297],\n",
      " ['housesw0car', -1.7695871426386525],\n",
      " ['econactiv', 1.5624933687998543],\n",
      " ['lev4qual', -1.2248943600671938],\n",
      " ['75+', 0.92604782707287248],\n",
      " ['bhealth', 0.85814308758260749],\n",
      " ['housesw2car', 0.82524209900248979],\n",
      " ['housesw3car', 0.8228935612507442],\n",
      " ['black', -0.63749659117157942]]\n"
     ]
    }
   ],
   "source": [
    "clf = ElasticNetCV()\n",
    "clf = clf.fit(X_train, Y_train)\n",
    "\n",
    "elasticfeats = []\n",
    "for i, row in enumerate(clf.coef_):\n",
    "    elasticfeats.append([predictors[i], row])\n",
    "    \n",
    "elasticfeats.sort(key=lambda x: abs(x[1]), reverse=True)\n",
    "pprint(elasticfeats[:15])"
   ]
  },
  {
   "cell_type": "code",
   "execution_count": 46,
   "metadata": {
    "collapsed": true
   },
   "outputs": [],
   "source": [
    "elasticfeats_set = set(np.asarray(elasticfeats)[:10,0])\n",
    "randforestfeats_set = set(np.asarray(randforestfeats)[:10,0])\n",
    "borutafeats_set = set(borutafeats)\n",
    "#limefeats_set = set([i[0].split()[0] for i in limefeats[:10]]) # LIME is for individual predictions, so do not consider here\n",
    "#mutinfofeats_set = set(np.asarray(mutinfofeats)[:10,0])"
   ]
  },
  {
   "cell_type": "code",
   "execution_count": 47,
   "metadata": {
    "collapsed": false
   },
   "outputs": [
    {
     "name": "stdout",
     "output_type": "stream",
     "text": [
      "{'male', 'housesw0car', '35-49', '25-34', 'lev4qual', '16-24', '65-74', 'econactiv', 'female', '50-64'}\n",
      "{'distcoachstn', 'distmway', 'housesw3car', 'male', '35-49', '25-34', '16-24', 'housesw2car', 'female', '50-64'}\n",
      "{'distmway', 'housesw3car', 'housesw4ormorecar', 'male', 'black', 'housesw0car', '35-49', 'area', '25-34', '16-24', 'housesw2car', 'female', '50-64'}\n"
     ]
    }
   ],
   "source": [
    "print(elasticfeats_set)\n",
    "print(randforestfeats_set)\n",
    "print(borutafeats_set)"
   ]
  },
  {
   "cell_type": "code",
   "execution_count": 50,
   "metadata": {
    "collapsed": false
   },
   "outputs": [
    {
     "data": {
      "text/plain": [
       "{'16-24', '25-34', '35-49', '50-64', 'female', 'male'}"
      ]
     },
     "execution_count": 50,
     "metadata": {},
     "output_type": "execute_result"
    }
   ],
   "source": [
    "impfeats = randforestfeats_set.intersection(elasticfeats_set)\n",
    "#impfeats = borutafeats_set.intersection(elasticfeats_set)\n",
    "\n",
    "impfeats = impfeats.intersection(borutafeats_set)\n",
    "\n",
    "impfeats"
   ]
  },
  {
   "cell_type": "markdown",
   "metadata": {
    "collapsed": false
   },
   "source": [
    "for i in predictors:\n",
    "    sns.regplot(i, \"response\", data=df.iloc[trainidx, :])\n",
    "    plt.show()"
   ]
  },
  {
   "cell_type": "markdown",
   "metadata": {},
   "source": [
    "sns.pairplot(data=df.loc[trainidx, predictors])"
   ]
  }
 ],
 "metadata": {
  "kernelspec": {
   "display_name": "Python 3",
   "language": "python",
   "name": "python3"
  },
  "language_info": {
   "codemirror_mode": {
    "name": "ipython",
    "version": 3
   },
   "file_extension": ".py",
   "mimetype": "text/x-python",
   "name": "python",
   "nbconvert_exporter": "python",
   "pygments_lexer": "ipython3",
   "version": "3.5.2"
  }
 },
 "nbformat": 4,
 "nbformat_minor": 0
}
