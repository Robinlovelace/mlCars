{
 "cells": [
  {
   "cell_type": "code",
   "execution_count": 1,
   "metadata": {
    "collapsed": false
   },
   "outputs": [],
   "source": [
    "__author__ = \"Ilan Fridman Rojas\"\n",
    "\n",
    "import numpy as np\n",
    "import pandas as pd\n",
    "import sklearn as sk\n",
    "import matplotlib.pyplot as plt\n",
    "plt.style.use('ggplot')\n",
    "import os\n",
    "import seaborn as sns\n",
    "\n",
    "%matplotlib inline"
   ]
  },
  {
   "cell_type": "code",
   "execution_count": 2,
   "metadata": {
    "collapsed": false
   },
   "outputs": [
    {
     "data": {
      "text/plain": [
       "['tree.png',\n",
       " 'saved_model',\n",
       " '__pycache__',\n",
       " 'Regression_toolkit.ipynb',\n",
       " '.ipynb_checkpoints',\n",
       " 'LasagneUpdateRules_Feb_2017.py',\n",
       " 'Deep_MLP.ipynb',\n",
       " 'tree.dot']"
      ]
     },
     "execution_count": 2,
     "metadata": {},
     "output_type": "execute_result"
    }
   ],
   "source": [
    "#os.chdir(\"/home/ilan/Desktop/Boris_proyecto\")\n",
    "os.listdir()"
   ]
  },
  {
   "cell_type": "code",
   "execution_count": 3,
   "metadata": {
    "collapsed": true
   },
   "outputs": [],
   "source": [
    "df = pd.read_csv(\"../data/wyflows_w_response_and_geo.csv\")"
   ]
  },
  {
   "cell_type": "code",
   "execution_count": 4,
   "metadata": {
    "collapsed": false
   },
   "outputs": [
    {
     "data": {
      "text/html": [
       "<div>\n",
       "<table border=\"1\" class=\"dataframe\">\n",
       "  <thead>\n",
       "    <tr style=\"text-align: right;\">\n",
       "      <th></th>\n",
       "      <th>homeMSOA</th>\n",
       "      <th>workMSOA</th>\n",
       "      <th>workhome</th>\n",
       "      <th>metro</th>\n",
       "      <th>train</th>\n",
       "      <th>bus</th>\n",
       "      <th>taxi</th>\n",
       "      <th>motorcycle</th>\n",
       "      <th>car</th>\n",
       "      <th>cycle</th>\n",
       "      <th>...</th>\n",
       "      <th>otherqual</th>\n",
       "      <th>centheat</th>\n",
       "      <th>nrooms</th>\n",
       "      <th>wzclass</th>\n",
       "      <th>distance</th>\n",
       "      <th>response</th>\n",
       "      <th>disttrainstn</th>\n",
       "      <th>distcoachstn</th>\n",
       "      <th>distbusstop</th>\n",
       "      <th>distmway</th>\n",
       "    </tr>\n",
       "  </thead>\n",
       "  <tbody>\n",
       "    <tr>\n",
       "      <th>0</th>\n",
       "      <td>E02002183</td>\n",
       "      <td>E02002184</td>\n",
       "      <td>0.0</td>\n",
       "      <td>0.0</td>\n",
       "      <td>0.01506</td>\n",
       "      <td>0.069277</td>\n",
       "      <td>0.0</td>\n",
       "      <td>0.0</td>\n",
       "      <td>0.743976</td>\n",
       "      <td>0.012048</td>\n",
       "      <td>...</td>\n",
       "      <td>0.028852</td>\n",
       "      <td>0.980225</td>\n",
       "      <td>5.9</td>\n",
       "      <td>4</td>\n",
       "      <td>2.684270</td>\n",
       "      <td>0.144439</td>\n",
       "      <td>0.437264</td>\n",
       "      <td>7.354263</td>\n",
       "      <td>0.021183</td>\n",
       "      <td>22.434402</td>\n",
       "    </tr>\n",
       "    <tr>\n",
       "      <th>1</th>\n",
       "      <td>E02002183</td>\n",
       "      <td>E02002185</td>\n",
       "      <td>0.0</td>\n",
       "      <td>0.0</td>\n",
       "      <td>0.12500</td>\n",
       "      <td>0.000000</td>\n",
       "      <td>0.0</td>\n",
       "      <td>0.0</td>\n",
       "      <td>0.812500</td>\n",
       "      <td>0.000000</td>\n",
       "      <td>...</td>\n",
       "      <td>0.028852</td>\n",
       "      <td>0.980225</td>\n",
       "      <td>5.9</td>\n",
       "      <td>6</td>\n",
       "      <td>7.265346</td>\n",
       "      <td>0.058454</td>\n",
       "      <td>0.270787</td>\n",
       "      <td>7.354263</td>\n",
       "      <td>0.031054</td>\n",
       "      <td>18.741927</td>\n",
       "    </tr>\n",
       "    <tr>\n",
       "      <th>2</th>\n",
       "      <td>E02002183</td>\n",
       "      <td>E02002186</td>\n",
       "      <td>0.0</td>\n",
       "      <td>0.0</td>\n",
       "      <td>0.00000</td>\n",
       "      <td>0.011628</td>\n",
       "      <td>0.0</td>\n",
       "      <td>0.0</td>\n",
       "      <td>0.941860</td>\n",
       "      <td>0.011628</td>\n",
       "      <td>...</td>\n",
       "      <td>0.028852</td>\n",
       "      <td>0.980225</td>\n",
       "      <td>5.9</td>\n",
       "      <td>6</td>\n",
       "      <td>4.906847</td>\n",
       "      <td>0.229892</td>\n",
       "      <td>1.636134</td>\n",
       "      <td>5.263695</td>\n",
       "      <td>0.483769</td>\n",
       "      <td>23.216051</td>\n",
       "    </tr>\n",
       "    <tr>\n",
       "      <th>3</th>\n",
       "      <td>E02002183</td>\n",
       "      <td>E02002187</td>\n",
       "      <td>0.0</td>\n",
       "      <td>0.0</td>\n",
       "      <td>0.00000</td>\n",
       "      <td>0.000000</td>\n",
       "      <td>0.0</td>\n",
       "      <td>0.0</td>\n",
       "      <td>0.916667</td>\n",
       "      <td>0.000000</td>\n",
       "      <td>...</td>\n",
       "      <td>0.028852</td>\n",
       "      <td>0.980225</td>\n",
       "      <td>5.9</td>\n",
       "      <td>4</td>\n",
       "      <td>6.938770</td>\n",
       "      <td>0.166186</td>\n",
       "      <td>0.935954</td>\n",
       "      <td>6.985427</td>\n",
       "      <td>0.328198</td>\n",
       "      <td>18.379430</td>\n",
       "    </tr>\n",
       "    <tr>\n",
       "      <th>4</th>\n",
       "      <td>E02002183</td>\n",
       "      <td>E02002188</td>\n",
       "      <td>0.0</td>\n",
       "      <td>0.0</td>\n",
       "      <td>0.00000</td>\n",
       "      <td>0.100000</td>\n",
       "      <td>0.0</td>\n",
       "      <td>0.0</td>\n",
       "      <td>0.700000</td>\n",
       "      <td>0.000000</td>\n",
       "      <td>...</td>\n",
       "      <td>0.028852</td>\n",
       "      <td>0.980225</td>\n",
       "      <td>5.9</td>\n",
       "      <td>5</td>\n",
       "      <td>4.595884</td>\n",
       "      <td>-0.002455</td>\n",
       "      <td>2.604336</td>\n",
       "      <td>3.576567</td>\n",
       "      <td>0.699492</td>\n",
       "      <td>19.114812</td>\n",
       "    </tr>\n",
       "  </tbody>\n",
       "</table>\n",
       "<p>5 rows × 54 columns</p>\n",
       "</div>"
      ],
      "text/plain": [
       "    homeMSOA   workMSOA  workhome  metro    train       bus  taxi  motorcycle  \\\n",
       "0  E02002183  E02002184       0.0    0.0  0.01506  0.069277   0.0         0.0   \n",
       "1  E02002183  E02002185       0.0    0.0  0.12500  0.000000   0.0         0.0   \n",
       "2  E02002183  E02002186       0.0    0.0  0.00000  0.011628   0.0         0.0   \n",
       "3  E02002183  E02002187       0.0    0.0  0.00000  0.000000   0.0         0.0   \n",
       "4  E02002183  E02002188       0.0    0.0  0.00000  0.100000   0.0         0.0   \n",
       "\n",
       "        car     cycle    ...      otherqual  centheat  nrooms  wzclass  \\\n",
       "0  0.743976  0.012048    ...       0.028852  0.980225     5.9        4   \n",
       "1  0.812500  0.000000    ...       0.028852  0.980225     5.9        6   \n",
       "2  0.941860  0.011628    ...       0.028852  0.980225     5.9        6   \n",
       "3  0.916667  0.000000    ...       0.028852  0.980225     5.9        4   \n",
       "4  0.700000  0.000000    ...       0.028852  0.980225     5.9        5   \n",
       "\n",
       "   distance  response  disttrainstn  distcoachstn  distbusstop   distmway  \n",
       "0  2.684270  0.144439      0.437264      7.354263     0.021183  22.434402  \n",
       "1  7.265346  0.058454      0.270787      7.354263     0.031054  18.741927  \n",
       "2  4.906847  0.229892      1.636134      5.263695     0.483769  23.216051  \n",
       "3  6.938770  0.166186      0.935954      6.985427     0.328198  18.379430  \n",
       "4  4.595884 -0.002455      2.604336      3.576567     0.699492  19.114812  \n",
       "\n",
       "[5 rows x 54 columns]"
      ]
     },
     "execution_count": 4,
     "metadata": {},
     "output_type": "execute_result"
    }
   ],
   "source": [
    "df.head()"
   ]
  },
  {
   "cell_type": "code",
   "execution_count": 5,
   "metadata": {
    "collapsed": false
   },
   "outputs": [],
   "source": [
    "df = df[df.npeople >= 10]"
   ]
  },
  {
   "cell_type": "code",
   "execution_count": 6,
   "metadata": {
    "collapsed": false
   },
   "outputs": [
    {
     "data": {
      "text/plain": [
       "13703"
      ]
     },
     "execution_count": 6,
     "metadata": {},
     "output_type": "execute_result"
    }
   ],
   "source": [
    "df.shape[0]"
   ]
  },
  {
   "cell_type": "code",
   "execution_count": 7,
   "metadata": {
    "collapsed": false
   },
   "outputs": [],
   "source": [
    "df = df.dropna()"
   ]
  },
  {
   "cell_type": "code",
   "execution_count": 8,
   "metadata": {
    "collapsed": false
   },
   "outputs": [
    {
     "data": {
      "text/plain": [
       "13703"
      ]
     },
     "execution_count": 8,
     "metadata": {},
     "output_type": "execute_result"
    }
   ],
   "source": [
    "df.shape[0]"
   ]
  },
  {
   "cell_type": "code",
   "execution_count": 9,
   "metadata": {
    "collapsed": false
   },
   "outputs": [],
   "source": [
    "#df.reset_index()\n",
    "df.index = list(range(df.shape[0]))"
   ]
  },
  {
   "cell_type": "code",
   "execution_count": 10,
   "metadata": {
    "collapsed": false
   },
   "outputs": [],
   "source": [
    "#df = df.rename(columns={'Nucleus or nucleic juncture':'Nucleus', 'Uttered beat\\nprominence':'Prominence', \\\n",
    "#                  'High boundary':'Upper_bound', 'Low\\nboundary':'Lower_bound', 'Fundamental frequency':'Fund_freq',\\\n",
    "#                  'Focal frequency':'Focal_freq', 'Event ID,\\nUtterance #':'Event_ID_Utterance'})\n",
    "#df.head()"
   ]
  },
  {
   "cell_type": "code",
   "execution_count": 11,
   "metadata": {
    "collapsed": false
   },
   "outputs": [
    {
     "data": {
      "text/plain": [
       "Index(['homeMSOA', 'workMSOA', 'workhome', 'metro', 'train', 'bus', 'taxi',\n",
       "       'motorcycle', 'car', 'cycle', 'walk', 'othertransp', 'npeople', '16-24',\n",
       "       '25-34', '35-49', '50-54', '65-74', '75+', 'female', 'house0carpct',\n",
       "       'house1carpct', 'house2carpct', 'house3carpct', 'house4carpct',\n",
       "       'ppperhect', 'econactivpct', 'econinactivpct', 'vghealth', 'ghealth',\n",
       "       'fhealth', 'bhealth', 'vbhealth', 'white', 'mixed', 'asian', 'black',\n",
       "       'otherethn', 'noqual', 'aptshpqual', 'lev1qual', 'lev2qual', 'lev3qual',\n",
       "       'lev4qual', 'otherqual', 'centheat', 'nrooms', 'wzclass', 'distance',\n",
       "       'response', 'disttrainstn', 'distcoachstn', 'distbusstop', 'distmway'],\n",
       "      dtype='object')"
      ]
     },
     "execution_count": 11,
     "metadata": {},
     "output_type": "execute_result"
    }
   ],
   "source": [
    "df.columns"
   ]
  },
  {
   "cell_type": "markdown",
   "metadata": {
    "collapsed": false
   },
   "source": [
    "# In order to apply logit models etc we need to rescale the response to [0,1]\n",
    "from sklearn.preprocessing import MinMaxScaler\n",
    "\n",
    "yscaler = MinMaxScaler().fit(df.loc[:, \"response\"].values.reshape(-1,1))\n",
    "df.loc[:, \"response\"] = yscaler.transform(df.loc[:, \"response\"].values.reshape(-1,1))"
   ]
  },
  {
   "cell_type": "markdown",
   "metadata": {
    "collapsed": false
   },
   "source": [
    "df.loc[:, \"response\"].describe()"
   ]
  },
  {
   "cell_type": "markdown",
   "metadata": {
    "collapsed": false
   },
   "source": [
    "df.loc[:,\"response\"].hist()"
   ]
  },
  {
   "cell_type": "code",
   "execution_count": 12,
   "metadata": {
    "collapsed": false
   },
   "outputs": [],
   "source": [
    "# TO PREDICT THE HANDCRAFTED RESPONSE VARIABLE: OBS CAR FRACTION MINUS CAR FRACTION EXPECTED (MODELLED) FROM DISTANCE ALONE\n",
    "\n",
    "dropcols = ['homeMSOA','workMSOA','car','response','distance','npeople','workhome','metro','train','bus','taxi','motorcycle','cycle','walk','othertransp']\n",
    "droplevels = ['75+','house4carpct','econinactivpct','vghealth','white','otherqual']\n",
    "\n",
    "Xfull = df.drop(dropcols+droplevels, axis=1).values\n",
    "Yfull = df['response'].values\n",
    "\n",
    "weightsfull = df['npeople'].values\n",
    "\n",
    "predictors = list(df.drop(dropcols+droplevels, axis=1).columns)"
   ]
  },
  {
   "cell_type": "code",
   "execution_count": 13,
   "metadata": {
    "collapsed": true
   },
   "outputs": [],
   "source": [
    "# TO PREDICT CAR FRACTION DIRECTLY, INCLUDING DISTANCE AS A COVARIATE\n",
    "\n",
    "#dropcols = ['homeMSOA','workMSOA','car','response','distance','npeople','workhome','metro','train','bus','taxi','motorcycle','cycle','walk','othertransp']\n",
    "#droplevels = ['75+','house4carpct','econinactivpct','vghealth','white','otherqual']\n",
    "\n",
    "#Xfull = df.drop(dropcols+droplevels, axis=1).values\n",
    "#Yfull = df['car'].values\n",
    "\n",
    "#weightsfull = df['npeople'].values\n",
    "\n",
    "#predictors = list(df.drop(dropcols+droplevels, axis=1).columns)"
   ]
  },
  {
   "cell_type": "code",
   "execution_count": 14,
   "metadata": {
    "collapsed": false
   },
   "outputs": [],
   "source": [
    "# DO NOT USE THE FULL DATASET, SPLIT OFF A TRAINING SET BEFORE GOING FURTHER, AND NEVER USE THE FULL SET\n",
    "\n",
    "import math\n",
    "\n",
    "idx = list(range(Xfull.shape[0]))\n",
    "np.random.seed(seed=5)\n",
    "np.random.shuffle(idx)\n",
    "np.random.seed(seed=None)\n",
    "\n",
    "trainsetsize = math.floor(Xfull.shape[0]/2)\n",
    "trainidx = idx[:trainsetsize]\n",
    "\n",
    "X, Y, weights = Xfull[trainidx,:], Yfull[trainidx], weightsfull[trainidx]"
   ]
  },
  {
   "cell_type": "code",
   "execution_count": 15,
   "metadata": {
    "collapsed": false
   },
   "outputs": [
    {
     "data": {
      "text/plain": [
       "['16-24',\n",
       " '25-34',\n",
       " '35-49',\n",
       " '50-54',\n",
       " '65-74',\n",
       " 'female',\n",
       " 'house0carpct',\n",
       " 'house1carpct',\n",
       " 'house2carpct',\n",
       " 'house3carpct',\n",
       " 'ppperhect',\n",
       " 'econactivpct',\n",
       " 'ghealth',\n",
       " 'fhealth',\n",
       " 'bhealth',\n",
       " 'vbhealth',\n",
       " 'mixed',\n",
       " 'asian',\n",
       " 'black',\n",
       " 'otherethn',\n",
       " 'noqual',\n",
       " 'aptshpqual',\n",
       " 'lev1qual',\n",
       " 'lev2qual',\n",
       " 'lev3qual',\n",
       " 'lev4qual',\n",
       " 'centheat',\n",
       " 'nrooms',\n",
       " 'wzclass',\n",
       " 'disttrainstn',\n",
       " 'distcoachstn',\n",
       " 'distbusstop',\n",
       " 'distmway']"
      ]
     },
     "execution_count": 15,
     "metadata": {},
     "output_type": "execute_result"
    }
   ],
   "source": [
    "predictors"
   ]
  },
  {
   "cell_type": "code",
   "execution_count": 16,
   "metadata": {
    "collapsed": false
   },
   "outputs": [],
   "source": [
    "#from sklearn.model_selection import StratifiedKFold\n",
    "from sklearn.model_selection import KFold\n",
    "\n",
    "#cross_valsets = StratifiedKFold(n_splits=2)\n",
    "cross_valsets = KFold(n_splits=10)\n",
    "for train_index, test_index in cross_valsets.split(X, Y):\n",
    "    #print(\"TRAIN:\", train_index, \"TEST:\", test_index)\n",
    "    X_train, X_test = X[train_index], X[test_index]\n",
    "    Y_train, Y_test = Y[train_index], Y[test_index]"
   ]
  },
  {
   "cell_type": "code",
   "execution_count": 17,
   "metadata": {
    "collapsed": false
   },
   "outputs": [],
   "source": [
    "from sklearn.preprocessing import StandardScaler\n",
    "\n",
    "scaler = StandardScaler().fit(X_train)\n",
    "X_train = scaler.transform(X_train)\n",
    "X_test = scaler.transform(X_test)\n",
    "\n",
    "# We use X = X_train + X_test for the cross-validation runs, so scale X too (note: X is already a training set)\n",
    "X = scaler.transform(X)"
   ]
  },
  {
   "cell_type": "code",
   "execution_count": 18,
   "metadata": {
    "collapsed": false
   },
   "outputs": [
    {
     "name": "stderr",
     "output_type": "stream",
     "text": [
      "/usr/local/lib/python3.5/dist-packages/sklearn/cross_validation.py:44: DeprecationWarning: This module was deprecated in version 0.18 in favor of the model_selection module into which all the refactored classes and functions are moved. Also note that the interface of the new CV iterators are different from that of this module. This module will be removed in 0.20.\n",
      "  \"This module will be removed in 0.20.\", DeprecationWarning)\n",
      "/usr/local/lib/python3.5/dist-packages/sklearn/linear_model/coordinate_descent.py:479: ConvergenceWarning: Objective did not converge. You might want to increase the number of iterations. Fitting data with very small alpha may cause precision problems.\n",
      "  ConvergenceWarning)\n"
     ]
    },
    {
     "name": "stdout",
     "output_type": "stream",
     "text": [
      "[['XGB', 0.015017249354064914],\n",
      " ['ElasticNetCV', 0.016530484166760982],\n",
      " ['ExtraTrees', 0.0168388923407796],\n",
      " ['RandomForest', 0.016883361710482169],\n",
      " ['TheilSen', 0.016933616749754719],\n",
      " ['KNeighbors', 0.018131188816899402],\n",
      " ['MLP', 0.01927564849744463],\n",
      " ['PassiveAggressive', 0.023727770377801938],\n",
      " ['--MEAN MODEL--', 0.02554126291471661],\n",
      " ['Dummy', 0.025658330452952755],\n",
      " ['DecisionTrees', 0.030141655804154437],\n",
      " ['RANSAC', 0.073976232328569327],\n",
      " ['SGD', 7.3916931352258893e+25]]\n"
     ]
    }
   ],
   "source": [
    "from sklearn.model_selection import cross_val_score\n",
    "\n",
    "from pprint import pprint\n",
    "\n",
    "from sklearn.metrics import mean_squared_error\n",
    "from sklearn.metrics import r2_score\n",
    "\n",
    "from sklearn.dummy import DummyRegressor\n",
    "#from sklearn.linear_model import LogisticRegressionCV # would require Min-Max scaling of response variable\n",
    "#from sklearn.ensemble import AdaBoostRegressor # Boosted decision trees, superseded by xgboost?\n",
    "#from sklearn.ensemble import GradientBoostingRegressor # Boosted decision trees, superseded by xgboost?\n",
    "#from sklearn.ensemble import BaggingRegressor # needs base clasifier\n",
    "from sklearn.ensemble import ExtraTreesRegressor\n",
    "from sklearn.tree import DecisionTreeRegressor\n",
    "from sklearn.ensemble import RandomForestRegressor\n",
    "#from sklearn.gaussian_process import GaussianProcessRegressor\n",
    "from sklearn.linear_model import ElasticNetCV\n",
    "from sklearn.linear_model import PassiveAggressiveRegressor\n",
    "from sklearn.linear_model import RANSACRegressor\n",
    "from sklearn.linear_model import SGDRegressor\n",
    "from sklearn.linear_model import TheilSenRegressor\n",
    "from sklearn.neighbors import KNeighborsRegressor\n",
    "from sklearn.neighbors import RadiusNeighborsRegressor\n",
    "from sklearn.neural_network import MLPRegressor\n",
    "\n",
    "import xgboost as xgb\n",
    "\n",
    "result = []\n",
    "\n",
    "clf = DummyRegressor()\n",
    "scores = cross_val_score(clf, X, Y, n_jobs=4, scoring='neg_mean_squared_error')\n",
    "#scores = cross_val_score(clf, X, Y, n_jobs=4, scoring='r2')\n",
    "result.append([\"Dummy\", -scores.mean()])\n",
    "\n",
    "clf = ExtraTreesRegressor(n_jobs=4)\n",
    "scores = cross_val_score(clf, X, Y, scoring='neg_mean_squared_error')\n",
    "#scores = cross_val_score(clf, X, Y, scoring='r2')\n",
    "result.append([\"ExtraTrees\", -scores.mean()])\n",
    "\n",
    "clf = DecisionTreeRegressor()\n",
    "scores = cross_val_score(clf, X, Y, n_jobs=4, scoring='neg_mean_squared_error')\n",
    "#scores = cross_val_score(clf, X, Y, n_jobs=4, scoring='r2')\n",
    "result.append([\"DecisionTrees\", -scores.mean()])\n",
    "\n",
    "clf = RandomForestRegressor(n_jobs=4)\n",
    "scores = cross_val_score(clf, X, Y, scoring='neg_mean_squared_error')\n",
    "#scores = cross_val_score(clf, X, Y, scoring='r2')\n",
    "result.append([\"RandomForest\", -scores.mean()])\n",
    "\n",
    "#  THIS MODEL REQUIRES SO MUCH RAM IT WILL CRASH YOUR COMPUTER INSTANTLY\n",
    "#clf = GaussianProcessRegressor()\n",
    "#clf = clf.fit(X_train, Y_train)\n",
    "#Y_pred = clf.predict(X_test)\n",
    "#scores = mean_squared_error(Y_test, Y_pred)\n",
    "#result.append([\"GaussianProcess\", scores.mean()])\n",
    "\n",
    "clf = ElasticNetCV(n_jobs=4)\n",
    "scores = cross_val_score(clf, X, Y, scoring='neg_mean_squared_error')\n",
    "#scores = cross_val_score(clf, X, Y, scoring='r2')\n",
    "result.append([\"ElasticNetCV\", -scores.mean()])\n",
    "\n",
    "clf = PassiveAggressiveRegressor()\n",
    "scores = cross_val_score(clf, X, Y, n_jobs=4, scoring='neg_mean_squared_error')\n",
    "#scores = cross_val_score(clf, X, Y, n_jobs=4, scoring='r2')\n",
    "result.append([\"PassiveAggressive\", -scores.mean()])\n",
    "\n",
    "clf = RANSACRegressor()\n",
    "scores = cross_val_score(clf, X, Y, n_jobs=4, scoring='neg_mean_squared_error')\n",
    "#scores = cross_val_score(clf, X, Y, n_jobs=4, scoring='r2')\n",
    "result.append([\"RANSAC\", -scores.mean()])\n",
    "\n",
    "clf = SGDRegressor(learning_rate='optimal')\n",
    "scores = cross_val_score(clf, X, Y, n_jobs=4, scoring='neg_mean_squared_error')\n",
    "#scores = cross_val_score(clf, X, Y, n_jobs=4, scoring='r2')\n",
    "result.append([\"SGD\", -scores.mean()])\n",
    "\n",
    "clf = TheilSenRegressor(n_jobs=4)\n",
    "scores = cross_val_score(clf, X, Y, scoring='neg_mean_squared_error')\n",
    "#scores = cross_val_score(clf, X, Y, scoring='r2')\n",
    "result.append([\"TheilSen\", -scores.mean()])\n",
    "\n",
    "clf = KNeighborsRegressor(n_jobs=4)\n",
    "scores = cross_val_score(clf, X, Y, scoring='neg_mean_squared_error')\n",
    "#scores = cross_val_score(clf, X, Y, scoring='r2')\n",
    "result.append([\"KNeighbors\", -scores.mean()])\n",
    "\n",
    "#clf = RadiusNeighborsRegressor(n_jobs=4)\n",
    "#clf = clf.fit(X_train, Y_train)\n",
    "#Y_pred = clf.predict(X_test)\n",
    "#scores = mean_squared_error(Y_test, Y_pred)\n",
    "#result.append([\"RadiusNeighbors\", scores.mean()])\n",
    "\n",
    "clf = MLPRegressor()\n",
    "scores = cross_val_score(clf, X, Y, n_jobs=4, scoring='neg_mean_squared_error')\n",
    "#scores = cross_val_score(clf, X, Y, n_jobs=4, scoring='r2')\n",
    "result.append([\"MLP\", -scores.mean()])\n",
    "\n",
    "clf = xgb.XGBRegressor()\n",
    "scores = cross_val_score(clf, X, Y, scoring='neg_mean_squared_error')\n",
    "#scores = cross_val_score(clf, X, Y, scoring='r2')\n",
    "result.append([\"XGB\", -scores.mean()])\n",
    "\n",
    "# Model which simply always predicts the sample mean of the response\n",
    "result.append([\"--MEAN MODEL--\", mean_squared_error(Y_test, np.repeat(Y_test.mean(), Y_test.shape[0]))])\n",
    "#result.append([\"--MEAN MODEL--\", r2_score(Y_test, np.repeat(Y_test.mean(), Y_test.shape[0]))])\n",
    "\n",
    "result.sort(key=lambda x: x[1], reverse=False)\n",
    "pprint(result)"
   ]
  },
  {
   "cell_type": "code",
   "execution_count": 19,
   "metadata": {
    "collapsed": true
   },
   "outputs": [],
   "source": [
    "# HOW TO PREDICT FROM A MODEL\n",
    "#clf = xgb.XGBRegressor()\n",
    "#clf = clf.fit(X_train, Y_train)\n",
    "#Y_pred = clf.predict(X_test)\n",
    "#scores = mean_squared_error(Y_test, Y_pred)"
   ]
  },
  {
   "cell_type": "code",
   "execution_count": 20,
   "metadata": {
    "collapsed": false
   },
   "outputs": [],
   "source": [
    "#from sklearn.feature_selection import f_regression\n",
    "#from sklearn.feature_selection import mutual_info_regression\n",
    "\n",
    "#f_regression(X, Y)\n",
    "\n",
    "#mutinfo = mutual_info_regression(X, Y)"
   ]
  },
  {
   "cell_type": "code",
   "execution_count": 21,
   "metadata": {
    "collapsed": false
   },
   "outputs": [],
   "source": [
    "#mutinfofeats = []\n",
    "#for i, row in enumerate(mutinfo):\n",
    "#    mutinfofeats.append([predictors[i], row])\n",
    "    \n",
    "#mutinfofeats.sort(key=lambda x: x[1], reverse=True)\n",
    "#pprint(mutinfofeats[:15])"
   ]
  },
  {
   "cell_type": "code",
   "execution_count": 22,
   "metadata": {
    "collapsed": false
   },
   "outputs": [
    {
     "name": "stdout",
     "output_type": "stream",
     "text": [
      "0.32597895074\n"
     ]
    },
    {
     "data": {
      "image/png": "[encoded data removed]",
      "text/plain": [
       "<IPython.core.display.Image object>"
      ]
     },
     "execution_count": 22,
     "metadata": {},
     "output_type": "execute_result"
    }
   ],
   "source": [
    "from sklearn import tree\n",
    "\n",
    "clf = tree.DecisionTreeRegressor(max_depth=3)\n",
    "clf = clf.fit(X_train, Y_train)\n",
    "Y_pred = clf.predict(X_test)\n",
    "print(r2_score(Y_test,Y_pred))\n",
    "\n",
    "tree.export_graphviz(clf, out_file='tree.dot')\n",
    "\n",
    "# sudo apt-get install graphviz\n",
    "!dot -Tpng tree.dot -o tree.png\n",
    "\n",
    "from IPython.display import Image\n",
    "Image(filename='tree.png') "
   ]
  },
  {
   "cell_type": "code",
   "execution_count": 23,
   "metadata": {
    "collapsed": false
   },
   "outputs": [
    {
     "name": "stdout",
     "output_type": "stream",
     "text": [
      "Feature ranking:\n",
      "1. house0carpct (0.193127)\n",
      "2. wzclass (0.082878)\n",
      "3. disttrainstn (0.062114)\n",
      "4. distcoachstn (0.056286)\n",
      "5. 16-24 (0.053065)\n",
      "6. female (0.051150)\n",
      "7. distbusstop (0.046072)\n",
      "8. house2carpct (0.042108)\n",
      "9. 25-34 (0.040925)\n",
      "10. distmway (0.039468)\n",
      "11. 50-54 (0.039403)\n",
      "12. 35-49 (0.033409)\n",
      "13. house1carpct (0.029343)\n",
      "14. house3carpct (0.025304)\n",
      "15. 65-74 (0.015911)\n",
      "16. ppperhect (0.015538)\n",
      "17. ghealth (0.013937)\n",
      "18. asian (0.013642)\n",
      "19. aptshpqual (0.011697)\n",
      "20. lev4qual (0.011098)\n",
      "21. lev1qual (0.010931)\n",
      "22. vbhealth (0.010836)\n",
      "23. centheat (0.010637)\n",
      "24. noqual (0.010433)\n",
      "25. fhealth (0.010164)\n",
      "26. otherethn (0.010107)\n",
      "27. mixed (0.010017)\n",
      "28. lev2qual (0.009726)\n",
      "29. lev3qual (0.009490)\n",
      "30. black (0.009170)\n",
      "31. econactivpct (0.008048)\n",
      "32. bhealth (0.007561)\n",
      "33. nrooms (0.006405)\n"
     ]
    },
    {
     "data": {
      "image/png": "[encoded data removed]",
      "text/plain": [
       "<matplotlib.figure.Figure at 0x7fbaa76b0a20>"
      ]
     },
     "metadata": {},
     "output_type": "display_data"
    }
   ],
   "source": [
    "clf = RandomForestRegressor(n_jobs=4)\n",
    "clf = clf.fit(X_train, Y_train)\n",
    "Y_pred = clf.predict(X_test)\n",
    "\n",
    "scores = r2_score(Y_test, Y_pred)\n",
    "\n",
    "importances = clf.feature_importances_\n",
    "std = np.std([tree.feature_importances_ for tree in clf.estimators_],\n",
    "             axis=0)\n",
    "indices = np.argsort(importances)[::-1]\n",
    "\n",
    "# Print the feature ranking\n",
    "print(\"Feature ranking:\")\n",
    "\n",
    "#for f in range(X.shape[1]):\n",
    "#    print(\"%d. feature %d (%f)\" % (f + 1, indices[f], importances[indices[f]]))\n",
    "\n",
    "for f in range(X.shape[1]):\n",
    "    print(\"%d. %s (%f)\" % (f + 1, predictors[indices[f]], importances[indices[f]]))\n",
    "    \n",
    "randforestfeats = [[predictors[indices[f]], importances[indices[f]]] for f in range(X.shape[1])]\n",
    "\n",
    "# Plot the feature importances of the forest\n",
    "plt.figure()\n",
    "plt.title(\"Feature importances\")\n",
    "plt.bar(range(X.shape[1]), importances[indices],\n",
    "       color=\"r\", yerr=std[indices], align=\"center\")\n",
    "plt.xticks(range(X.shape[1]), np.asarray(predictors)[indices], rotation=\"vertical\")\n",
    "plt.xlim([-1, X.shape[1]])\n",
    "plt.show()"
   ]
  },
  {
   "cell_type": "markdown",
   "metadata": {
    "collapsed": false
   },
   "source": [
    "import seaborn as sns\n",
    "\n",
    "#sns.boxplot(x=\"IPA tags\", y=\"Prominence\", data=df_sub)\n",
    "#sns.boxplot(x=\"IPA tags\", y=\"Prominence\", data=df_sub)\n",
    "\n",
    "#for i in predictors:\n",
    "#    sns.boxplot(x=\"car\", y=i, data=df.iloc[trainidx,:])\n",
    "#    plt.show()\n",
    "\n",
    "\n",
    "sns.pairplot(data=df.loc[trainidx, predictors])"
   ]
  },
  {
   "cell_type": "code",
   "execution_count": 24,
   "metadata": {
    "collapsed": false
   },
   "outputs": [
    {
     "name": "stdout",
     "output_type": "stream",
     "text": [
      "Iteration: \t1 / 100\n",
      "Confirmed: \t0\n",
      "Tentative: \t33\n",
      "Rejected: \t0\n",
      "Iteration: \t2 / 100\n",
      "Confirmed: \t0\n",
      "Tentative: \t33\n",
      "Rejected: \t0\n",
      "Iteration: \t3 / 100\n",
      "Confirmed: \t0\n",
      "Tentative: \t33\n",
      "Rejected: \t0\n",
      "Iteration: \t4 / 100\n",
      "Confirmed: \t0\n",
      "Tentative: \t33\n",
      "Rejected: \t0\n",
      "Iteration: \t5 / 100\n",
      "Confirmed: \t0\n",
      "Tentative: \t33\n",
      "Rejected: \t0\n",
      "Iteration: \t6 / 100\n",
      "Confirmed: \t0\n",
      "Tentative: \t33\n",
      "Rejected: \t0\n",
      "Iteration: \t7 / 100\n",
      "Confirmed: \t0\n",
      "Tentative: \t33\n",
      "Rejected: \t0\n",
      "Iteration: \t8 / 100\n",
      "Confirmed: \t14\n",
      "Tentative: \t0\n",
      "Rejected: \t19\n",
      "\n",
      "\n",
      "BorutaPy finished running.\n",
      "\n",
      "Iteration: \t9 / 100\n",
      "Confirmed: \t14\n",
      "Tentative: \t0\n",
      "Rejected: \t19\n"
     ]
    },
    {
     "data": {
      "text/plain": [
       "BorutaPy(alpha=0.05,\n",
       "     estimator=RandomForestRegressor(bootstrap=True, criterion='mse', max_depth=None,\n",
       "           max_features='auto', max_leaf_nodes=None,\n",
       "           min_impurity_split=1e-07, min_samples_leaf=1,\n",
       "           min_samples_split=2, min_weight_fraction_leaf=0.0,\n",
       "           n_estimators=81, n_jobs=4, oob_score=False,\n",
       "           random_state=<mtrand.RandomState object at 0x7fbab7f94990>,\n",
       "           verbose=0, warm_start=False),\n",
       "     max_iter=100, n_estimators='auto', perc=100,\n",
       "     random_state=<mtrand.RandomState object at 0x7fbab7f94990>,\n",
       "     two_step=True, verbose=2)"
      ]
     },
     "execution_count": 24,
     "metadata": {},
     "output_type": "execute_result"
    }
   ],
   "source": [
    "# We now test the Boruta feature selection method\n",
    "# https://www.jstatsoft.org/article/view/v036i11\n",
    "\n",
    "# git clone https://github.com/scikit-learn-contrib/boruta_py.git && cd boruta_py && sudo python3 setup.py install\n",
    "# or\n",
    "# sudo pip3 install git+https://github.com/scikit-learn-contrib/boruta_py.git\n",
    "\n",
    "from boruta import BorutaPy\n",
    "\n",
    "clfbor = RandomForestRegressor(n_jobs=4)\n",
    "\n",
    "boruta = BorutaPy(clfbor, n_estimators='auto', verbose=2, random_state=1)\n",
    "boruta.fit(X_train, Y_train)"
   ]
  },
  {
   "cell_type": "code",
   "execution_count": 25,
   "metadata": {
    "collapsed": false
   },
   "outputs": [],
   "source": [
    "#borutafeats.support_"
   ]
  },
  {
   "cell_type": "code",
   "execution_count": 26,
   "metadata": {
    "collapsed": false
   },
   "outputs": [],
   "source": [
    "#borutafeats.ranking_"
   ]
  },
  {
   "cell_type": "code",
   "execution_count": 27,
   "metadata": {
    "collapsed": false
   },
   "outputs": [
    {
     "data": {
      "text/plain": [
       "['16-24',\n",
       " '25-34',\n",
       " '35-49',\n",
       " '50-54',\n",
       " 'female',\n",
       " 'house0carpct',\n",
       " 'house1carpct',\n",
       " 'house2carpct',\n",
       " 'house3carpct',\n",
       " 'wzclass',\n",
       " 'disttrainstn',\n",
       " 'distcoachstn',\n",
       " 'distbusstop',\n",
       " 'distmway']"
      ]
     },
     "execution_count": 27,
     "metadata": {},
     "output_type": "execute_result"
    }
   ],
   "source": [
    "borutafeats = list(np.asarray(predictors)[boruta.support_])\n",
    "borutafeats"
   ]
  },
  {
   "cell_type": "markdown",
   "metadata": {},
   "source": [
    "https://github.com/marcotcr/lime/blob/master/doc/notebooks/Using%20lime%20for%20regression.ipynb"
   ]
  },
  {
   "cell_type": "code",
   "execution_count": 28,
   "metadata": {
    "collapsed": true
   },
   "outputs": [],
   "source": [
    "# HOW TO PREDICT FROM A MODEL\n",
    "clf = xgb.XGBRegressor()\n",
    "#clf = ElasticNetCV()\n",
    "#clf = MLPRegressor()\n",
    "#clf = RandomForestRegressor()\n",
    "#clf = TheilSenRegressor()\n",
    "#clf = KNeighborsRegressor()\n",
    "\n",
    "# We undo the standard scaling of features so that explanation is given in terms of variables with original scale\n",
    "# For tree-based models this scaling or lackthereof should not affect performance much\n",
    "clf = clf.fit(scaler.inverse_transform(X_train), Y_train)\n",
    "\n",
    "#Y_pred = clf.predict(X_test)\n",
    "#scores = mean_squared_error(Y_test, Y_pred)"
   ]
  },
  {
   "cell_type": "code",
   "execution_count": 29,
   "metadata": {
    "collapsed": false
   },
   "outputs": [],
   "source": [
    "# git clone https://github.com/marcotcr/lime.git\n",
    "# cd lime\n",
    "# sudo python3 setup.py install\n",
    "\n",
    "# Or simply:\n",
    "# sudo pip3 install git+https://github.com/marcotcr/lime.git\n",
    "\n",
    "import lime\n",
    "import lime.lime_tabular"
   ]
  },
  {
   "cell_type": "code",
   "execution_count": 30,
   "metadata": {
    "collapsed": false
   },
   "outputs": [],
   "source": [
    "explainer = lime.lime_tabular.LimeTabularExplainer(X, feature_names=predictors, class_names=['response'], categorical_features=None, verbose=True)"
   ]
  },
  {
   "cell_type": "code",
   "execution_count": 31,
   "metadata": {
    "collapsed": true
   },
   "outputs": [],
   "source": [
    "predict_fn = lambda x: clf.predict(x).reshape(-1,1)"
   ]
  },
  {
   "cell_type": "code",
   "execution_count": 32,
   "metadata": {
    "collapsed": false
   },
   "outputs": [
    {
     "data": {
      "text/plain": [
       "265"
      ]
     },
     "execution_count": 32,
     "metadata": {},
     "output_type": "execute_result"
    }
   ],
   "source": [
    "np.argmin(predict_fn(X_test))"
   ]
  },
  {
   "cell_type": "code",
   "execution_count": 33,
   "metadata": {
    "collapsed": false
   },
   "outputs": [
    {
     "data": {
      "text/plain": [
       "498"
      ]
     },
     "execution_count": 33,
     "metadata": {},
     "output_type": "execute_result"
    }
   ],
   "source": [
    "np.argmax(predict_fn(X_test))"
   ]
  },
  {
   "cell_type": "code",
   "execution_count": 34,
   "metadata": {
    "collapsed": false
   },
   "outputs": [
    {
     "name": "stdout",
     "output_type": "stream",
     "text": [
      "Intercept -0.00435544733595\n",
      "Prediction_local [-0.44201924]\n",
      "Right: -0.532282\n"
     ]
    }
   ],
   "source": [
    "i = 265\n",
    "exp = explainer.explain_instance(X_test[i], predict_fn, labels=[0], num_features=15)"
   ]
  },
  {
   "cell_type": "code",
   "execution_count": 35,
   "metadata": {
    "collapsed": false
   },
   "outputs": [
    {
     "data": {
      "text/plain": [
       "[('house0carpct > 0.55', -0.11936275967562172),\n",
       " ('female > 0.70', -0.08842718557514645),\n",
       " ('house2carpct <= -0.70', -0.056648926253098059),\n",
       " ('house3carpct <= -0.65', -0.040175421314225725),\n",
       " ('16-24 > 0.48', -0.037929688619759649),\n",
       " ('35-49 <= -0.62', -0.030820012063753229),\n",
       " ('lev3qual <= -0.36', -0.025429408017145886),\n",
       " ('-0.31 < disttrainstn <= 0.45', -0.022706519244094916),\n",
       " ('vbhealth > 0.53', 0.019006249447805171),\n",
       " ('wzclass > 0.64', -0.017985903203389931),\n",
       " ('25-34 > 0.55', -0.016528873664973513),\n",
       " ('-0.62 < centheat <= 0.10', -0.010690006170753358),\n",
       " ('0.21 < lev2qual <= 0.68', 0.010147032871334675),\n",
       " ('-0.62 < 50-54 <= -0.03', -0.009231214440268384),\n",
       " ('bhealth > 0.61', 0.0091188383673098151)]"
      ]
     },
     "execution_count": 35,
     "metadata": {},
     "output_type": "execute_result"
    }
   ],
   "source": [
    "limefeats = exp.as_list(0)\n",
    "exp.as_list(0)"
   ]
  },
  {
   "cell_type": "code",
   "execution_count": 36,
   "metadata": {
    "collapsed": false
   },
   "outputs": [
    {
     "name": "stdout",
     "output_type": "stream",
     "text": [
      "Prediction -0.532282\n",
      "True -0.0612347143505\n"
     ]
    }
   ],
   "source": [
    "print('Prediction', predict_fn(X_test[i].reshape(1,-1))[0,0])\n",
    "print('True', Y_test[i])"
   ]
  },
  {
   "cell_type": "code",
   "execution_count": 37,
   "metadata": {
    "collapsed": false
   },
   "outputs": [],
   "source": [
    "testidx = idx[trainsetsize:math.floor(1.5*trainsetsize)]\n",
    "\n",
    "plotdf = df.loc[testidx, :]\n",
    "\n",
    "plotdf.loc[:, \"prediction\"] = clf.predict(plotdf.loc[:, predictors].values)\n",
    "plotdf.loc[:, \"residual\"] = plotdf.loc[:, \"response\"] - plotdf.loc[:, \"prediction\"]"
   ]
  },
  {
   "cell_type": "code",
   "execution_count": 38,
   "metadata": {
    "collapsed": false
   },
   "outputs": [
    {
     "data": {
      "text/html": [
       "<div>\n",
       "<table border=\"1\" class=\"dataframe\">\n",
       "  <thead>\n",
       "    <tr style=\"text-align: right;\">\n",
       "      <th></th>\n",
       "      <th>homeMSOA</th>\n",
       "      <th>workMSOA</th>\n",
       "      <th>workhome</th>\n",
       "      <th>metro</th>\n",
       "      <th>train</th>\n",
       "      <th>bus</th>\n",
       "      <th>taxi</th>\n",
       "      <th>motorcycle</th>\n",
       "      <th>car</th>\n",
       "      <th>cycle</th>\n",
       "      <th>...</th>\n",
       "      <th>nrooms</th>\n",
       "      <th>wzclass</th>\n",
       "      <th>distance</th>\n",
       "      <th>response</th>\n",
       "      <th>disttrainstn</th>\n",
       "      <th>distcoachstn</th>\n",
       "      <th>distbusstop</th>\n",
       "      <th>distmway</th>\n",
       "      <th>prediction</th>\n",
       "      <th>residual</th>\n",
       "    </tr>\n",
       "  </thead>\n",
       "  <tbody>\n",
       "    <tr>\n",
       "      <th>10392</th>\n",
       "      <td>E02002412</td>\n",
       "      <td>E02002380</td>\n",
       "      <td>0.0</td>\n",
       "      <td>0.0</td>\n",
       "      <td>0.000000</td>\n",
       "      <td>0.000000</td>\n",
       "      <td>0.000000</td>\n",
       "      <td>0.0</td>\n",
       "      <td>1.000000</td>\n",
       "      <td>0.000000</td>\n",
       "      <td>...</td>\n",
       "      <td>5.1</td>\n",
       "      <td>4</td>\n",
       "      <td>4.945144</td>\n",
       "      <td>0.286948</td>\n",
       "      <td>0.316584</td>\n",
       "      <td>4.224143</td>\n",
       "      <td>0.025143</td>\n",
       "      <td>1.248480</td>\n",
       "      <td>0.116028</td>\n",
       "      <td>0.170920</td>\n",
       "    </tr>\n",
       "    <tr>\n",
       "      <th>730</th>\n",
       "      <td>E02002199</td>\n",
       "      <td>E02006852</td>\n",
       "      <td>0.0</td>\n",
       "      <td>0.0</td>\n",
       "      <td>0.000000</td>\n",
       "      <td>0.000000</td>\n",
       "      <td>0.000000</td>\n",
       "      <td>0.0</td>\n",
       "      <td>1.000000</td>\n",
       "      <td>0.000000</td>\n",
       "      <td>...</td>\n",
       "      <td>5.5</td>\n",
       "      <td>3</td>\n",
       "      <td>9.051365</td>\n",
       "      <td>0.234269</td>\n",
       "      <td>0.701337</td>\n",
       "      <td>3.860890</td>\n",
       "      <td>0.022968</td>\n",
       "      <td>4.665876</td>\n",
       "      <td>0.152987</td>\n",
       "      <td>0.081282</td>\n",
       "    </tr>\n",
       "    <tr>\n",
       "      <th>5012</th>\n",
       "      <td>E02002292</td>\n",
       "      <td>E02002319</td>\n",
       "      <td>0.0</td>\n",
       "      <td>0.0</td>\n",
       "      <td>0.000000</td>\n",
       "      <td>0.076923</td>\n",
       "      <td>0.000000</td>\n",
       "      <td>0.0</td>\n",
       "      <td>0.846154</td>\n",
       "      <td>0.000000</td>\n",
       "      <td>...</td>\n",
       "      <td>5.8</td>\n",
       "      <td>4</td>\n",
       "      <td>9.958697</td>\n",
       "      <td>0.078294</td>\n",
       "      <td>0.913347</td>\n",
       "      <td>1.806835</td>\n",
       "      <td>0.001653</td>\n",
       "      <td>1.959186</td>\n",
       "      <td>0.128599</td>\n",
       "      <td>-0.050305</td>\n",
       "    </tr>\n",
       "    <tr>\n",
       "      <th>11240</th>\n",
       "      <td>E02002431</td>\n",
       "      <td>E02002404</td>\n",
       "      <td>0.0</td>\n",
       "      <td>0.0</td>\n",
       "      <td>0.176471</td>\n",
       "      <td>0.117647</td>\n",
       "      <td>0.000000</td>\n",
       "      <td>0.0</td>\n",
       "      <td>0.705882</td>\n",
       "      <td>0.000000</td>\n",
       "      <td>...</td>\n",
       "      <td>4.7</td>\n",
       "      <td>5</td>\n",
       "      <td>6.766768</td>\n",
       "      <td>-0.042495</td>\n",
       "      <td>0.841810</td>\n",
       "      <td>1.175607</td>\n",
       "      <td>0.013882</td>\n",
       "      <td>0.045721</td>\n",
       "      <td>0.093743</td>\n",
       "      <td>-0.136238</td>\n",
       "    </tr>\n",
       "    <tr>\n",
       "      <th>5570</th>\n",
       "      <td>E02002304</td>\n",
       "      <td>E02002323</td>\n",
       "      <td>0.0</td>\n",
       "      <td>0.0</td>\n",
       "      <td>0.000000</td>\n",
       "      <td>0.157895</td>\n",
       "      <td>0.052632</td>\n",
       "      <td>0.0</td>\n",
       "      <td>0.736842</td>\n",
       "      <td>0.052632</td>\n",
       "      <td>...</td>\n",
       "      <td>4.9</td>\n",
       "      <td>4</td>\n",
       "      <td>5.931843</td>\n",
       "      <td>0.001281</td>\n",
       "      <td>0.059731</td>\n",
       "      <td>0.652728</td>\n",
       "      <td>0.001784</td>\n",
       "      <td>2.915475</td>\n",
       "      <td>-0.073784</td>\n",
       "      <td>0.075066</td>\n",
       "    </tr>\n",
       "  </tbody>\n",
       "</table>\n",
       "<p>5 rows × 56 columns</p>\n",
       "</div>"
      ],
      "text/plain": [
       "        homeMSOA   workMSOA  workhome  metro     train       bus      taxi  \\\n",
       "10392  E02002412  E02002380       0.0    0.0  0.000000  0.000000  0.000000   \n",
       "730    E02002199  E02006852       0.0    0.0  0.000000  0.000000  0.000000   \n",
       "5012   E02002292  E02002319       0.0    0.0  0.000000  0.076923  0.000000   \n",
       "11240  E02002431  E02002404       0.0    0.0  0.176471  0.117647  0.000000   \n",
       "5570   E02002304  E02002323       0.0    0.0  0.000000  0.157895  0.052632   \n",
       "\n",
       "       motorcycle       car     cycle    ...     nrooms  wzclass  distance  \\\n",
       "10392         0.0  1.000000  0.000000    ...        5.1        4  4.945144   \n",
       "730           0.0  1.000000  0.000000    ...        5.5        3  9.051365   \n",
       "5012          0.0  0.846154  0.000000    ...        5.8        4  9.958697   \n",
       "11240         0.0  0.705882  0.000000    ...        4.7        5  6.766768   \n",
       "5570          0.0  0.736842  0.052632    ...        4.9        4  5.931843   \n",
       "\n",
       "       response  disttrainstn  distcoachstn  distbusstop  distmway  \\\n",
       "10392  0.286948      0.316584      4.224143     0.025143  1.248480   \n",
       "730    0.234269      0.701337      3.860890     0.022968  4.665876   \n",
       "5012   0.078294      0.913347      1.806835     0.001653  1.959186   \n",
       "11240 -0.042495      0.841810      1.175607     0.013882  0.045721   \n",
       "5570   0.001281      0.059731      0.652728     0.001784  2.915475   \n",
       "\n",
       "       prediction  residual  \n",
       "10392    0.116028  0.170920  \n",
       "730      0.152987  0.081282  \n",
       "5012     0.128599 -0.050305  \n",
       "11240    0.093743 -0.136238  \n",
       "5570    -0.073784  0.075066  \n",
       "\n",
       "[5 rows x 56 columns]"
      ]
     },
     "execution_count": 38,
     "metadata": {},
     "output_type": "execute_result"
    }
   ],
   "source": [
    "plotdf.head()"
   ]
  },
  {
   "cell_type": "code",
   "execution_count": 39,
   "metadata": {
    "collapsed": false
   },
   "outputs": [
    {
     "data": {
      "text/html": [
       "<div>\n",
       "<table border=\"1\" class=\"dataframe\">\n",
       "  <thead>\n",
       "    <tr style=\"text-align: right;\">\n",
       "      <th></th>\n",
       "      <th>workhome</th>\n",
       "      <th>metro</th>\n",
       "      <th>train</th>\n",
       "      <th>bus</th>\n",
       "      <th>taxi</th>\n",
       "      <th>motorcycle</th>\n",
       "      <th>car</th>\n",
       "      <th>cycle</th>\n",
       "      <th>walk</th>\n",
       "      <th>othertransp</th>\n",
       "      <th>...</th>\n",
       "      <th>nrooms</th>\n",
       "      <th>wzclass</th>\n",
       "      <th>distance</th>\n",
       "      <th>response</th>\n",
       "      <th>disttrainstn</th>\n",
       "      <th>distcoachstn</th>\n",
       "      <th>distbusstop</th>\n",
       "      <th>distmway</th>\n",
       "      <th>prediction</th>\n",
       "      <th>residual</th>\n",
       "    </tr>\n",
       "  </thead>\n",
       "  <tbody>\n",
       "    <tr>\n",
       "      <th>count</th>\n",
       "      <td>3425.0</td>\n",
       "      <td>3425.000000</td>\n",
       "      <td>3425.000000</td>\n",
       "      <td>3425.000000</td>\n",
       "      <td>3425.000000</td>\n",
       "      <td>3425.000000</td>\n",
       "      <td>3425.000000</td>\n",
       "      <td>3425.000000</td>\n",
       "      <td>3425.000000</td>\n",
       "      <td>3425.000000</td>\n",
       "      <td>...</td>\n",
       "      <td>3425.000000</td>\n",
       "      <td>3425.000000</td>\n",
       "      <td>3425.000000</td>\n",
       "      <td>3425.000000</td>\n",
       "      <td>3425.000000</td>\n",
       "      <td>3425.000000</td>\n",
       "      <td>3.425000e+03</td>\n",
       "      <td>3425.000000</td>\n",
       "      <td>3425.000000</td>\n",
       "      <td>3425.000000</td>\n",
       "    </tr>\n",
       "    <tr>\n",
       "      <th>mean</th>\n",
       "      <td>0.0</td>\n",
       "      <td>0.000508</td>\n",
       "      <td>0.032533</td>\n",
       "      <td>0.112346</td>\n",
       "      <td>0.009335</td>\n",
       "      <td>0.006850</td>\n",
       "      <td>0.762760</td>\n",
       "      <td>0.013494</td>\n",
       "      <td>0.059941</td>\n",
       "      <td>0.002232</td>\n",
       "      <td>...</td>\n",
       "      <td>5.262540</td>\n",
       "      <td>3.958832</td>\n",
       "      <td>8.128227</td>\n",
       "      <td>0.059872</td>\n",
       "      <td>0.941970</td>\n",
       "      <td>2.268318</td>\n",
       "      <td>2.709271e-02</td>\n",
       "      <td>3.170361</td>\n",
       "      <td>0.059363</td>\n",
       "      <td>0.000509</td>\n",
       "    </tr>\n",
       "    <tr>\n",
       "      <th>std</th>\n",
       "      <td>0.0</td>\n",
       "      <td>0.004753</td>\n",
       "      <td>0.093899</td>\n",
       "      <td>0.112206</td>\n",
       "      <td>0.022875</td>\n",
       "      <td>0.019529</td>\n",
       "      <td>0.176332</td>\n",
       "      <td>0.030210</td>\n",
       "      <td>0.102410</td>\n",
       "      <td>0.011447</td>\n",
       "      <td>...</td>\n",
       "      <td>0.525463</td>\n",
       "      <td>1.574771</td>\n",
       "      <td>5.222519</td>\n",
       "      <td>0.161869</td>\n",
       "      <td>0.957352</td>\n",
       "      <td>2.144923</td>\n",
       "      <td>4.365808e-02</td>\n",
       "      <td>3.341958</td>\n",
       "      <td>0.106351</td>\n",
       "      <td>0.121045</td>\n",
       "    </tr>\n",
       "    <tr>\n",
       "      <th>min</th>\n",
       "      <td>0.0</td>\n",
       "      <td>0.000000</td>\n",
       "      <td>0.000000</td>\n",
       "      <td>0.000000</td>\n",
       "      <td>0.000000</td>\n",
       "      <td>0.000000</td>\n",
       "      <td>0.062937</td>\n",
       "      <td>0.000000</td>\n",
       "      <td>0.000000</td>\n",
       "      <td>0.000000</td>\n",
       "      <td>...</td>\n",
       "      <td>2.900000</td>\n",
       "      <td>1.000000</td>\n",
       "      <td>0.599442</td>\n",
       "      <td>-0.624759</td>\n",
       "      <td>0.000282</td>\n",
       "      <td>0.000045</td>\n",
       "      <td>3.903194e-07</td>\n",
       "      <td>0.000562</td>\n",
       "      <td>-0.419209</td>\n",
       "      <td>-0.655228</td>\n",
       "    </tr>\n",
       "    <tr>\n",
       "      <th>25%</th>\n",
       "      <td>0.0</td>\n",
       "      <td>0.000000</td>\n",
       "      <td>0.000000</td>\n",
       "      <td>0.023529</td>\n",
       "      <td>0.000000</td>\n",
       "      <td>0.000000</td>\n",
       "      <td>0.666667</td>\n",
       "      <td>0.000000</td>\n",
       "      <td>0.000000</td>\n",
       "      <td>0.000000</td>\n",
       "      <td>...</td>\n",
       "      <td>5.000000</td>\n",
       "      <td>3.000000</td>\n",
       "      <td>4.238298</td>\n",
       "      <td>-0.022442</td>\n",
       "      <td>0.275479</td>\n",
       "      <td>0.821114</td>\n",
       "      <td>4.864743e-03</td>\n",
       "      <td>0.797833</td>\n",
       "      <td>0.013108</td>\n",
       "      <td>-0.067053</td>\n",
       "    </tr>\n",
       "    <tr>\n",
       "      <th>50%</th>\n",
       "      <td>0.0</td>\n",
       "      <td>0.000000</td>\n",
       "      <td>0.000000</td>\n",
       "      <td>0.086957</td>\n",
       "      <td>0.000000</td>\n",
       "      <td>0.000000</td>\n",
       "      <td>0.800000</td>\n",
       "      <td>0.000000</td>\n",
       "      <td>0.011111</td>\n",
       "      <td>0.000000</td>\n",
       "      <td>...</td>\n",
       "      <td>5.200000</td>\n",
       "      <td>4.000000</td>\n",
       "      <td>6.971550</td>\n",
       "      <td>0.087577</td>\n",
       "      <td>0.665151</td>\n",
       "      <td>1.645180</td>\n",
       "      <td>1.320286e-02</td>\n",
       "      <td>1.927659</td>\n",
       "      <td>0.088188</td>\n",
       "      <td>0.005706</td>\n",
       "    </tr>\n",
       "    <tr>\n",
       "      <th>75%</th>\n",
       "      <td>0.0</td>\n",
       "      <td>0.000000</td>\n",
       "      <td>0.009524</td>\n",
       "      <td>0.166667</td>\n",
       "      <td>0.000000</td>\n",
       "      <td>0.000000</td>\n",
       "      <td>0.900000</td>\n",
       "      <td>0.014085</td>\n",
       "      <td>0.076923</td>\n",
       "      <td>0.000000</td>\n",
       "      <td>...</td>\n",
       "      <td>5.600000</td>\n",
       "      <td>5.000000</td>\n",
       "      <td>10.929691</td>\n",
       "      <td>0.169686</td>\n",
       "      <td>1.327902</td>\n",
       "      <td>2.926299</td>\n",
       "      <td>3.118130e-02</td>\n",
       "      <td>4.432814</td>\n",
       "      <td>0.132346</td>\n",
       "      <td>0.078104</td>\n",
       "    </tr>\n",
       "    <tr>\n",
       "      <th>max</th>\n",
       "      <td>0.0</td>\n",
       "      <td>0.083333</td>\n",
       "      <td>0.815603</td>\n",
       "      <td>0.727273</td>\n",
       "      <td>0.200000</td>\n",
       "      <td>0.200000</td>\n",
       "      <td>1.000000</td>\n",
       "      <td>0.545455</td>\n",
       "      <td>0.821678</td>\n",
       "      <td>0.153846</td>\n",
       "      <td>...</td>\n",
       "      <td>7.100000</td>\n",
       "      <td>7.000000</td>\n",
       "      <td>33.617266</td>\n",
       "      <td>0.465738</td>\n",
       "      <td>14.221932</td>\n",
       "      <td>16.205664</td>\n",
       "      <td>6.197095e-01</td>\n",
       "      <td>23.216051</td>\n",
       "      <td>0.264570</td>\n",
       "      <td>0.410735</td>\n",
       "    </tr>\n",
       "  </tbody>\n",
       "</table>\n",
       "<p>8 rows × 54 columns</p>\n",
       "</div>"
      ],
      "text/plain": [
       "       workhome        metro        train          bus         taxi  \\\n",
       "count    3425.0  3425.000000  3425.000000  3425.000000  3425.000000   \n",
       "mean        0.0     0.000508     0.032533     0.112346     0.009335   \n",
       "std         0.0     0.004753     0.093899     0.112206     0.022875   \n",
       "min         0.0     0.000000     0.000000     0.000000     0.000000   \n",
       "25%         0.0     0.000000     0.000000     0.023529     0.000000   \n",
       "50%         0.0     0.000000     0.000000     0.086957     0.000000   \n",
       "75%         0.0     0.000000     0.009524     0.166667     0.000000   \n",
       "max         0.0     0.083333     0.815603     0.727273     0.200000   \n",
       "\n",
       "        motorcycle          car        cycle         walk  othertransp  \\\n",
       "count  3425.000000  3425.000000  3425.000000  3425.000000  3425.000000   \n",
       "mean      0.006850     0.762760     0.013494     0.059941     0.002232   \n",
       "std       0.019529     0.176332     0.030210     0.102410     0.011447   \n",
       "min       0.000000     0.062937     0.000000     0.000000     0.000000   \n",
       "25%       0.000000     0.666667     0.000000     0.000000     0.000000   \n",
       "50%       0.000000     0.800000     0.000000     0.011111     0.000000   \n",
       "75%       0.000000     0.900000     0.014085     0.076923     0.000000   \n",
       "max       0.200000     1.000000     0.545455     0.821678     0.153846   \n",
       "\n",
       "          ...            nrooms      wzclass     distance     response  \\\n",
       "count     ...       3425.000000  3425.000000  3425.000000  3425.000000   \n",
       "mean      ...          5.262540     3.958832     8.128227     0.059872   \n",
       "std       ...          0.525463     1.574771     5.222519     0.161869   \n",
       "min       ...          2.900000     1.000000     0.599442    -0.624759   \n",
       "25%       ...          5.000000     3.000000     4.238298    -0.022442   \n",
       "50%       ...          5.200000     4.000000     6.971550     0.087577   \n",
       "75%       ...          5.600000     5.000000    10.929691     0.169686   \n",
       "max       ...          7.100000     7.000000    33.617266     0.465738   \n",
       "\n",
       "       disttrainstn  distcoachstn   distbusstop     distmway   prediction  \\\n",
       "count   3425.000000   3425.000000  3.425000e+03  3425.000000  3425.000000   \n",
       "mean       0.941970      2.268318  2.709271e-02     3.170361     0.059363   \n",
       "std        0.957352      2.144923  4.365808e-02     3.341958     0.106351   \n",
       "min        0.000282      0.000045  3.903194e-07     0.000562    -0.419209   \n",
       "25%        0.275479      0.821114  4.864743e-03     0.797833     0.013108   \n",
       "50%        0.665151      1.645180  1.320286e-02     1.927659     0.088188   \n",
       "75%        1.327902      2.926299  3.118130e-02     4.432814     0.132346   \n",
       "max       14.221932     16.205664  6.197095e-01    23.216051     0.264570   \n",
       "\n",
       "          residual  \n",
       "count  3425.000000  \n",
       "mean      0.000509  \n",
       "std       0.121045  \n",
       "min      -0.655228  \n",
       "25%      -0.067053  \n",
       "50%       0.005706  \n",
       "75%       0.078104  \n",
       "max       0.410735  \n",
       "\n",
       "[8 rows x 54 columns]"
      ]
     },
     "execution_count": 39,
     "metadata": {},
     "output_type": "execute_result"
    }
   ],
   "source": [
    "plotdf.describe()"
   ]
  },
  {
   "cell_type": "code",
   "execution_count": 40,
   "metadata": {
    "collapsed": false
   },
   "outputs": [
    {
     "data": {
      "text/plain": [
       "0.4407910555504081"
      ]
     },
     "execution_count": 40,
     "metadata": {},
     "output_type": "execute_result"
    }
   ],
   "source": [
    "r2_score(plotdf[[\"response\"]], plotdf[[\"prediction\"]])"
   ]
  },
  {
   "cell_type": "code",
   "execution_count": 41,
   "metadata": {
    "collapsed": false
   },
   "outputs": [
    {
     "data": {
      "text/plain": [
       "0.014647908018375913"
      ]
     },
     "execution_count": 41,
     "metadata": {},
     "output_type": "execute_result"
    }
   ],
   "source": [
    "mean_squared_error(plotdf[[\"response\"]], plotdf[[\"prediction\"]])"
   ]
  },
  {
   "cell_type": "code",
   "execution_count": 42,
   "metadata": {
    "collapsed": false
   },
   "outputs": [
    {
     "data": {
      "image/png": "[encoded data removed]",
      "text/plain": [
       "<matplotlib.figure.Figure at 0x7fbacc93d278>"
      ]
     },
     "metadata": {},
     "output_type": "display_data"
    }
   ],
   "source": [
    "import seaborn as sns\n",
    "plt.hist([plotdf.loc[:, \"response\"], plotdf.loc[:, \"prediction\"]], color=['r','b'], alpha=0.5)\n",
    "plt.show()"
   ]
  },
  {
   "cell_type": "code",
   "execution_count": 43,
   "metadata": {
    "collapsed": false
   },
   "outputs": [
    {
     "data": {
      "image/png": "[encoded data removed]",
      "text/plain": [
       "<matplotlib.figure.Figure at 0x7fbacc79c860>"
      ]
     },
     "metadata": {},
     "output_type": "display_data"
    }
   ],
   "source": [
    "import seaborn as sns\n",
    "\n",
    "sns.regplot(\"prediction\", \"residual\", data=plotdf)\n",
    "plt.show()"
   ]
  },
  {
   "cell_type": "code",
   "execution_count": 44,
   "metadata": {
    "collapsed": false
   },
   "outputs": [
    {
     "data": {
      "image/png": "[encoded data removed]",
      "text/plain": [
       "<matplotlib.figure.Figure at 0x7fbacc73c940>"
      ]
     },
     "metadata": {},
     "output_type": "display_data"
    }
   ],
   "source": [
    "sns.regplot(\"response\",\"prediction\", plotdf)\n",
    "plt.show()"
   ]
  },
  {
   "cell_type": "code",
   "execution_count": 45,
   "metadata": {
    "collapsed": false
   },
   "outputs": [
    {
     "data": {
      "image/png": "[encoded data removed]",
      "text/plain": [
       "<matplotlib.figure.Figure at 0x7fbacc6abcc0>"
      ]
     },
     "metadata": {},
     "output_type": "display_data"
    }
   ],
   "source": [
    "sns.jointplot(\"response\",\"prediction\", plotdf)\n",
    "plt.show()"
   ]
  },
  {
   "cell_type": "code",
   "execution_count": 46,
   "metadata": {
    "collapsed": false
   },
   "outputs": [
    {
     "name": "stdout",
     "output_type": "stream",
     "text": [
      "[['house0carpct', -0.046938323353435903],\n",
      " ['house2carpct', 0.032146302451828181],\n",
      " ['16-24', -0.023882644199425505],\n",
      " ['disttrainstn', 0.023045912545418958],\n",
      " ['mixed', 0.018123495615305404],\n",
      " ['wzclass', 0.017906801732535518],\n",
      " ['black', -0.01678500780427972],\n",
      " ['nrooms', -0.015058926097964248],\n",
      " ['distcoachstn', 0.014493771331519197],\n",
      " ['female', -0.013174634139009598],\n",
      " ['asian', 0.012919148225711944],\n",
      " ['25-34', -0.010787219772343407],\n",
      " ['lev4qual', -0.0096088425501709342],\n",
      " ['distbusstop', 0.0093598728046759266],\n",
      " ['house3carpct', 0.0092182908324113921]]\n"
     ]
    }
   ],
   "source": [
    "clf = ElasticNetCV()\n",
    "clf = clf.fit(X_train, Y_train)\n",
    "\n",
    "elasticfeats = []\n",
    "for i, row in enumerate(clf.coef_):\n",
    "    elasticfeats.append([predictors[i], row])\n",
    "    \n",
    "elasticfeats.sort(key=lambda x: abs(x[1]), reverse=True)\n",
    "pprint(elasticfeats[:15])"
   ]
  },
  {
   "cell_type": "code",
   "execution_count": 47,
   "metadata": {
    "collapsed": true
   },
   "outputs": [],
   "source": [
    "elasticfeats_set = set(np.asarray(elasticfeats)[:10,0])\n",
    "randforestfeats_set = set(np.asarray(randforestfeats)[:10,0])\n",
    "borutafeats_set = set(borutafeats)\n",
    "#limefeats_set = set([i[0].split()[0] for i in limefeats[:10]]) # LIME is for individual predictions, so do not consider here\n",
    "#mutinfofeats_set = set(np.asarray(mutinfofeats)[:10,0])"
   ]
  },
  {
   "cell_type": "code",
   "execution_count": 48,
   "metadata": {
    "collapsed": false
   },
   "outputs": [
    {
     "name": "stdout",
     "output_type": "stream",
     "text": [
      "{'black', 'disttrainstn', 'house0carpct', 'house2carpct', 'nrooms', 'wzclass', 'mixed', 'female', '16-24', 'distcoachstn'}\n",
      "{'disttrainstn', 'distmway', 'distbusstop', 'house0carpct', 'house2carpct', 'wzclass', '25-34', 'female', '16-24', 'distcoachstn'}\n",
      "{'disttrainstn', 'distmway', '35-49', 'house1carpct', 'house3carpct', 'house0carpct', 'distbusstop', 'house2carpct', 'wzclass', '25-34', 'female', '16-24', '50-54', 'distcoachstn'}\n"
     ]
    }
   ],
   "source": [
    "print(elasticfeats_set)\n",
    "print(randforestfeats_set)\n",
    "print(borutafeats_set)"
   ]
  },
  {
   "cell_type": "code",
   "execution_count": 49,
   "metadata": {
    "collapsed": false
   },
   "outputs": [
    {
     "data": {
      "text/plain": [
       "{'16-24',\n",
       " 'distcoachstn',\n",
       " 'disttrainstn',\n",
       " 'female',\n",
       " 'house0carpct',\n",
       " 'house2carpct',\n",
       " 'wzclass'}"
      ]
     },
     "execution_count": 49,
     "metadata": {},
     "output_type": "execute_result"
    }
   ],
   "source": [
    "impfeats = randforestfeats_set.intersection(elasticfeats_set)\n",
    "impfeats = impfeats.intersection(borutafeats_set)\n",
    "#impfeats = impfeats.intersection(mutinfofeats_set)\n",
    "impfeats"
   ]
  },
  {
   "cell_type": "markdown",
   "metadata": {
    "collapsed": false
   },
   "source": [
    "for i in predictors:\n",
    "    sns.regplot(i, \"response\", data=df.iloc[trainidx, :])\n",
    "    plt.show()"
   ]
  },
  {
   "cell_type": "markdown",
   "metadata": {},
   "source": [
    "sns.pairplot(data=df.loc[trainidx, predictors])"
   ]
  }
 ],
 "metadata": {
  "kernelspec": {
   "display_name": "Python 3",
   "language": "python",
   "name": "python3"
  },
  "language_info": {
   "codemirror_mode": {
    "name": "ipython",
    "version": 3
   },
   "file_extension": ".py",
   "mimetype": "text/x-python",
   "name": "python",
   "nbconvert_exporter": "python",
   "pygments_lexer": "ipython3",
   "version": "3.5.2"
  }
 },
 "nbformat": 4,
 "nbformat_minor": 0
}
