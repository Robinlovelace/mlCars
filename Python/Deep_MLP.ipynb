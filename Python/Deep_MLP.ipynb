{
 "cells": [
  {
   "cell_type": "code",
   "execution_count": 1,
   "metadata": {
    "collapsed": false
   },
   "outputs": [],
   "source": [
    "import matplotlib.pyplot as plt\n",
    "from IPython import display\n",
    "%matplotlib inline\n",
    "import numpy as np"
   ]
  },
  {
   "cell_type": "code",
   "execution_count": 2,
   "metadata": {
    "collapsed": false
   },
   "outputs": [
    {
     "data": {
      "text/html": [
       "<div>\n",
       "<table border=\"1\" class=\"dataframe\">\n",
       "  <thead>\n",
       "    <tr style=\"text-align: right;\">\n",
       "      <th></th>\n",
       "      <th>homeMSOA</th>\n",
       "      <th>workMSOA</th>\n",
       "      <th>workhome</th>\n",
       "      <th>metro</th>\n",
       "      <th>train</th>\n",
       "      <th>bus</th>\n",
       "      <th>taxi</th>\n",
       "      <th>motorcycle</th>\n",
       "      <th>car</th>\n",
       "      <th>cycle</th>\n",
       "      <th>...</th>\n",
       "      <th>otherqual</th>\n",
       "      <th>centheat</th>\n",
       "      <th>nrooms</th>\n",
       "      <th>wzclass</th>\n",
       "      <th>distance</th>\n",
       "      <th>response</th>\n",
       "      <th>disttrainstn</th>\n",
       "      <th>distcoachstn</th>\n",
       "      <th>distbusstop</th>\n",
       "      <th>distmway</th>\n",
       "    </tr>\n",
       "  </thead>\n",
       "  <tbody>\n",
       "    <tr>\n",
       "      <th>0</th>\n",
       "      <td>E02002183</td>\n",
       "      <td>E02002184</td>\n",
       "      <td>0.0</td>\n",
       "      <td>0.0</td>\n",
       "      <td>0.01506</td>\n",
       "      <td>0.069277</td>\n",
       "      <td>0.0</td>\n",
       "      <td>0.0</td>\n",
       "      <td>0.743976</td>\n",
       "      <td>0.012048</td>\n",
       "      <td>...</td>\n",
       "      <td>0.028852</td>\n",
       "      <td>0.980225</td>\n",
       "      <td>5.9</td>\n",
       "      <td>4</td>\n",
       "      <td>2.684270</td>\n",
       "      <td>0.144439</td>\n",
       "      <td>0.437264</td>\n",
       "      <td>7.354263</td>\n",
       "      <td>0.021183</td>\n",
       "      <td>22.434402</td>\n",
       "    </tr>\n",
       "    <tr>\n",
       "      <th>1</th>\n",
       "      <td>E02002183</td>\n",
       "      <td>E02002185</td>\n",
       "      <td>0.0</td>\n",
       "      <td>0.0</td>\n",
       "      <td>0.12500</td>\n",
       "      <td>0.000000</td>\n",
       "      <td>0.0</td>\n",
       "      <td>0.0</td>\n",
       "      <td>0.812500</td>\n",
       "      <td>0.000000</td>\n",
       "      <td>...</td>\n",
       "      <td>0.028852</td>\n",
       "      <td>0.980225</td>\n",
       "      <td>5.9</td>\n",
       "      <td>6</td>\n",
       "      <td>7.265346</td>\n",
       "      <td>0.058454</td>\n",
       "      <td>0.270787</td>\n",
       "      <td>7.354263</td>\n",
       "      <td>0.031054</td>\n",
       "      <td>18.741927</td>\n",
       "    </tr>\n",
       "    <tr>\n",
       "      <th>2</th>\n",
       "      <td>E02002183</td>\n",
       "      <td>E02002186</td>\n",
       "      <td>0.0</td>\n",
       "      <td>0.0</td>\n",
       "      <td>0.00000</td>\n",
       "      <td>0.011628</td>\n",
       "      <td>0.0</td>\n",
       "      <td>0.0</td>\n",
       "      <td>0.941860</td>\n",
       "      <td>0.011628</td>\n",
       "      <td>...</td>\n",
       "      <td>0.028852</td>\n",
       "      <td>0.980225</td>\n",
       "      <td>5.9</td>\n",
       "      <td>6</td>\n",
       "      <td>4.906847</td>\n",
       "      <td>0.229892</td>\n",
       "      <td>1.636134</td>\n",
       "      <td>5.263695</td>\n",
       "      <td>0.483769</td>\n",
       "      <td>23.216051</td>\n",
       "    </tr>\n",
       "    <tr>\n",
       "      <th>3</th>\n",
       "      <td>E02002183</td>\n",
       "      <td>E02002187</td>\n",
       "      <td>0.0</td>\n",
       "      <td>0.0</td>\n",
       "      <td>0.00000</td>\n",
       "      <td>0.000000</td>\n",
       "      <td>0.0</td>\n",
       "      <td>0.0</td>\n",
       "      <td>0.916667</td>\n",
       "      <td>0.000000</td>\n",
       "      <td>...</td>\n",
       "      <td>0.028852</td>\n",
       "      <td>0.980225</td>\n",
       "      <td>5.9</td>\n",
       "      <td>4</td>\n",
       "      <td>6.938770</td>\n",
       "      <td>0.166186</td>\n",
       "      <td>0.935954</td>\n",
       "      <td>6.985427</td>\n",
       "      <td>0.328198</td>\n",
       "      <td>18.379430</td>\n",
       "    </tr>\n",
       "    <tr>\n",
       "      <th>4</th>\n",
       "      <td>E02002183</td>\n",
       "      <td>E02002188</td>\n",
       "      <td>0.0</td>\n",
       "      <td>0.0</td>\n",
       "      <td>0.00000</td>\n",
       "      <td>0.100000</td>\n",
       "      <td>0.0</td>\n",
       "      <td>0.0</td>\n",
       "      <td>0.700000</td>\n",
       "      <td>0.000000</td>\n",
       "      <td>...</td>\n",
       "      <td>0.028852</td>\n",
       "      <td>0.980225</td>\n",
       "      <td>5.9</td>\n",
       "      <td>5</td>\n",
       "      <td>4.595884</td>\n",
       "      <td>-0.002455</td>\n",
       "      <td>2.604336</td>\n",
       "      <td>3.576567</td>\n",
       "      <td>0.699492</td>\n",
       "      <td>19.114812</td>\n",
       "    </tr>\n",
       "  </tbody>\n",
       "</table>\n",
       "<p>5 rows × 54 columns</p>\n",
       "</div>"
      ],
      "text/plain": [
       "    homeMSOA   workMSOA  workhome  metro    train       bus  taxi  motorcycle  \\\n",
       "0  E02002183  E02002184       0.0    0.0  0.01506  0.069277   0.0         0.0   \n",
       "1  E02002183  E02002185       0.0    0.0  0.12500  0.000000   0.0         0.0   \n",
       "2  E02002183  E02002186       0.0    0.0  0.00000  0.011628   0.0         0.0   \n",
       "3  E02002183  E02002187       0.0    0.0  0.00000  0.000000   0.0         0.0   \n",
       "4  E02002183  E02002188       0.0    0.0  0.00000  0.100000   0.0         0.0   \n",
       "\n",
       "        car     cycle    ...      otherqual  centheat  nrooms  wzclass  \\\n",
       "0  0.743976  0.012048    ...       0.028852  0.980225     5.9        4   \n",
       "1  0.812500  0.000000    ...       0.028852  0.980225     5.9        6   \n",
       "2  0.941860  0.011628    ...       0.028852  0.980225     5.9        6   \n",
       "3  0.916667  0.000000    ...       0.028852  0.980225     5.9        4   \n",
       "4  0.700000  0.000000    ...       0.028852  0.980225     5.9        5   \n",
       "\n",
       "   distance  response  disttrainstn  distcoachstn  distbusstop   distmway  \n",
       "0  2.684270  0.144439      0.437264      7.354263     0.021183  22.434402  \n",
       "1  7.265346  0.058454      0.270787      7.354263     0.031054  18.741927  \n",
       "2  4.906847  0.229892      1.636134      5.263695     0.483769  23.216051  \n",
       "3  6.938770  0.166186      0.935954      6.985427     0.328198  18.379430  \n",
       "4  4.595884 -0.002455      2.604336      3.576567     0.699492  19.114812  \n",
       "\n",
       "[5 rows x 54 columns]"
      ]
     },
     "execution_count": 2,
     "metadata": {},
     "output_type": "execute_result"
    }
   ],
   "source": [
    "import os\n",
    "import pandas as pd\n",
    "#os.getcwd()\n",
    "df = pd.read_csv(\"../data/wyflows_w_response_and_geo.csv\")\n",
    "df.head()"
   ]
  },
  {
   "cell_type": "code",
   "execution_count": 3,
   "metadata": {
    "collapsed": false
   },
   "outputs": [
    {
     "data": {
      "text/plain": [
       "Index(['homeMSOA', 'workMSOA', 'workhome', 'metro', 'train', 'bus', 'taxi',\n",
       "       'motorcycle', 'car', 'cycle', 'walk', 'othertransp', 'npeople', '16-24',\n",
       "       '25-34', '35-49', '50-54', '65-74', '75+', 'female', 'house0carpct',\n",
       "       'house1carpct', 'house2carpct', 'house3carpct', 'house4carpct',\n",
       "       'ppperhect', 'econactivpct', 'econinactivpct', 'vghealth', 'ghealth',\n",
       "       'fhealth', 'bhealth', 'vbhealth', 'white', 'mixed', 'asian', 'black',\n",
       "       'otherethn', 'noqual', 'aptshpqual', 'lev1qual', 'lev2qual', 'lev3qual',\n",
       "       'lev4qual', 'otherqual', 'centheat', 'nrooms', 'wzclass', 'distance',\n",
       "       'response', 'disttrainstn', 'distcoachstn', 'distbusstop', 'distmway'],\n",
       "      dtype='object')"
      ]
     },
     "execution_count": 3,
     "metadata": {},
     "output_type": "execute_result"
    }
   ],
   "source": [
    "df.columns"
   ]
  },
  {
   "cell_type": "code",
   "execution_count": 4,
   "metadata": {
    "collapsed": false
   },
   "outputs": [],
   "source": [
    "Xfull = df.drop(['homeMSOA','workMSOA','car','response','npeople','workhome','metro','train','bus','taxi','motorcycle','cycle','walk','othertransp'], axis=1).values\n",
    "Yfull = df['car'].values\n",
    "\n",
    "predictors = list(df.drop(['homeMSOA','workMSOA','car','response','npeople','workhome','metro','train','bus','taxi','motorcycle','cycle','walk','othertransp'], axis=1).columns)"
   ]
  },
  {
   "cell_type": "code",
   "execution_count": 5,
   "metadata": {
    "collapsed": true
   },
   "outputs": [],
   "source": [
    "# DO NOT USE THE FULL DATASET, SPLIT OFF A TRAINING SET BEFORE GOING FURTHER, AND NEVER USE THE FULL SET\n",
    "\n",
    "import math\n",
    "\n",
    "idx = list(range(Xfull.shape[0]))\n",
    "np.random.seed(seed=5)\n",
    "np.random.shuffle(idx)\n",
    "np.random.seed(seed=None)\n",
    "\n",
    "trainsetsize = math.floor(Xfull.shape[0]/2)\n",
    "trainidx = idx[:trainsetsize]\n",
    "\n",
    "X, Y = Xfull[trainidx,:], Yfull[trainidx]"
   ]
  },
  {
   "cell_type": "code",
   "execution_count": 6,
   "metadata": {
    "collapsed": false
   },
   "outputs": [
    {
     "data": {
      "text/plain": [
       "['16-24',\n",
       " '25-34',\n",
       " '35-49',\n",
       " '50-54',\n",
       " '65-74',\n",
       " '75+',\n",
       " 'female',\n",
       " 'house0carpct',\n",
       " 'house1carpct',\n",
       " 'house2carpct',\n",
       " 'house3carpct',\n",
       " 'house4carpct',\n",
       " 'ppperhect',\n",
       " 'econactivpct',\n",
       " 'econinactivpct',\n",
       " 'vghealth',\n",
       " 'ghealth',\n",
       " 'fhealth',\n",
       " 'bhealth',\n",
       " 'vbhealth',\n",
       " 'white',\n",
       " 'mixed',\n",
       " 'asian',\n",
       " 'black',\n",
       " 'otherethn',\n",
       " 'noqual',\n",
       " 'aptshpqual',\n",
       " 'lev1qual',\n",
       " 'lev2qual',\n",
       " 'lev3qual',\n",
       " 'lev4qual',\n",
       " 'otherqual',\n",
       " 'centheat',\n",
       " 'nrooms',\n",
       " 'wzclass',\n",
       " 'distance',\n",
       " 'disttrainstn',\n",
       " 'distcoachstn',\n",
       " 'distbusstop',\n",
       " 'distmway']"
      ]
     },
     "execution_count": 6,
     "metadata": {},
     "output_type": "execute_result"
    }
   ],
   "source": [
    "predictors"
   ]
  },
  {
   "cell_type": "code",
   "execution_count": 7,
   "metadata": {
    "collapsed": false
   },
   "outputs": [],
   "source": [
    "#from sklearn.model_selection import StratifiedKFold\n",
    "from sklearn.model_selection import KFold\n",
    "\n",
    "#cross_valsets = StratifiedKFold(n_splits=2)\n",
    "cross_valsets = KFold(n_splits=10)\n",
    "for train_index, test_index in cross_valsets.split(X, Y):\n",
    "    #print(\"TRAIN:\", train_index, \"TEST:\", test_index)\n",
    "    Xtrain, Xval = X[train_index], X[test_index]\n",
    "    Ytrain, Yval = Y[train_index], Y[test_index]"
   ]
  },
  {
   "cell_type": "code",
   "execution_count": 8,
   "metadata": {
    "collapsed": false
   },
   "outputs": [],
   "source": [
    "from sklearn.preprocessing import StandardScaler\n",
    "\n",
    "scaler = StandardScaler().fit(Xtrain)\n",
    "Xtrain = scaler.transform(Xtrain)\n",
    "Xval = scaler.transform(Xval)\n",
    "\n",
    "# We use X = X_train + X_test for the cross-validation runs, so scale X too (note: X is already a training set)\n",
    "X = scaler.transform(X)"
   ]
  },
  {
   "cell_type": "code",
   "execution_count": 9,
   "metadata": {
    "collapsed": false
   },
   "outputs": [],
   "source": [
    "#import pickle\n",
    "\n",
    "#with open('/home/ilan/Desktop/Homesite_Quote_conversion_Kaggle/X_standard_train.pkl', 'rb') as fb:\n",
    "#    Xtrain = pickle.load(fb)\n",
    "\n",
    "#with open('/home/ilan/Desktop/Homesite_Quote_conversion_Kaggle/X_standard_val.pkl', 'rb') as fb:\n",
    "#    Xtest = pickle.load(fb)\n",
    "    \n",
    "#with open('/home/ilan/Desktop/Homesite_Quote_conversion_Kaggle/Ytrain.pkl', 'rb') as fb:\n",
    "#    Ytrain = pickle.load(fb)\n",
    "    \n",
    "#with open('/home/ilan/Desktop/Homesite_Quote_conversion_Kaggle/Yval.pkl', 'rb') as fb:\n",
    "#    Ytest = pickle.load(fb)\n",
    "    \n",
    "\n",
    "    \n",
    "#with open('/home/ilan/Desktop/BNP_Paribas_Cardif_Kaggle/X_standard_train.pkl', 'rb') as fb:\n",
    "#    Xtrain = pickle.load(fb)\n",
    "\n",
    "#with open('/home/ilan/Desktop/BNP_Paribas_Cardif_Kaggle/X_standard_val.pkl', 'rb') as fb:\n",
    "#    Xtest = pickle.load(fb)\n",
    "    \n",
    "#with open('/home/ilan/Desktop/BNP_Paribas_Cardif_Kaggle/Ytrain.pkl', 'rb') as fb:\n",
    "#    Ytrain = pickle.load(fb)\n",
    "    \n",
    "#with open('/home/ilan/Desktop/BNP_Paribas_Cardif_Kaggle/Yval.pkl', 'rb') as fb:\n",
    "#    Ytest = pickle.load(fb)\n",
    "    \n",
    " \n",
    "    \n",
    "#X = np.concatenate((Xtrain, Xtest), axis=0)\n",
    "#Y = np.concatenate((Ytrain, Ytest), axis=0)"
   ]
  },
  {
   "cell_type": "markdown",
   "metadata": {},
   "source": [
    "Split the data set into training, validation, and test sets.  \n",
    "We will not touch the test set at all."
   ]
  },
  {
   "cell_type": "markdown",
   "metadata": {
    "collapsed": true
   },
   "source": [
    "def TrainValTestSplit(X, Y, fracs_list=[0.7, 0.2, 0.1], shuffle=True, seed=42):\n",
    "    \"\"\"Split the samples x features Numpy array, X, into training, validation, and test sets as\n",
    "    specified in fractions in list fracs_list (e.g. [0.6, 0.2, 0.2])\n",
    "    \n",
    "    Return Numpy arrays:\n",
    "    Xtrain, Ytrain, Xval, Yval, Xtest, Ytest\"\"\"\n",
    "    \n",
    "    assert X.shape[0] == Y.shape[0]\n",
    "    \n",
    "    assert sum(fracs_list) == 1.0\n",
    "    \n",
    "    trainfrac, valfrac, testfrac = fracs_list\n",
    "    idxs = np.arange(X.shape[0])\n",
    "\n",
    "    if shuffle==True:\n",
    "        np.random.seed(seed)\n",
    "        np.random.shuffle(idxs)\n",
    "        np.random.seed(None) # Reset to the default value in case numpy uses the seed later (somewhere below)\n",
    "\n",
    "    trainidx = idxs[:int(trainfrac*len(idxs))]\n",
    "    validx = idxs[int(trainfrac*len(idxs)):int(trainfrac*len(idxs))+int(valfrac*len(idxs))]\n",
    "    testidx = idxs[int(trainfrac*len(idxs))+int(valfrac*len(idxs)):]\n",
    "\n",
    "    #Xtrain, Ytrain = X[trainidx], Y[trainidx]\n",
    "    #Xval, Yval = X[validx], Y[validx]\n",
    "    #Xtest, Ytest = X[testidx], Y[testidx]\n",
    "    #return Xtrain, Ytrain, Xval, Yval, Xtest, Ytest\n",
    "    return trainidx,validx,testidx"
   ]
  },
  {
   "cell_type": "markdown",
   "metadata": {
    "collapsed": false
   },
   "source": [
    "trainidx, validx, testidx = TrainValTestSplit(X, Y, fracs_list=[0.6, 0.2, 0.2])\n",
    "\n",
    "Xtrain, Ytrain = X[trainidx], Y[trainidx]\n",
    "Xval, Yval = X[validx], Y[validx]\n",
    "#Xtest, Ytest = X[testidx], Y[testidx]"
   ]
  },
  {
   "cell_type": "markdown",
   "metadata": {},
   "source": [
    "The size of the training and validation sets, as well as the class labels and their distribution."
   ]
  },
  {
   "cell_type": "code",
   "execution_count": 10,
   "metadata": {
    "collapsed": false
   },
   "outputs": [
    {
     "name": "stdout",
     "output_type": "stream",
     "text": [
      "(24213, 40)\n",
      "(2690, 40)\n"
     ]
    }
   ],
   "source": [
    "print(Xtrain.shape)\n",
    "print(Xval.shape)"
   ]
  },
  {
   "cell_type": "markdown",
   "metadata": {},
   "source": [
    "Choose scaling. Standard scaling, minmax scaling, whitening, etc."
   ]
  },
  {
   "cell_type": "code",
   "execution_count": 11,
   "metadata": {
    "collapsed": true
   },
   "outputs": [],
   "source": [
    "# Perform data whitening (make covariance matrix the identity matrix to remove auto-correlations)\n",
    "def whitening(X):\n",
    "    Xcentred = X - np.mean(X, axis=0)\n",
    "    cov = np.dot(Xcentred.T, Xcentred) / float(Xcentred.shape[0])\n",
    "    U,S,V = np.linalg.svd(cov)\n",
    "    Xrot = np.dot(Xcentred,U)\n",
    "    # Xrot_reduced = np.dot(Xcentred, U[:,:100])\n",
    "    Xwhite = Xrot / np.sqrt(S + 1e-5)\n",
    "    return Xwhite"
   ]
  },
  {
   "cell_type": "markdown",
   "metadata": {
    "collapsed": true
   },
   "source": [
    "Check for missing values. Impute if values are missing."
   ]
  },
  {
   "cell_type": "code",
   "execution_count": 12,
   "metadata": {
    "collapsed": true
   },
   "outputs": [],
   "source": [
    "def fancyImpute(X_incomplete):\n",
    "    \"\"\"Imputation methods. Options: SimpleFill, DenseKNN, SoftImpute,\n",
    "    IterativeSVD, MICE (ordinal variables only), MatrixFactorization,\n",
    "    NuclearNormMinimization (too slow for large matrices).\"\"\"\n",
    "    \n",
    "    import fancyimpute as fi\n",
    "    #from fancyimpute import (NuclearNormMinimization, BiScaler, DenseKNN)\n",
    "\n",
    "    # rescale both rows and columns to have zero mean and unit variance\n",
    "    biscaler = fi.BiScaler()\n",
    "    X_incomplete_normalized = biscaler.fit_transform(X_incomplete)\n",
    "\n",
    "    # use 3 nearest rows which have a feature to fill in each row's missing features\n",
    "    #solver = fi.DenseKNN(k=3)\n",
    "    solver = fi.SoftImpute()\n",
    "    # Options for solver = NuclearNormMinimization\n",
    "    X_filled_normalized = solver.complete(X_incomplete_normalized)\n",
    "    X_filled = biscaler.inverse_transform(X_filled_normalized)\n",
    "\n",
    "    #mse = ((X_filled[missing_mask] - X[missing_mask]) ** 2).mean()\n",
    "    #print(\"MSE of reconstruction: %f\" % mse)\n",
    "    return X_filled"
   ]
  },
  {
   "cell_type": "code",
   "execution_count": 13,
   "metadata": {
    "collapsed": false
   },
   "outputs": [
    {
     "name": "stdout",
     "output_type": "stream",
     "text": [
      "0.0\n",
      "0.0\n"
     ]
    }
   ],
   "source": [
    "print(float(Xtrain[np.isnan(Xtrain)].shape[0])/Xtrain.shape[0])\n",
    "print(float(Xval[np.isnan(Xval)].shape[0])/Xval.shape[0])"
   ]
  },
  {
   "cell_type": "code",
   "execution_count": 14,
   "metadata": {
    "collapsed": true
   },
   "outputs": [],
   "source": [
    "if Xtrain.any() == np.nan:\n",
    "    Xtrain = fancyImpute(Xtrain)\n",
    "if Xval.any() == np.nan:\n",
    "    Xval = fancyImpute(Xval)"
   ]
  },
  {
   "cell_type": "code",
   "execution_count": 15,
   "metadata": {
    "collapsed": false
   },
   "outputs": [
    {
     "name": "stdout",
     "output_type": "stream",
     "text": [
      "(24213, 1)\n",
      "(2690, 1)\n"
     ]
    }
   ],
   "source": [
    "Ytrain = Ytrain.reshape((Ytrain.shape[0], 1))\n",
    "print(Ytrain.shape)\n",
    "Yval = Yval.reshape((Yval.shape[0], 1))\n",
    "print(Yval.shape)"
   ]
  },
  {
   "cell_type": "markdown",
   "metadata": {},
   "source": [
    "Build the Multi-Layer Perceptron"
   ]
  },
  {
   "cell_type": "code",
   "execution_count": 16,
   "metadata": {
    "collapsed": false
   },
   "outputs": [],
   "source": [
    "import theano\n",
    "from theano import tensor as T\n",
    "#from theano.printing import debugprint\n",
    "\n",
    "#theano.config.compute_test_value = 'warn' # default is 'off'\n",
    "theano.config.compute_test_value = 'off'\n",
    "#print theano.config.optimizer # default value is 'fast_run'\n",
    "#print theano.config.exception_verbosity # default value is 'low'\n",
    "\n",
    "import LasagneUpdateRules_Feb_2017 as lur"
   ]
  },
  {
   "cell_type": "code",
   "execution_count": 17,
   "metadata": {
    "collapsed": false
   },
   "outputs": [
    {
     "name": "stdout",
     "output_type": "stream",
     "text": [
      "0.8.2\n"
     ]
    }
   ],
   "source": [
    "print(theano.__version__) # T.nnet.relu() activation function available only from Theano 0.7.1 onwards"
   ]
  },
  {
   "cell_type": "code",
   "execution_count": 18,
   "metadata": {
    "collapsed": true
   },
   "outputs": [],
   "source": [
    "def floatX(array):\n",
    "    \"\"\"Convert array to Numpy array of a type supported by the CPU or GPU, accordingly\"\"\"\n",
    "    return np.asarray(array, dtype=theano.config.floatX)\n",
    "\n",
    "def init_weights(shape, frac=0.01):\n",
    "    \"\"\"Initialize weights randomly. Reduce weight size by factor to keep them closer to zero where gradient is largest\n",
    "    and the learning is fastest at the beginning.\n",
    "    This is Glorot initialisation, with a scaling factor.\"\"\"\n",
    "    #return theano.shared(floatX(frac*np.random.uniform(low=0.0, high=1.0, size=shape), borrow=True)\n",
    "    #return theano.shared(floatX(np.sqrt(2/(shape[0]*shape[1]))*np.random.normal(loc=0, scale=1, size=shape)), borrow=True)\n",
    "    return theano.shared(floatX(np.sqrt(2)*np.random.normal(loc=0, scale=1, size=shape)), borrow=True)\n",
    "\n",
    "def init_bias(shape):\n",
    "    \"\"\"Initialize bias to array of zeros\"\"\"\n",
    "    return theano.shared(value=np.zeros(shape, dtype=theano.config.floatX), borrow=True)\n",
    "\n",
    "def init_ortho(shape):\n",
    "    \"\"\"Initialize weights to an orthogonal matrix. Output matrix is square,\n",
    "    output matrix will only be of the requested dimensions if square\"\"\"\n",
    "    #W = np.random.randn(*shape)\n",
    "    W = np.random.normal(loc=0, scale=1, size=shape)\n",
    "    u, s, v = np.linalg.svd(W)\n",
    "    #return theano.shared(value=np.sqrt(2).astype(theano.config.floatX)*u.astype(theano.config.floatX), borrow=True)\n",
    "    #return theano.shared(value=np.sqrt(2/(shape[0]*shape[1])).astype(theano.config.floatX)*u.astype(theano.config.floatX), borrow=True)\n",
    "    return theano.shared(value=np.sqrt(2).astype(theano.config.floatX)*u.astype(theano.config.floatX), borrow=True)\n",
    "\n",
    "\n",
    "#from theano.sandbox.rng_mrg import MRG_RandomStreams as RandomStreams\n",
    "#from theano.sandbox.cuda.rng_curand import CURAND_RandomStreams as RandomStreams\n",
    "\n",
    "def dropout(state_before, p=0.5):\n",
    "    \"\"\"Retain a fraction p of weights and set the other 1-p to zero\"\"\"\n",
    "    #trng = T.shared_randomstreams.RandomStreams(np.random.randint(1000000, size=1))\n",
    "    #trng = RandomStreams()\n",
    "    trng = T.shared_randomstreams.RandomStreams()\n",
    "    proj = T.cast((state_before * trng.binomial(state_before.shape, p=p, n=1, dtype=state_before.dtype))/p, theano.config.floatX)\n",
    "    return proj\n",
    "\n",
    "def to_onehot(array_column, n_classes=None):\n",
    "    \"\"\"Converts column array of integer labels (starting from 0) into\n",
    "    one-hot encoding\"\"\"\n",
    "    #array_column = np.asarray(array_column).flatten()\n",
    "    if not np.equal(np.mod(array_column.any(), 1), 0):\n",
    "        print(\"Problem: labels are not integers\")\n",
    "    if n_classes == None:\n",
    "        # If no. of classes not given, deduce from data.\n",
    "        # Can fail if not all possible classes found in vector.\n",
    "        n_classes = len(np.unique(array_column))\n",
    "    onehotcol = np.zeros((array_column.shape[0], n_classes))\n",
    "    xmin = array_column.min()\n",
    "    if np.equal(np.mod(array_column.all(), 1), 0) and xmin!=0:\n",
    "        print(\"Labels don't start from 0, shifted them\")\n",
    "        array_column_shifted = array_column-xmin\n",
    "        #print(array_column_shifted)\n",
    "        for i in range(array_column_shifted.shape[0]):\n",
    "            #print(i, array_column_shifted[i])\n",
    "            onehotcol[i, int(array_column_shifted[i])] = 1\n",
    "    else:\n",
    "        for i in range(array_column.shape[0]):\n",
    "            onehotcol[i, int(array_column[i])] = 1\n",
    "    return onehotcol\n",
    "\n",
    "import pickle, os\n",
    "\n",
    "def save_model(parameters, filename):\n",
    "    \"\"\"Serialise Theano shared variables to disk\"\"\"\n",
    "    dirname = 'saved_model'\n",
    "    if not os.path.exists(dirname):\n",
    "        os.makedirs(dirname)\n",
    "    with open(os.path.join(dirname, filename+'.pkl'), 'wb') as fb:\n",
    "        for p in parameters:\n",
    "            pickle.dump(p.get_value(borrow=True),fb, -1)"
   ]
  },
  {
   "cell_type": "markdown",
   "metadata": {},
   "source": [
    "Convert to 1-of-N representation for N > 2 class classification."
   ]
  },
  {
   "cell_type": "code",
   "execution_count": 19,
   "metadata": {
    "collapsed": false
   },
   "outputs": [],
   "source": [
    "#Ytrain = to_onehot(Ytrain)"
   ]
  },
  {
   "cell_type": "markdown",
   "metadata": {},
   "source": [
    "Convert to GPU-friendly single precision floats"
   ]
  },
  {
   "cell_type": "code",
   "execution_count": 20,
   "metadata": {
    "collapsed": true
   },
   "outputs": [],
   "source": [
    "Xtrain = floatX(Xtrain)\n",
    "Ytrain = floatX(Ytrain)\n",
    "\n",
    "Xval = floatX(Xval)\n",
    "Yval = floatX(Yval)"
   ]
  },
  {
   "cell_type": "markdown",
   "metadata": {},
   "source": [
    "Convert data to theano shared variable type to make optimal usage of GPU memory."
   ]
  },
  {
   "cell_type": "code",
   "execution_count": 21,
   "metadata": {
    "collapsed": true
   },
   "outputs": [],
   "source": [
    "Xtraintheano = theano.shared(Xtrain, borrow=True)\n",
    "Ytraintheano = theano.shared(Ytrain, borrow=True)"
   ]
  },
  {
   "cell_type": "markdown",
   "metadata": {},
   "source": [
    "Find greatest common divisor between training and validation sets, to use as batchsize to ensure prediction on full validation set. If this is not important, override batch size manually below."
   ]
  },
  {
   "cell_type": "code",
   "execution_count": 22,
   "metadata": {
    "collapsed": false
   },
   "outputs": [
    {
     "name": "stdout",
     "output_type": "stream",
     "text": [
      "1\n"
     ]
    }
   ],
   "source": [
    "from math import gcd\n",
    "\n",
    "batchsize = gcd(Xtrain.shape[0], Xval.shape[0])\n",
    "\n",
    "print(batchsize)"
   ]
  },
  {
   "cell_type": "code",
   "execution_count": 23,
   "metadata": {
    "collapsed": true
   },
   "outputs": [],
   "source": [
    "#batchsize = 512"
   ]
  },
  {
   "cell_type": "code",
   "execution_count": 24,
   "metadata": {
    "collapsed": true
   },
   "outputs": [],
   "source": [
    "nfeats = Xtrain.shape[1]\n",
    "widhidlay = nfeats # To ensure autoencoder input and output have the same dimensions, as they must."
   ]
  },
  {
   "cell_type": "markdown",
   "metadata": {},
   "source": [
    "Build and train the Stacked Denoising Auto-encoders for unsupervised pre-training of the lower (non-output) layers of the neural network."
   ]
  },
  {
   "cell_type": "code",
   "execution_count": 25,
   "metadata": {
    "collapsed": false
   },
   "outputs": [],
   "source": [
    "n_epochs_pretrain = 100\n",
    "n_pretrain_batches = int(Xtraintheano.get_value(borrow=True).shape[0] / batchsize)"
   ]
  },
  {
   "cell_type": "code",
   "execution_count": 26,
   "metadata": {
    "collapsed": false
   },
   "outputs": [],
   "source": [
    "X = T.matrix(name='X')\n",
    "Y = T.matrix(name='Y')\n",
    "index = T.lscalar()\n",
    "\n",
    "def pretrain_model(X, w_h1_pre, b_h1_pre, b_h2_pre):\n",
    "    X = dropout(X, p=0.5)\n",
    "    h1 = T.nnet.sigmoid(T.dot(X,w_h1_pre) + b_h1_pre)\n",
    "    h2 = T.nnet.sigmoid(T.dot(h1,w_h1_pre.T) + b_h2_pre)\n",
    "    return h2"
   ]
  },
  {
   "cell_type": "code",
   "execution_count": 27,
   "metadata": {
    "collapsed": false
   },
   "outputs": [],
   "source": [
    "w_h1_pre = init_weights((nfeats, widhidlay))\n",
    "b_h1_pre = init_bias((batchsize, widhidlay))\n",
    "b_h2_pre = init_bias((batchsize, widhidlay))\n",
    "\n",
    "Xpred = pretrain_model(X, w_h1_pre, b_h1_pre, b_h2_pre)\n",
    "\n",
    "\n",
    "L1 = T.sum(T.abs_(w_h1_pre))\n",
    "L2 = T.sum(T.sqr(w_h1_pre))\n",
    "\n",
    "cost = T.mean(T.sqr(Xpred-X)) + 0.001*L1 + 0.001*L2\n",
    "#cost = T.mean(T.sqr(Xpred-X))\n",
    "\n",
    "params = [w_h1_pre, b_h1_pre, b_h2_pre]\n",
    "\n",
    "#updates = sgd(cost,params,lr=0.01)\n",
    "#updates = lur.sgd(cost,params,learning_rate=0.01)\n",
    "#updates = lur.adagrad(cost, params, learning_rate=0.001)\n",
    "#updates = lur.adadelta(cost,params,learning_rate=0.01)\n",
    "updates = lur.adam(cost,params,learning_rate=0.001)\n",
    "#updates = lur.adamax(cost,params,learning_rate=0.005)\n",
    "#updates = lur.rmsprop(cost,params,learning_rate=0.001)\n",
    "#updates = lur.nesterov_momentum(cost,params,learning_rate=0.001)\n",
    "#cost = -T.mean(T.log(yprobs)*Y)\n",
    "\n",
    "pretrain1 = theano.function(\n",
    "        inputs=[index],\n",
    "        outputs=(Xpred,w_h1_pre),\n",
    "        #outputs=(cost,yprobs,err),\n",
    "        updates=updates,\n",
    "        allow_input_downcast=True,\n",
    "        givens={\n",
    "            X: Xtraintheano[index * batchsize : (index + 1) * batchsize]\n",
    "        }\n",
    "    )\n",
    "\n",
    "\n",
    "for epoch in range(n_epochs_pretrain):\n",
    "    #print(\"Computing epoch {0} of {1}\".format(epoch+1,n_epochs))\n",
    "    for batchidx in range(n_pretrain_batches):\n",
    "        firsthidlay_weights = pretrain1(batchidx)[1]\n",
    "    if epoch == n_epochs_pretrain-1:\n",
    "        ae_output1 = firsthidlay_weights\n",
    "    #print(firsthidlay_weights[0])\n",
    "\n",
    "ae_outputtheano1 = theano.shared(floatX(ae_output1), borrow=True)\n",
    "#ae_outputtheano1 = theano.shared(floatX(firsthidlay_weights), borrow=True)"
   ]
  },
  {
   "cell_type": "code",
   "execution_count": 28,
   "metadata": {
    "collapsed": false
   },
   "outputs": [
    {
     "name": "stdout",
     "output_type": "stream",
     "text": [
      "[[ -1.54829007e-04  -5.69115455e-04  -3.76796558e-04 ...,  -9.37440821e-05\n",
      "    1.39213617e-04  -1.03798916e-04]\n",
      " [ -3.30032515e-04   1.31647876e-04  -9.43874812e-05 ...,  -3.31990282e-05\n",
      "   -4.67538539e-04  -5.46080973e-05]\n",
      " [  1.92548823e-04  -4.22808820e-04  -2.90279153e-04 ...,  -1.37608092e-04\n",
      "   -3.62361583e-04   2.81493549e-04]\n",
      " ..., \n",
      " [  1.58645600e-04  -4.02297986e-05  -1.19680269e-04 ...,   7.35480599e-05\n",
      "    1.05159978e-04   4.12467336e-07]\n",
      " [ -4.63377920e-05   4.92612544e-04   5.16584165e-04 ...,  -1.00264991e-04\n",
      "    2.85484666e-04   3.26470546e-05]\n",
      " [  5.77221083e-04   4.84728704e-04   5.12083235e-04 ...,  -9.57983419e-05\n",
      "   -3.06322630e-04  -7.96767611e-05]]\n"
     ]
    }
   ],
   "source": [
    "print(ae_outputtheano1.get_value())"
   ]
  },
  {
   "cell_type": "code",
   "execution_count": 29,
   "metadata": {
    "collapsed": false
   },
   "outputs": [],
   "source": [
    "w_h1_pre = init_ortho((widhidlay, widhidlay))\n",
    "b_h1_pre = init_bias((batchsize, widhidlay))\n",
    "b_h2_pre = init_bias((batchsize, widhidlay))\n",
    "b_h3_pre = init_bias((batchsize, widhidlay))\n",
    "\n",
    "\n",
    "def pretrain_model(X, previous_weights, w_h1_pre, b_h1_pre, b_h2_pre, b_h3_pre):\n",
    "    h1 = T.nnet.sigmoid(T.dot(X,previous_weights) + b_h1_pre)\n",
    "    h1 = dropout(h1, p=0.5)\n",
    "    h2 = T.nnet.sigmoid(T.dot(h1,w_h1_pre) + b_h2_pre)\n",
    "    h3 = T.nnet.sigmoid(T.dot(h2,w_h1_pre.T) + b_h3_pre)\n",
    "    return h3\n",
    "\n",
    "Xpred = pretrain_model(X, ae_outputtheano1, w_h1_pre, b_h1_pre, b_h2_pre, b_h3_pre)\n",
    "\n",
    "L1 = T.sum(T.abs_(w_h1_pre))\n",
    "L2 = T.sum(T.sqr(w_h1_pre))\n",
    "\n",
    "cost = T.mean(T.sqr(Xpred-X)) + 0.001*L1 + 0.001*L2\n",
    "#cost = T.mean(T.sqr(Xpred-X))\n",
    "\n",
    "params = [w_h1_pre, b_h1_pre, b_h2_pre, b_h3_pre]\n",
    "\n",
    "#updates = sgd(cost,params,lr=0.01)\n",
    "#updates = lur.sgd(cost,params,learning_rate=0.01)\n",
    "#updates = lur.adagrad(cost, params, learning_rate=0.001)\n",
    "#updates = lur.adadelta(cost,params,learning_rate=0.01)\n",
    "updates = lur.adam(cost,params,learning_rate=0.001)\n",
    "#updates = lur.adamax(cost,params,learning_rate=0.005)\n",
    "#updates = lur.rmsprop(cost,params,learning_rate=0.001)\n",
    "#updates = lur.nesterov_momentum(cost,params,learning_rate=0.001)\n",
    "#cost = -T.mean(T.log(yprobs)*Y)\n",
    "\n",
    "pretrain2 = theano.function(\n",
    "        inputs=[index],\n",
    "        outputs=(Xpred,w_h1_pre),\n",
    "        #outputs=(cost,yprobs,err),\n",
    "        updates=updates,\n",
    "        allow_input_downcast=True,\n",
    "        givens={\n",
    "            X: Xtraintheano[index * batchsize : (index + 1) * batchsize]\n",
    "        }\n",
    "    )\n",
    "\n",
    "\n",
    "for epoch in range(n_epochs_pretrain):\n",
    "    #print(\"Computing epoch {0} of {1}\".format(epoch+1,n_epochs))\n",
    "    for batchidx in range(n_pretrain_batches):\n",
    "        firsthidlay_weights = pretrain2(batchidx)[1]\n",
    "    if epoch == n_epochs_pretrain-1:\n",
    "        ae_output2 = firsthidlay_weights\n",
    "    #print(firsthidlay_weights[0])\n",
    "\n",
    "ae_outputtheano2 = theano.shared(floatX(ae_output2), borrow=True)\n",
    "#ae_outputtheano1 = theano.shared(floatX(firsthidlay_weights), borrow=True)"
   ]
  },
  {
   "cell_type": "code",
   "execution_count": 30,
   "metadata": {
    "collapsed": false
   },
   "outputs": [
    {
     "name": "stdout",
     "output_type": "stream",
     "text": [
      "[[  1.22784293e-04   8.13273743e-05  -9.51439700e-05 ...,  -7.57866415e-05\n",
      "    8.14026987e-05   1.22926971e-04]\n",
      " [ -1.99556243e-05   5.99544233e-05  -1.31972571e-04 ...,  -7.83586238e-05\n",
      "   -2.26600730e-04  -7.78185611e-05]\n",
      " [ -1.32629100e-05  -4.38917715e-05   7.06292655e-05 ...,  -1.05354423e-04\n",
      "   -6.99357490e-05  -5.53378271e-05]\n",
      " ..., \n",
      " [ -1.43183440e-04   1.03570515e-04  -3.42357678e-05 ...,   1.77502897e-04\n",
      "   -8.38634882e-05  -5.12612382e-05]\n",
      " [ -7.63489966e-05   8.95869427e-05  -1.30263224e-04 ...,   8.95998116e-05\n",
      "   -8.91243472e-05   1.31317095e-04]\n",
      " [ -3.12385898e-05   1.31723915e-04  -3.35516043e-05 ...,   1.62772664e-04\n",
      "   -2.62739238e-05   1.11868721e-04]]\n"
     ]
    }
   ],
   "source": [
    "print(ae_outputtheano2.get_value())"
   ]
  },
  {
   "cell_type": "code",
   "execution_count": 31,
   "metadata": {
    "collapsed": false
   },
   "outputs": [],
   "source": [
    "w_h1_pre = init_ortho((widhidlay, widhidlay))\n",
    "b_h1_pre = init_bias((batchsize, widhidlay))\n",
    "b_h2_pre = init_bias((batchsize, widhidlay))\n",
    "b_h3_pre = init_bias((batchsize, widhidlay))\n",
    "b_h4_pre = init_bias((batchsize, widhidlay))\n",
    "\n",
    "\n",
    "def pretrain_model(X, previous_weights1, previous_weights2, w_h1_pre, b_h1_pre, b_h2_pre, b_h3_pre, b_h4_pre):\n",
    "    h1 = T.nnet.sigmoid(T.dot(X,previous_weights1) + b_h1_pre)\n",
    "    h2 = T.nnet.sigmoid(T.dot(h1,previous_weights2) + b_h2_pre)\n",
    "    h2 = dropout(h2, p=0.5)\n",
    "    h3 = T.nnet.sigmoid(T.dot(h2,w_h1_pre) + b_h3_pre)\n",
    "    h4 = T.nnet.sigmoid(T.dot(h3,w_h1_pre.T) + b_h4_pre)\n",
    "    return h4\n",
    "\n",
    "Xpred = pretrain_model(X, ae_outputtheano1, ae_outputtheano2, w_h1_pre, b_h1_pre, b_h2_pre, b_h3_pre, b_h4_pre)\n",
    "\n",
    "L1 = T.sum(T.abs_(w_h1_pre))\n",
    "L2 = T.sum(T.sqr(w_h1_pre))\n",
    "\n",
    "cost = T.mean(T.sqr(Xpred-X)) + 0.001*L1 + 0.001*L2\n",
    "\n",
    "params = [w_h1_pre, b_h1_pre, b_h2_pre, b_h3_pre, b_h4_pre]\n",
    "\n",
    "#updates = sgd(cost,params,lr=0.01)\n",
    "#updates = lur.sgd(cost,params,learning_rate=0.01)\n",
    "#updates = lur.adagrad(cost, params, learning_rate=0.001)\n",
    "#updates = lur.adadelta(cost,params,learning_rate=0.01)\n",
    "updates = lur.adam(cost,params,learning_rate=0.001)\n",
    "#updates = lur.adamax(cost,params,learning_rate=0.005)\n",
    "#updates = lur.rmsprop(cost,params,learning_rate=0.001)\n",
    "#updates = lur.nesterov_momentum(cost,params,learning_rate=0.001)\n",
    "#cost = -T.mean(T.log(yprobs)*Y)\n",
    "\n",
    "pretrain3 = theano.function(\n",
    "        inputs=[index],\n",
    "        outputs=(Xpred,w_h1_pre),\n",
    "        #outputs=(cost,yprobs,err),\n",
    "        updates=updates,\n",
    "        allow_input_downcast=True,\n",
    "        givens={\n",
    "            X: Xtraintheano[index * batchsize : (index + 1) * batchsize]\n",
    "        }\n",
    "    )\n",
    "\n",
    "\n",
    "for epoch in range(n_epochs_pretrain):\n",
    "    #print(\"Computing epoch {0} of {1}\".format(epoch+1,n_epochs))\n",
    "    for batchidx in range(n_pretrain_batches):\n",
    "        firsthidlay_weights = pretrain3(batchidx)[1]\n",
    "    if epoch == n_epochs_pretrain-1:\n",
    "        ae_output3 = firsthidlay_weights\n",
    "    #print(firsthidlay_weights[0])\n",
    "\n",
    "ae_outputtheano3 = theano.shared(floatX(ae_output3), borrow=True)\n",
    "#ae_outputtheano1 = theano.shared(floatX(firsthidlay_weights), borrow=True)"
   ]
  },
  {
   "cell_type": "code",
   "execution_count": 32,
   "metadata": {
    "collapsed": false
   },
   "outputs": [
    {
     "name": "stdout",
     "output_type": "stream",
     "text": [
      "[[  1.22890175e-04   1.22567473e-04   8.17866699e-05 ...,  -7.57779032e-05\n",
      "    1.20840126e-04  -7.37226345e-05]\n",
      " [  1.73494133e-05   1.84720773e-04   3.36356978e-06 ...,  -2.28586380e-04\n",
      "   -6.35375206e-05   7.84201327e-05]\n",
      " [  9.29933002e-05  -1.81688233e-04   1.44684182e-04 ...,   1.00026058e-04\n",
      "   -1.58716572e-04  -3.07366554e-06]\n",
      " ..., \n",
      " [ -1.10370248e-05   1.08467804e-04   2.86895247e-04 ...,   1.56069787e-04\n",
      "   -1.55425578e-04   1.07208030e-04]\n",
      " [ -1.95962046e-04  -1.30864215e-04   6.75882376e-05 ...,  -8.91275547e-05\n",
      "   -1.95980178e-04  -1.30896805e-04]\n",
      " [  2.32356410e-04   1.58225194e-04  -6.20307802e-05 ...,   1.71232194e-04\n",
      "    1.11708108e-04   1.35357604e-04]]\n"
     ]
    }
   ],
   "source": [
    "print(ae_outputtheano3.get_value())"
   ]
  },
  {
   "cell_type": "markdown",
   "metadata": {},
   "source": [
    "Build the neural network itself."
   ]
  },
  {
   "cell_type": "code",
   "execution_count": 34,
   "metadata": {
    "collapsed": false
   },
   "outputs": [],
   "source": [
    "#X = T.matrix(name='X')\n",
    "#Y = T.matrix(name='Y')\n",
    "#index = T.lscalar()\n",
    "\n",
    "dropout_p = 0.4\n",
    "relu_alpha = 0.\n",
    "\n",
    "def model_train(X,w_h1,b_h1,w_h2,b_h2,w_h3,b_h3,w_o,b_o):\n",
    "    h1 = T.nnet.relu(T.dot(X,w_h1) + b_h1, alpha=relu_alpha)\n",
    "    #h1 = T.nnet.sigmoid(T.dot(X,w_h1) + b_h1)\n",
    "    h1 = dropout(h1, p=dropout_p)\n",
    "    h2 = T.nnet.relu(T.dot(h1,w_h2) + b_h2, alpha=relu_alpha)\n",
    "    #h2 = T.nnet.sigmoid(T.dot(h1,w_h2) + b_h2)\n",
    "    h2 = dropout(h2, p=dropout_p)\n",
    "    h3 = T.nnet.relu(T.dot(h2,w_h3) + b_h3, alpha=relu_alpha)\n",
    "    #h3 = T.nnet.sigmoid(T.dot(h2,w_h3) + b_h3)\n",
    "    #h3 = dropout(h3, p=dropout_p)\n",
    "    #o = T.nnet.softmax(T.dot(h3,w_o) + b_o)\n",
    "    #o = T.nnet.sigmoid(T.dot(h3,w_o) + b_o)\n",
    "    o = T.dot(h3,w_o) + b_o\n",
    "    return o\n",
    "\n",
    "def model_test(X,w_h1,b_h1,w_h2,b_h2,w_h3,b_h3,w_o,b_o):\n",
    "    h1 = T.nnet.relu(T.dot(X,w_h1) + b_h1, alpha=relu_alpha)\n",
    "    #h1 = T.nnet.sigmoid(T.dot(X,w_h1) + b_h1)\n",
    "    #h1 = dropout(h1, p=dropout_p)\n",
    "    h2 = T.nnet.relu(T.dot(h1,w_h2) + b_h2, alpha=relu_alpha)\n",
    "    #h2 = T.nnet.sigmoid(T.dot(h1,w_h2) + b_h2)\n",
    "    #h2 = dropout(h2, p=dropout_p)\n",
    "    h3 = T.nnet.relu(T.dot(h2,w_h3) + b_h3, alpha=relu_alpha)\n",
    "    #h3 = T.nnet.sigmoid(T.dot(h2,w_h3) + b_h3)\n",
    "    #h3 = dropout(h3, p=dropout_p)\n",
    "    #o = T.nnet.softmax(T.dot(h3,w_o) + b_o)\n",
    "    #o = T.nnet.sigmoid(T.dot(h3,w_o) + b_o)\n",
    "    o = T.dot(h3,w_o) + b_o\n",
    "    return o\n",
    "\n",
    "\n",
    "nfeats = Xtrain.shape[1]\n",
    "widhidlay = nfeats\n",
    "nclasses = 1\n",
    "#nclasses = len(np.unique(Ytrain))  # Use 1 for binary classification or regression\n",
    "\n",
    "# 3 hidden layers, initialise the weights and biases\n",
    "#w_h1 = init_weights((nfeats, widhidlay))\n",
    "w_h1 = ae_outputtheano1\n",
    "b_h1 = init_bias((batchsize, widhidlay))\n",
    "#w_h2 = init_ortho((widhidlay, widhidlay))\n",
    "w_h2 = ae_outputtheano2\n",
    "b_h2 = init_bias((batchsize, widhidlay))\n",
    "#w_h3 = init_ortho((widhidlay, widhidlay))\n",
    "w_h3 = ae_outputtheano3\n",
    "b_h3 = init_bias((batchsize, widhidlay))\n",
    "w_o = init_weights((widhidlay, nclasses))\n",
    "b_o = init_bias((batchsize, nclasses))\n",
    "\n",
    "# Runs the NN and outputs the result from its output node\n",
    "yprobs_train = model_train(X, w_h1, b_h1, w_h2, b_h2, w_h3, b_h3, w_o, b_o)\n",
    "yprobs_test = model_test(X, w_h1, b_h1, w_h2, b_h2, w_h3, b_h3, w_o, b_o)\n",
    "\n",
    "\n",
    "# Predicted label is 1 if its probability is >=0.5, and 0 otherwise.\n",
    "#ypred = (yprobs >= 0.5)\n",
    "\n",
    "\n",
    "#ypred_train = T.argmax(yprobs_train)\n",
    "#ypred_test = T.argmax(yprobs_test)\n",
    "\n",
    "#ypred_train = T.switch(T.lt(yprobs_train, 0.5), 0, 1)\n",
    "#ypred_test = T.switch(T.lt(yprobs_test, 0.5), 0, 1)\n",
    "\n",
    "ypred_train = T.switch(T.lt(yprobs_train, 0.07), 0, 1)\n",
    "ypred_test = T.switch(T.lt(yprobs_test, 0.07), 0, 1)\n",
    "\n",
    "#err = T.mean(T.neq(ypred, Y))\n",
    "\n",
    "params = [w_h1, b_h1, w_h2, b_h2, w_h3, b_h3, w_o, b_o]\n",
    "\n",
    "\n",
    "#L1 = T.sum(T.abs_(w_h2)) + T.sum(T.abs_(w_h3)) \n",
    "#L2 = T.sum(T.sqr(w_h2)) + T.sum(T.sqr(w_h3)) \n",
    "\n",
    "L1 = T.sum(T.abs_(w_h2)) + T.sum(T.abs_(w_h3)) + T.sum(T.abs_(w_h1)) + T.sum(T.abs_(w_o))\n",
    "L2 = T.sum(T.sqr(w_h2)) + T.sum(T.sqr(w_h3)) + T.sum(T.sqr(w_h1)) + T.sum(T.sqr(w_o))\n",
    "\n",
    "    \n",
    "#cost = T.mean(T.nnet.categorical_crossentropy(yprobs_train, Y)) + 0.01*L1 + 0.01*L2\n",
    "#cost = T.mean(T.nnet.binary_crossentropy(yprobs_train, Y)) + 0.001*L1 + 0.001*L2\n",
    "#cost = -(Y*T.log(yprobs_train) + (1-Y)*T.log(1-yprobs_train)).mean() + 0.001*L1 + 0.001*L2\n",
    "#cost = T.mean(T.nnet.binary_crossentropy(yprobs, Y)) + 0.01*L2\n",
    "cost = T.mean(T.sqr(ypred_train-Y))\n",
    "#cost = T.mean(T.sqr(yprobs_train-Y))\n",
    "\n",
    "#updates = lur.sgd(cost,params,learning_rate=0.001)\n",
    "#updates = lur.adagrad(cost, params, learning_rate=0.01)\n",
    "#updates = lur.adadelta(cost,params,learning_rate=0.01)\n",
    "updates = lur.adam(cost,params,learning_rate=0.001)\n",
    "#updates = lur.adamax(cost,params,learning_rate=0.01)\n",
    "#updates = lur.rmsprop(cost,params,learning_rate=0.001)\n",
    "#updates = lur.nesterov_momentum(cost,params,learning_rate=0.01)\n",
    "\n",
    "\n",
    "\n",
    "\n",
    "train = theano.function(\n",
    "        inputs=[index],\n",
    "        outputs=cost,\n",
    "        #outputs=(cost,yprobs,err),\n",
    "        updates=updates,\n",
    "        allow_input_downcast=True,\n",
    "        givens={\n",
    "            X: Xtraintheano[index * batchsize : (index + 1) * batchsize],\n",
    "            Y: Ytraintheano[index * batchsize : (index + 1) * batchsize]\n",
    "        }\n",
    "    )\n",
    "\n",
    "\n",
    "Xvaltheano = theano.shared(Xval, borrow=True)\n",
    "Yvaltheano = theano.shared(Yval, borrow=True)\n",
    "\n",
    "predict = theano.function(\n",
    "        inputs=[index],\n",
    "        #outputs=yprobs,\n",
    "        #outputs=(yprobs,ypred),\n",
    "        #outputs=(cost,yprobs,err),\n",
    "        #outputs=ypred_test,\n",
    "        outputs=(yprobs_test,ypred_test),\n",
    "        allow_input_downcast=True,\n",
    "        givens={\n",
    "            X: Xvaltheano[index * batchsize : (index + 1) * batchsize]\n",
    "        }\n",
    "    )\n"
   ]
  },
  {
   "cell_type": "markdown",
   "metadata": {},
   "source": [
    "Train the neural network."
   ]
  },
  {
   "cell_type": "code",
   "execution_count": 36,
   "metadata": {
    "collapsed": false
   },
   "outputs": [
    {
     "data": {
      "image/png": "[encoded data removed]",
      "text/plain": [
       "<matplotlib.figure.Figure at 0x7ff5036784a8>"
      ]
     },
     "metadata": {},
     "output_type": "display_data"
    },
    {
     "ename": "KeyboardInterrupt",
     "evalue": "",
     "output_type": "error",
     "traceback": [
      "\u001b[0;31m---------------------------------------------------------------------------\u001b[0m",
      "\u001b[0;31mKeyboardInterrupt\u001b[0m                         Traceback (most recent call last)",
      "\u001b[0;32m<ipython-input-36-e5ace691ea71>\u001b[0m in \u001b[0;36m<module>\u001b[0;34m()\u001b[0m\n\u001b[1;32m     21\u001b[0m     \u001b[0myprobs\u001b[0m \u001b[0;34m=\u001b[0m \u001b[0mnp\u001b[0m\u001b[0;34m.\u001b[0m\u001b[0mempty\u001b[0m\u001b[0;34m(\u001b[0m\u001b[0;34m(\u001b[0m\u001b[0mbatchsize\u001b[0m\u001b[0;34m*\u001b[0m\u001b[0mn_test_batches\u001b[0m\u001b[0;34m,\u001b[0m \u001b[0;36m1\u001b[0m\u001b[0;34m)\u001b[0m\u001b[0;34m,\u001b[0m \u001b[0mdtype\u001b[0m\u001b[0;34m=\u001b[0m\u001b[0mfloat\u001b[0m\u001b[0;34m)\u001b[0m\u001b[0;34m\u001b[0m\u001b[0m\n\u001b[1;32m     22\u001b[0m     \u001b[0;32mfor\u001b[0m \u001b[0mbatchidx\u001b[0m \u001b[0;32min\u001b[0m \u001b[0mrange\u001b[0m\u001b[0;34m(\u001b[0m\u001b[0mn_train_batches\u001b[0m\u001b[0;34m)\u001b[0m\u001b[0;34m:\u001b[0m\u001b[0;34m\u001b[0m\u001b[0m\n\u001b[0;32m---> 23\u001b[0;31m         \u001b[0mbatchcost\u001b[0m \u001b[0;34m=\u001b[0m \u001b[0mtrain\u001b[0m\u001b[0;34m(\u001b[0m\u001b[0mbatchidx\u001b[0m\u001b[0;34m)\u001b[0m\u001b[0;34m\u001b[0m\u001b[0m\n\u001b[0m\u001b[1;32m     24\u001b[0m         \u001b[0;32mif\u001b[0m \u001b[0mbatchcost\u001b[0m \u001b[0;34m==\u001b[0m \u001b[0mnp\u001b[0m\u001b[0;34m.\u001b[0m\u001b[0mnan\u001b[0m\u001b[0;34m:\u001b[0m\u001b[0;34m\u001b[0m\u001b[0m\n\u001b[1;32m     25\u001b[0m             \u001b[0mprint\u001b[0m\u001b[0;34m(\u001b[0m\u001b[0;34m\"NaN cost. Exiting. Try lowering the learning rate.\"\u001b[0m\u001b[0;34m)\u001b[0m\u001b[0;34m\u001b[0m\u001b[0m\n",
      "\u001b[0;32m/usr/local/lib/python3.5/dist-packages/theano/compile/function_module.py\u001b[0m in \u001b[0;36m__call__\u001b[0;34m(self, *args, **kwargs)\u001b[0m\n\u001b[1;32m    857\u001b[0m         \u001b[0mt0_fn\u001b[0m \u001b[0;34m=\u001b[0m \u001b[0mtime\u001b[0m\u001b[0;34m.\u001b[0m\u001b[0mtime\u001b[0m\u001b[0;34m(\u001b[0m\u001b[0;34m)\u001b[0m\u001b[0;34m\u001b[0m\u001b[0m\n\u001b[1;32m    858\u001b[0m         \u001b[0;32mtry\u001b[0m\u001b[0;34m:\u001b[0m\u001b[0;34m\u001b[0m\u001b[0m\n\u001b[0;32m--> 859\u001b[0;31m             \u001b[0moutputs\u001b[0m \u001b[0;34m=\u001b[0m \u001b[0mself\u001b[0m\u001b[0;34m.\u001b[0m\u001b[0mfn\u001b[0m\u001b[0;34m(\u001b[0m\u001b[0;34m)\u001b[0m\u001b[0;34m\u001b[0m\u001b[0m\n\u001b[0m\u001b[1;32m    860\u001b[0m         \u001b[0;32mexcept\u001b[0m \u001b[0mException\u001b[0m\u001b[0;34m:\u001b[0m\u001b[0;34m\u001b[0m\u001b[0m\n\u001b[1;32m    861\u001b[0m             \u001b[0;32mif\u001b[0m \u001b[0mhasattr\u001b[0m\u001b[0;34m(\u001b[0m\u001b[0mself\u001b[0m\u001b[0;34m.\u001b[0m\u001b[0mfn\u001b[0m\u001b[0;34m,\u001b[0m \u001b[0;34m'position_of_error'\u001b[0m\u001b[0;34m)\u001b[0m\u001b[0;34m:\u001b[0m\u001b[0;34m\u001b[0m\u001b[0m\n",
      "\u001b[0;31mKeyboardInterrupt\u001b[0m: "
     ]
    },
    {
     "data": {
      "image/png": "[encoded data removed]",
      "text/plain": [
       "<matplotlib.figure.Figure at 0x7ff5036784a8>"
      ]
     },
     "metadata": {},
     "output_type": "display_data"
    }
   ],
   "source": [
    "import time\n",
    "from scipy.stats import mode\n",
    "\n",
    "n_train_batches = int(Xtraintheano.get_value(borrow=True).shape[0] / batchsize)\n",
    "n_test_batches = int(Xvaltheano.get_value(borrow=True).shape[0] / batchsize)\n",
    "\n",
    "n_epochs = 100\n",
    "\n",
    "plt.ion()\n",
    "\n",
    "start = time.time()\n",
    "epochs = []\n",
    "costs = []\n",
    "errors = []\n",
    "#randomerror = 1 - 1.0/len(np.unique(Yval))\n",
    "#randomerror = \n",
    "#mostcommonerror = np.mean(Yval != mode(Yval)[0][0]) #error from always predicting most common class\n",
    "for epoch in range(n_epochs):\n",
    "    epochstart = time.time()\n",
    "    ypreds = np.empty((batchsize*n_test_batches, 1), dtype=int)\n",
    "    yprobs = np.empty((batchsize*n_test_batches, 1), dtype=float)\n",
    "    for batchidx in range(n_train_batches):\n",
    "        batchcost = train(batchidx)\n",
    "        if batchcost == np.nan:\n",
    "            print(\"NaN cost. Exiting. Try lowering the learning rate.\")\n",
    "            break\n",
    "    for batchidx in range(n_test_batches):\n",
    "        batchyprob, batchypred = predict(batchidx)\n",
    "        #batchypred = predict(batchidx)[1]\n",
    "        yprobs[batchsize*batchidx:batchsize*(batchidx+1)] = batchyprob\n",
    "        ypreds[batchsize*batchidx:batchsize*(batchidx+1)] = batchypred\n",
    "    #print(\"Epoch: {0}, runtime: {1}, cost: {2}\".format(epoch, time.time()-epochstart, batchcost))\n",
    "    epochs.append(epoch)\n",
    "    costs.append(batchcost)\n",
    "    \n",
    "    epochYtest = Yval[:ypreds.shape[0]]\n",
    "    #if epochYtest.shape[1]>1: #If Yval is in one-hot form change back to single int to compare with ypred\n",
    "    #    epochYtest = np.argmax(epochYtest, axis=1)\n",
    "    \n",
    "    epochErr = np.mean((epochYtest - ypreds)**2)\n",
    "    #epochAcc = np.mean(epochYtest == ypreds)\n",
    "    #epochErr = np.mean(epochYtest != ypreds)\n",
    "    \n",
    "    errors.append(epochErr)\n",
    "    \n",
    "    #if epochErr < randomerror and epochErr < mostcommonerror:\n",
    "    #    save_model(params, 'model-epoch_'+str(epoch))\n",
    "    if (epoch+1)%10==0:\n",
    "        fig, ax = plt.subplots()\n",
    "        ax.plot(epochs,costs, 'b-')\n",
    "        ax.set_xlabel(\"Epoch\")\n",
    "        ax.set_ylabel(\"Cost\")\n",
    "        for tl in ax.get_yticklabels():\n",
    "            tl.set_color('b')\n",
    "\n",
    "        ax1 = ax.twinx()\n",
    "        ax1.plot(epochs, errors, 'r-')\n",
    "        ax1.set_ylabel(\"Error\")\n",
    "        #ax1.axhline(randomerror, color='r', linestyle='dashed')\n",
    "        #ax1.axhline(mostcommonerror, color='r', linestyle='dotted')\n",
    "        for tl in ax1.get_yticklabels():\n",
    "            tl.set_color('r')    \n",
    "\n",
    "        epochtime = time.time()-epochstart\n",
    "        print(\"Epoch runtime: {0:.3g}s\".format(epochtime), end=\"\\r\")\n",
    "\n",
    "        display.clear_output(wait=True)\n",
    "        display.display(plt.gcf())\n",
    "    \n",
    "#    if len(errors) >= 40: # Run at least for 40 epochs\n",
    "#        temperrs = np.asarray(errors)\n",
    "#        if epochErr >= temperrs[-30] - temperrs[-30:].std():\n",
    "#            break # If error hasn't improved by 1 SD in 30 epochs, stop\n",
    "    \n",
    "    #print(\"Epoch: {0}\\tAccuracy: {1:.4g}\\tError: {2:.3g}\\tCost: {3:.6g}\\tRuntime: {4:.3g}\".format(epoch, epochAcc, epochErr, batchcost, epochtime))\n",
    "\n",
    "end = time.time()\n",
    "\n",
    "print(\"Training took {0:.3g} seconds.\".format(end-start))"
   ]
  },
  {
   "cell_type": "markdown",
   "metadata": {},
   "source": [
    "Inspect output: predicted probabilities and final weight matrices."
   ]
  },
  {
   "cell_type": "code",
   "execution_count": null,
   "metadata": {
    "collapsed": false
   },
   "outputs": [],
   "source": [
    "#print(yprobs[:100])"
   ]
  },
  {
   "cell_type": "code",
   "execution_count": null,
   "metadata": {
    "collapsed": false
   },
   "outputs": [],
   "source": [
    "w_h1.get_value()"
   ]
  },
  {
   "cell_type": "code",
   "execution_count": null,
   "metadata": {
    "collapsed": false
   },
   "outputs": [],
   "source": [
    "w_h2.get_value()"
   ]
  },
  {
   "cell_type": "code",
   "execution_count": null,
   "metadata": {
    "collapsed": false
   },
   "outputs": [],
   "source": [
    "w_h3.get_value()"
   ]
  },
  {
   "cell_type": "code",
   "execution_count": null,
   "metadata": {
    "collapsed": false
   },
   "outputs": [],
   "source": [
    "w_o.get_value()"
   ]
  },
  {
   "cell_type": "markdown",
   "metadata": {},
   "source": [
    "Analyse the final performance."
   ]
  },
  {
   "cell_type": "code",
   "execution_count": 137,
   "metadata": {
    "collapsed": false
   },
   "outputs": [
    {
     "name": "stdout",
     "output_type": "stream",
     "text": [
      "Minimum error at epoch 369: 0.111 (Accuracy: 0.889)\n"
     ]
    }
   ],
   "source": [
    "errors = np.asarray(errors)\n",
    "print(\"Minimum error at epoch {0}: {1:.3g} (Accuracy: {2:.4g})\".format(errors.argmin(), errors[errors.argmin()], 1-errors[errors.argmin()]))"
   ]
  },
  {
   "cell_type": "code",
   "execution_count": 138,
   "metadata": {
    "collapsed": false
   },
   "outputs": [],
   "source": [
    "n_test_batches = int(Xvaltheano.get_value(borrow=True).shape[0] / batchsize)\n",
    "\n",
    "results = np.empty((batchsize*n_test_batches, 1),dtype=int)\n",
    "#resultprobs = np.empty((batchsize*n_test_batches, 1),dtype=float)\n",
    "for batchidx in range(n_test_batches):\n",
    "    #resultprobs[batchsize*batchidx:batchsize*(batchidx+1)] = predict(batchidx)[0]\n",
    "    #results[batchsize*batchidx:batchsize*(batchidx+1)] = predict(batchidx)[1]\n",
    "    results[batchsize*batchidx:batchsize*(batchidx+1)] = predict(batchidx)[0]\n",
    "    \n",
    "results = np.asarray(results, dtype=int)\n",
    "results = results.flatten()"
   ]
  },
  {
   "cell_type": "code",
   "execution_count": 139,
   "metadata": {
    "collapsed": false
   },
   "outputs": [],
   "source": [
    "\n",
    "#Yval_testing = Yval_testing.reshape(Yval_testing.shape[0],)\n",
    "\n",
    "Yval_testing = Yval[:results.shape[0]]\n",
    "Xval_testing = Xval[:results.shape[0]]\n",
    "\n",
    "#if Yval_testing.shape[1] > 0:\n",
    "#    Yval_testing = np.argmax(Yval_testing, axis=1\n",
    "Yval_testing = Yval_testing.flatten()\n",
    "Yval_testing = np.asarray(Yval_testing, dtype=int)"
   ]
  },
  {
   "cell_type": "code",
   "execution_count": 140,
   "metadata": {
    "collapsed": false
   },
   "outputs": [
    {
     "data": {
      "text/plain": [
       "array([[ 0.04900957],\n",
       "       [ 0.05951172],\n",
       "       [ 0.06085275],\n",
       "       [ 0.07409823],\n",
       "       [ 0.05285957],\n",
       "       [ 0.0614876 ],\n",
       "       [ 0.0458922 ],\n",
       "       [ 0.06606808],\n",
       "       [ 0.07015365]])"
      ]
     },
     "execution_count": 140,
     "metadata": {},
     "output_type": "execute_result"
    }
   ],
   "source": [
    "#np.unique(ypreds)\n",
    "yprobs[1:10]"
   ]
  },
  {
   "cell_type": "code",
   "execution_count": 141,
   "metadata": {
    "collapsed": false
   },
   "outputs": [
    {
     "data": {
      "image/png": "[encoded data removed]",
      "text/plain": [
       "<matplotlib.figure.Figure at 0x7f3a7a9ed1d0>"
      ]
     },
     "metadata": {},
     "output_type": "display_data"
    }
   ],
   "source": [
    "from sklearn.metrics import roc_curve, roc_auc_score\n",
    "\n",
    "fpr, tpr, thresholds = roc_curve(Yval_testing, yprobs[:Yval_testing.shape[0]], pos_label=1)\n",
    "roc_auc = roc_auc_score(Yval_testing, yprobs[:Yval_testing.shape[0]])\n",
    "\n",
    "plt.figure()\n",
    "plt.plot(fpr, tpr, label='ROC curve (area = %0.2f)' % roc_auc)\n",
    "plt.plot([0, 1], [0, 1], 'k--')\n",
    "plt.xlim([0.0, 1.0])\n",
    "plt.ylim([0.0, 1.05])\n",
    "plt.xlabel('False Positive Rate')\n",
    "plt.ylabel('True Positive Rate')\n",
    "plt.title('Receiver Operating Characteristic')\n",
    "plt.legend(loc=\"lower right\")\n",
    "plt.show()"
   ]
  },
  {
   "cell_type": "code",
   "execution_count": 142,
   "metadata": {
    "collapsed": false
   },
   "outputs": [
    {
     "data": {
      "text/plain": [
       "array([ 0.06153091])"
      ]
     },
     "execution_count": 142,
     "metadata": {},
     "output_type": "execute_result"
    }
   ],
   "source": [
    "def find_nearest(array,value):\n",
    "    idx = (np.abs(array-value)).argmin()\n",
    "    return array[idx]\n",
    "\n",
    "\n",
    "thresholds[np.where(fpr == find_nearest(fpr,0.5))]\n",
    "#fpr"
   ]
  },
  {
   "cell_type": "code",
   "execution_count": 143,
   "metadata": {
    "collapsed": false
   },
   "outputs": [
    {
     "name": "stdout",
     "output_type": "stream",
     "text": [
      "Accuracy: 0.94\n",
      "\n",
      "(Accuracy of random guesses: 0.5)\n",
      "\n",
      "(Accuracy of predicting dominant class for all: 0.94)\n"
     ]
    }
   ],
   "source": [
    "NN_accuracy = np.mean(Yval_testing == results)\n",
    "\n",
    "print(\"Accuracy: {0:.2g}\".format(NN_accuracy))\n",
    "print(\"\\n(Accuracy of random guesses: {0:.2g})\".format(1.0/len(np.unique(epochYtest))))\n",
    "print(\"\\n(Accuracy of predicting dominant class for all: {0:.2g})\".format(np.mean(Yval == mode(Yval)[0][0])))"
   ]
  },
  {
   "cell_type": "code",
   "execution_count": 144,
   "metadata": {
    "collapsed": false
   },
   "outputs": [
    {
     "name": "stdout",
     "output_type": "stream",
     "text": [
      "[0 0 0 0 0 0 0 0 0 0 0 0 0 0 0 0 0 0 0 0 0 0 0 0 0 0 0 0 0 0]\n",
      "[0 0 0 0 0 0 0 0 0 0 0 0 0 0 0 0 0 0 1 0 0 0 0 0 0 0 0 1 0 0]\n"
     ]
    }
   ],
   "source": [
    "print(results[:30])\n",
    "print(Yval_testing[:30])"
   ]
  },
  {
   "cell_type": "code",
   "execution_count": 145,
   "metadata": {
    "collapsed": false
   },
   "outputs": [
    {
     "data": {
      "image/png": "[encoded data removed]",
      "text/plain": [
       "<matplotlib.figure.Figure at 0x7f3a79be8c88>"
      ]
     },
     "metadata": {},
     "output_type": "display_data"
    }
   ],
   "source": [
    "plt.figure(1)\n",
    "plt.subplot(211)\n",
    "plt.hist(results)\n",
    "plt.subplot(212)\n",
    "plt.hist(Yval_testing)\n",
    "plt.show()"
   ]
  },
  {
   "cell_type": "code",
   "execution_count": 146,
   "metadata": {
    "collapsed": true
   },
   "outputs": [],
   "source": [
    "from sklearn.metrics import confusion_matrix\n",
    "\n",
    "# Function to plot the confusion matrix\n",
    "def plot_confusion_matrix(y_true, y_pred, target_names):\n",
    "    ncls = len(set(y_true))\n",
    "    cm = confusion_matrix(y_true, y_pred)\n",
    "\n",
    "    \n",
    "    # Normalise each row to its total (i.e. normalise by the number of samples in each class)\n",
    "    cm_normalised = cm.astype('float') / cm.sum(axis=1)[:, np.newaxis]\n",
    "\n",
    "    fig = plt.figure(figsize=(12,12))\n",
    "    plt.clf()\n",
    "    ax = fig.add_subplot(111)\n",
    "    ax.set_aspect(1)\n",
    "    #plt.cm.Blues\n",
    "    #res = ax.imshow(np.array(cm_normalised), cmap=plt.cm.jet, \n",
    "    #                interpolation='nearest')\n",
    "    res = ax.pcolor(np.array(cm_normalised))\n",
    "\n",
    "\n",
    "    height = cm.shape[0]\n",
    "    width = cm.shape[1]\n",
    "\n",
    "    for x in range(ncls):\n",
    "        for y in range(ncls):\n",
    "            ax.annotate(str(cm[x][y]), xy=(y+0.5, x+0.5), \n",
    "                        horizontalalignment='center',\n",
    "                        verticalalignment='center',\n",
    "                        fontsize=20,color='w')\n",
    "\n",
    "    cb = fig.colorbar(res,fraction=0.046, pad=0.04)\n",
    "\n",
    "    #plt.imshow(cm_normalised, cmap='jet')\n",
    "    \n",
    "    plt.xticks(np.arange(ncls)+0.5, target_names, fontsize=16,rotation='vertical')\n",
    "    plt.yticks(np.arange(ncls)+0.5, target_names, fontsize=16)\n",
    "    #plt.tight_layout()\n",
    "    plt.xlabel(\"Predicted label\", fontsize=20)\n",
    "    plt.ylabel(\"True label\", fontsize=20)\n",
    "    plt.title(\"Confusion matrix\", fontsize=22)\n",
    "    fig=plt.figure()\n",
    "\n",
    "    return fig"
   ]
  },
  {
   "cell_type": "code",
   "execution_count": 147,
   "metadata": {
    "collapsed": false
   },
   "outputs": [
    {
     "name": "stdout",
     "output_type": "stream",
     "text": [
      "[[242748      0]\n",
      " [ 15812      0]]\n"
     ]
    },
    {
     "data": {
      "image/png": "[encoded data removed]",
      "text/plain": [
       "<matplotlib.figure.Figure at 0x7f3a777186a0>"
      ]
     },
     "metadata": {},
     "output_type": "display_data"
    },
    {
     "data": {
      "text/plain": [
       "<matplotlib.figure.Figure at 0x7f3a776d5c50>"
      ]
     },
     "metadata": {},
     "output_type": "display_data"
    }
   ],
   "source": [
    "#target_names = ['Setosa', 'Versicolour','Virginica']\n",
    "#target_names = [str(i) for i in np.unique(np.concatenate((Ytrain, Yval_testing), axis=0))]\n",
    "\n",
    "target_names = [\"0\",\"1\"]\n",
    "\n",
    "print(confusion_matrix(Yval_testing, results))\n",
    "plot_confusion_matrix(Yval_testing, results, target_names=target_names)\n",
    "plt.show()"
   ]
  },
  {
   "cell_type": "code",
   "execution_count": 148,
   "metadata": {
    "collapsed": false
   },
   "outputs": [
    {
     "name": "stdout",
     "output_type": "stream",
     "text": [
      "             precision    recall  f1-score   support\n",
      "\n",
      "          0       0.94      1.00      0.97    242748\n",
      "          1       0.00      0.00      0.00     15812\n",
      "\n",
      "avg / total       0.88      0.94      0.91    258560\n",
      "\n"
     ]
    },
    {
     "name": "stderr",
     "output_type": "stream",
     "text": [
      "/usr/local/lib/python3.5/dist-packages/sklearn/metrics/classification.py:1113: UndefinedMetricWarning: Precision and F-score are ill-defined and being set to 0.0 in labels with no predicted samples.\n",
      "  'precision', 'predicted', average, warn_for)\n"
     ]
    }
   ],
   "source": [
    "from sklearn.metrics import classification_report\n",
    "\n",
    "print(classification_report(Yval_testing, results, target_names=target_names))"
   ]
  },
  {
   "cell_type": "markdown",
   "metadata": {},
   "source": [
    "Benchmark agains other similar classifiers, possibly one simple and similar one as a baseline, and one usually performant one (e.g. XGBoost) as a benchmark."
   ]
  },
  {
   "cell_type": "code",
   "execution_count": 149,
   "metadata": {
    "collapsed": false
   },
   "outputs": [],
   "source": [
    "# Concatenate training and validation sets and undo one-hot encoding for sklearn classifiers to run CV\n",
    "Xsklearn = np.concatenate((Xtrain,Xval), axis=0)\n",
    "\n",
    "if Ytrain.shape[1] > 0:\n",
    "    Ysklearn = np.concatenate((np.argmax(Ytrain, axis=1), Yval.flatten()),axis=0)\n",
    "else:\n",
    "    np.concatenate((Ytrain,Yval), axis=0)"
   ]
  },
  {
   "cell_type": "code",
   "execution_count": 150,
   "metadata": {
    "collapsed": false
   },
   "outputs": [],
   "source": [
    "from sklearn.cross_validation import cross_val_score"
   ]
  },
  {
   "cell_type": "code",
   "execution_count": 151,
   "metadata": {
    "collapsed": false
   },
   "outputs": [
    {
     "name": "stdout",
     "output_type": "stream",
     "text": [
      "[ 0.98095636  0.98165223  0.98165223  0.98165223  0.98165223  0.9753894\n",
      "  0.98155902  0.9816634   0.98153582  0.9816634 ]\n",
      "0.980937630149\n"
     ]
    }
   ],
   "source": [
    "from sklearn import linear_model\n",
    "clf = linear_model.Perceptron()\n",
    "\n",
    "score = cross_val_score(clf, Xsklearn, Ysklearn, cv=10)\n",
    "\n",
    "print(score)\n",
    "print(score.mean())"
   ]
  },
  {
   "cell_type": "code",
   "execution_count": 152,
   "metadata": {
    "collapsed": false
   },
   "outputs": [
    {
     "name": "stdout",
     "output_type": "stream",
     "text": [
      "[ 0.98165223  0.98165223  0.98165223  0.98165223  0.98165223  0.98165223\n",
      "  0.9816634   0.9816634   0.9816634   0.9816634 ]\n",
      "0.981656696365\n"
     ]
    }
   ],
   "source": [
    "from sklearn import linear_model\n",
    "#clf = linear_model.ElasticNet()\n",
    "clf = linear_model.LogisticRegression(penalty='l2', n_jobs=4)\n",
    "\n",
    "score = cross_val_score(clf, Xsklearn, Ysklearn, cv=10)\n",
    "\n",
    "print(score)\n",
    "print(score.mean())"
   ]
  },
  {
   "cell_type": "code",
   "execution_count": 153,
   "metadata": {
    "collapsed": false
   },
   "outputs": [
    {
     "name": "stdout",
     "output_type": "stream",
     "text": [
      "[ 0.98165223  0.98165223  0.98165223  0.98165223  0.98165223  0.98165223\n",
      "  0.9816634   0.9816634   0.9816634   0.9816634 ]\n",
      "0.981656696365\n"
     ]
    }
   ],
   "source": [
    "# If you have XGBoost installed you can benchmark against it as well:\n",
    "\n",
    "# For description of XGBoost algorithm see:\n",
    "#  http://xgboost.readthedocs.io/en/latest/model.html\n",
    "\n",
    "from xgboost import XGBClassifier\n",
    "clf = XGBClassifier(max_depth=3, n_estimators=300, learning_rate=0.05)\n",
    "#clf = XGBClassifier()\n",
    "score = cross_val_score(clf, Xsklearn, Ysklearn, cv=10)\n",
    "\n",
    "print(score)\n",
    "print(score.mean())"
   ]
  },
  {
   "cell_type": "code",
   "execution_count": 157,
   "metadata": {
    "collapsed": false
   },
   "outputs": [
    {
     "data": {
      "text/plain": [
       "0.9388459158415842"
      ]
     },
     "execution_count": 157,
     "metadata": {},
     "output_type": "execute_result"
    }
   ],
   "source": [
    "# Just by predicting zero everywhere we would get this fraction right\n",
    "Yval_testing[Yval_testing==0].shape[0]/float(Yval_testing.shape[0])"
   ]
  },
  {
   "cell_type": "markdown",
   "metadata": {},
   "source": [
    "Apply a shallow (desired for interpretability, see later) decision tree to the data, as a benchmark."
   ]
  },
  {
   "cell_type": "code",
   "execution_count": 154,
   "metadata": {
    "collapsed": true
   },
   "outputs": [],
   "source": [
    "from sklearn import tree\n",
    "clf = tree.DecisionTreeClassifier(max_depth=2)"
   ]
  },
  {
   "cell_type": "code",
   "execution_count": 155,
   "metadata": {
    "collapsed": false
   },
   "outputs": [
    {
     "name": "stdout",
     "output_type": "stream",
     "text": [
      "[ 0.98165674  0.98165668  0.98165668]\n",
      "0.981656696303\n"
     ]
    },
    {
     "data": {
      "image/png": "[encoded data removed]",
      "text/plain": [
       "<IPython.core.display.Image object>"
      ]
     },
     "execution_count": 155,
     "metadata": {},
     "output_type": "execute_result"
    }
   ],
   "source": [
    "score = cross_val_score(clf, Xsklearn, Ysklearn, cv=3)\n",
    "\n",
    "print(score)\n",
    "print(score.mean())\n",
    "\n",
    "clf = tree.DecisionTreeClassifier(max_depth=2)\n",
    "clf_data_to_target = clf.fit(Xsklearn, Ysklearn)\n",
    "tree.export_graphviz(clf_data_to_target, out_file='tree.dot')\n",
    "\n",
    "# sudo apt-get install graphviz\n",
    "!dot -Tpng tree.dot -o tree.png\n",
    "\n",
    "from IPython.display import Image\n",
    "Image(filename='tree.png') "
   ]
  },
  {
   "cell_type": "markdown",
   "metadata": {},
   "source": [
    "Now use a decision tree to fit the NN results from the input data"
   ]
  },
  {
   "cell_type": "code",
   "execution_count": 156,
   "metadata": {
    "collapsed": false
   },
   "outputs": [
    {
     "ename": "NameError",
     "evalue": "name 'scaler_val' is not defined",
     "output_type": "error",
     "traceback": [
      "\u001b[0;31m---------------------------------------------------------------------------\u001b[0m",
      "\u001b[0;31mNameError\u001b[0m                                 Traceback (most recent call last)",
      "\u001b[0;32m<ipython-input-156-a70cfed34889>\u001b[0m in \u001b[0;36m<module>\u001b[0;34m()\u001b[0m\n\u001b[1;32m      2\u001b[0m \u001b[0mclf\u001b[0m \u001b[0;34m=\u001b[0m \u001b[0mtree\u001b[0m\u001b[0;34m.\u001b[0m\u001b[0mDecisionTreeClassifier\u001b[0m\u001b[0;34m(\u001b[0m\u001b[0mmax_depth\u001b[0m\u001b[0;34m=\u001b[0m\u001b[0;36m2\u001b[0m\u001b[0;34m)\u001b[0m\u001b[0;34m\u001b[0m\u001b[0m\n\u001b[1;32m      3\u001b[0m \u001b[0;34m\u001b[0m\u001b[0m\n\u001b[0;32m----> 4\u001b[0;31m \u001b[0mXval_unscaled\u001b[0m \u001b[0;34m=\u001b[0m \u001b[0mscaler_val\u001b[0m\u001b[0;34m.\u001b[0m\u001b[0minverse_transform\u001b[0m\u001b[0;34m(\u001b[0m\u001b[0mXval\u001b[0m\u001b[0;34m)\u001b[0m\u001b[0;34m\u001b[0m\u001b[0m\n\u001b[0m\u001b[1;32m      5\u001b[0m \u001b[0mXval_unscaled\u001b[0m \u001b[0;34m=\u001b[0m \u001b[0mXval_unscaled\u001b[0m\u001b[0;34m[\u001b[0m\u001b[0;34m:\u001b[0m\u001b[0mresults\u001b[0m\u001b[0;34m.\u001b[0m\u001b[0mshape\u001b[0m\u001b[0;34m[\u001b[0m\u001b[0;36m0\u001b[0m\u001b[0;34m]\u001b[0m\u001b[0;34m]\u001b[0m\u001b[0;34m\u001b[0m\u001b[0m\n\u001b[1;32m      6\u001b[0m \u001b[0;34m\u001b[0m\u001b[0m\n",
      "\u001b[0;31mNameError\u001b[0m: name 'scaler_val' is not defined"
     ]
    }
   ],
   "source": [
    "from sklearn import tree\n",
    "clf = tree.DecisionTreeClassifier(max_depth=2)\n",
    "\n",
    "Xval_unscaled = scaler_val.inverse_transform(Xval)\n",
    "Xval_unscaled = Xval_unscaled[:results.shape[0]]\n",
    "\n",
    "clf_data_to_NN = clf.fit(Xval_unscaled, results)\n",
    "tree.export_graphviz(clf_data_to_NN, out_file='NN_tree.dot')\n",
    "\n",
    "!dot -Tpng NN_tree.dot -o NN_tree.png\n",
    "\n",
    "from IPython.display import Image\n",
    "Image(filename='NN_tree.png') "
   ]
  },
  {
   "cell_type": "code",
   "execution_count": null,
   "metadata": {
    "collapsed": false
   },
   "outputs": [],
   "source": [
    "#list(zip(iris.data, iris.target))\n",
    "#np.concatenate((iris.data[validx], iris.target[validx].reshape(len(validx),1)), axis=1)"
   ]
  },
  {
   "cell_type": "markdown",
   "metadata": {},
   "source": [
    "Estimate of the accuracy with which the decision tree replicates the NN:"
   ]
  },
  {
   "cell_type": "code",
   "execution_count": null,
   "metadata": {
    "collapsed": true
   },
   "outputs": [],
   "source": [
    "# Try a measure of inter-rater agreement such as (weighted Cohen's kappa)\n",
    "\n",
    "#import ml_metrics\n",
    "#print(ml_metrics.quadratic_weighted_kappa(clf_data_to_NN.predict(Xval_unscaled), results))"
   ]
  },
  {
   "cell_type": "code",
   "execution_count": null,
   "metadata": {
    "collapsed": false
   },
   "outputs": [],
   "source": [
    "print(np.mean(clf_data_to_NN.predict(Xval_unscaled) == results))\n",
    "\n",
    "score = cross_val_score(clf_data_to_NN, Xval_unscaled, results, cv=3)\n",
    "\n",
    "print(score)\n",
    "print(score.mean())\n"
   ]
  },
  {
   "cell_type": "markdown",
   "metadata": {},
   "source": [
    "If we want to ensure we have an \"explanation\" for all predictions we can predict on the data directly from the decision tree trained on the NN."
   ]
  },
  {
   "cell_type": "code",
   "execution_count": null,
   "metadata": {
    "collapsed": false
   },
   "outputs": [],
   "source": [
    "print(\"Accuracy of predicting from decision tree trained on NN: {0:.2g}\".format(np.mean(clf_data_to_NN.predict(Xval_unscaled) == Yval)))\n",
    "print(\"\\n(c.f. Accuracy of NN itself: {0:.2g})\".format(NN_accuracy))"
   ]
  },
  {
   "cell_type": "markdown",
   "metadata": {},
   "source": [
    "Otherwise, we can predict from the NN itself, in which case we will have no loss of accuracy, but we will only have an \"explanation\" for the cases where the NN prediction and that of the decision tree prediction match.  \n",
    "  In this case we would not have an \"explanation\" for this fraction of samples from the validation set:"
   ]
  },
  {
   "cell_type": "code",
   "execution_count": null,
   "metadata": {
    "collapsed": false
   },
   "outputs": [],
   "source": [
    "print(np.mean(clf_data_to_NN.predict(Xval_unscaled) != results))"
   ]
  },
  {
   "cell_type": "markdown",
   "metadata": {},
   "source": [
    "(Note that the cross-validation accuracy of the NN-mimicking decision tree against the NN is perhaps a better estimate for the fraction of samples for which we would have an \"explanation\", of sorts.)"
   ]
  },
  {
   "cell_type": "markdown",
   "metadata": {},
   "source": [
    "In general, assuming the NN has better performance on the data set than a shallow decision tree -which is not true in the toy example above- (we assume this as otherwise using a NN would not make sense and one could directly use a more interpretable classifier which outperforms a NN), there is therefore always a trade-off, and one can choose between:  \n",
    "- Have an explanation for all samples, at the cost of taking a hit in predictive accuracy (i.e. predict from the decision tree trained on the NN), or\n",
    "- Retain the full accuracy of the NN, but accept a certain fraction of samples for whose prediction we will have no explanation (i.e. predict directly from the NN, using the decision tree's graph to \"explain\" the classification if the prediction of the NN and the decision tree trained on the NN coincide)."
   ]
  },
  {
   "cell_type": "markdown",
   "metadata": {},
   "source": [
    "### Tentative thoughts on this approach\n",
    "\n",
    "As mentioned, this method only makes sense if a NN is the dominant classifier, so in the following we assume this to be the case throughout.  \n",
    "  \n",
    "As a thought experiment, consider the limit in which the NN tends to perfect accuracy (or optimises whatever other target metric is being used). In this case, as far as the (now optimised) performance metric is concerned, the NN is indistinguishable from the generative process underlying the data, and the difference between training the decision tree on the NN, or training it directly on the data, vanishes.  \n",
    "  \n",
    "Therefore, the accuracy obtained by training the decision tree (of the desired interpretable depth, etc) directly on the data appears to be the upper bound on performance that can be expected from a decision tree trained on the corresponding NN trained on the same data, with the bound being saturated as the NN's performance tends to perfect.\n",
    "  \n",
    "Tentative conclusion: **One cannot expect better interpretable performance by training an interpretable classifier on a superior (but uninterpretable) classifier (e.g. a NN), than that obtained by training the interpretable classifier directly on the data**."
   ]
  },
  {
   "cell_type": "markdown",
   "metadata": {},
   "source": [
    "If the above reasoning is not flawed (which it may very well be!), then there would be no benefit to training an interpretable classifier on a NN and using the simpler classifier to predict. Using the NN to predict, and using the interpretable classifier only to provide a plausible rationale where their predictions match still makes sense, as long as one is willing to accept the fraction of samples for which the NN and the interpretable classifier differ, and therefore no explanation can be given."
   ]
  },
  {
   "cell_type": "markdown",
   "metadata": {
    "collapsed": true
   },
   "source": []
  }
 ],
 "metadata": {
  "kernelspec": {
   "display_name": "Python 3",
   "language": "python",
   "name": "python3"
  },
  "language_info": {
   "codemirror_mode": {
    "name": "ipython",
    "version": 3
   },
   "file_extension": ".py",
   "mimetype": "text/x-python",
   "name": "python",
   "nbconvert_exporter": "python",
   "pygments_lexer": "ipython3",
   "version": "3.5.2"
  }
 },
 "nbformat": 4,
 "nbformat_minor": 0
}
