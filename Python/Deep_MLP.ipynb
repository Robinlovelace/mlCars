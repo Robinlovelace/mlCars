{
 "cells": [
  {
   "cell_type": "code",
   "execution_count": 1,
   "metadata": {
    "collapsed": false
   },
   "outputs": [],
   "source": [
    "import matplotlib.pyplot as plt\n",
    "from IPython import display\n",
    "%matplotlib inline\n",
    "import numpy as np"
   ]
  },
  {
   "cell_type": "code",
   "execution_count": 2,
   "metadata": {
    "collapsed": false
   },
   "outputs": [
    {
     "data": {
      "text/html": [
       "<div>\n",
       "<table border=\"1\" class=\"dataframe\">\n",
       "  <thead>\n",
       "    <tr style=\"text-align: right;\">\n",
       "      <th></th>\n",
       "      <th>homeMSOA</th>\n",
       "      <th>workMSOA</th>\n",
       "      <th>workhome</th>\n",
       "      <th>metro</th>\n",
       "      <th>train</th>\n",
       "      <th>bus</th>\n",
       "      <th>taxi</th>\n",
       "      <th>motorcycle</th>\n",
       "      <th>car</th>\n",
       "      <th>cycle</th>\n",
       "      <th>...</th>\n",
       "      <th>otherqual</th>\n",
       "      <th>centheat</th>\n",
       "      <th>nrooms</th>\n",
       "      <th>wzclass</th>\n",
       "      <th>distance</th>\n",
       "      <th>response</th>\n",
       "      <th>disttrainstn</th>\n",
       "      <th>distcoachstn</th>\n",
       "      <th>distbusstop</th>\n",
       "      <th>distmway</th>\n",
       "    </tr>\n",
       "  </thead>\n",
       "  <tbody>\n",
       "    <tr>\n",
       "      <th>0</th>\n",
       "      <td>E02002183</td>\n",
       "      <td>E02002184</td>\n",
       "      <td>0.0</td>\n",
       "      <td>0.0</td>\n",
       "      <td>0.01506</td>\n",
       "      <td>0.069277</td>\n",
       "      <td>0.0</td>\n",
       "      <td>0.0</td>\n",
       "      <td>0.743976</td>\n",
       "      <td>0.012048</td>\n",
       "      <td>...</td>\n",
       "      <td>0.028852</td>\n",
       "      <td>0.980225</td>\n",
       "      <td>5.9</td>\n",
       "      <td>4</td>\n",
       "      <td>2.684270</td>\n",
       "      <td>0.144439</td>\n",
       "      <td>0.437264</td>\n",
       "      <td>7.354263</td>\n",
       "      <td>0.021183</td>\n",
       "      <td>22.434402</td>\n",
       "    </tr>\n",
       "    <tr>\n",
       "      <th>1</th>\n",
       "      <td>E02002183</td>\n",
       "      <td>E02002185</td>\n",
       "      <td>0.0</td>\n",
       "      <td>0.0</td>\n",
       "      <td>0.12500</td>\n",
       "      <td>0.000000</td>\n",
       "      <td>0.0</td>\n",
       "      <td>0.0</td>\n",
       "      <td>0.812500</td>\n",
       "      <td>0.000000</td>\n",
       "      <td>...</td>\n",
       "      <td>0.028852</td>\n",
       "      <td>0.980225</td>\n",
       "      <td>5.9</td>\n",
       "      <td>6</td>\n",
       "      <td>7.265346</td>\n",
       "      <td>0.058454</td>\n",
       "      <td>0.270787</td>\n",
       "      <td>7.354263</td>\n",
       "      <td>0.031054</td>\n",
       "      <td>18.741927</td>\n",
       "    </tr>\n",
       "    <tr>\n",
       "      <th>2</th>\n",
       "      <td>E02002183</td>\n",
       "      <td>E02002186</td>\n",
       "      <td>0.0</td>\n",
       "      <td>0.0</td>\n",
       "      <td>0.00000</td>\n",
       "      <td>0.011628</td>\n",
       "      <td>0.0</td>\n",
       "      <td>0.0</td>\n",
       "      <td>0.941860</td>\n",
       "      <td>0.011628</td>\n",
       "      <td>...</td>\n",
       "      <td>0.028852</td>\n",
       "      <td>0.980225</td>\n",
       "      <td>5.9</td>\n",
       "      <td>6</td>\n",
       "      <td>4.906847</td>\n",
       "      <td>0.229892</td>\n",
       "      <td>1.636134</td>\n",
       "      <td>5.263695</td>\n",
       "      <td>0.483769</td>\n",
       "      <td>23.216051</td>\n",
       "    </tr>\n",
       "    <tr>\n",
       "      <th>3</th>\n",
       "      <td>E02002183</td>\n",
       "      <td>E02002187</td>\n",
       "      <td>0.0</td>\n",
       "      <td>0.0</td>\n",
       "      <td>0.00000</td>\n",
       "      <td>0.000000</td>\n",
       "      <td>0.0</td>\n",
       "      <td>0.0</td>\n",
       "      <td>0.916667</td>\n",
       "      <td>0.000000</td>\n",
       "      <td>...</td>\n",
       "      <td>0.028852</td>\n",
       "      <td>0.980225</td>\n",
       "      <td>5.9</td>\n",
       "      <td>4</td>\n",
       "      <td>6.938770</td>\n",
       "      <td>0.166186</td>\n",
       "      <td>0.935954</td>\n",
       "      <td>6.985427</td>\n",
       "      <td>0.328198</td>\n",
       "      <td>18.379430</td>\n",
       "    </tr>\n",
       "    <tr>\n",
       "      <th>4</th>\n",
       "      <td>E02002183</td>\n",
       "      <td>E02002188</td>\n",
       "      <td>0.0</td>\n",
       "      <td>0.0</td>\n",
       "      <td>0.00000</td>\n",
       "      <td>0.100000</td>\n",
       "      <td>0.0</td>\n",
       "      <td>0.0</td>\n",
       "      <td>0.700000</td>\n",
       "      <td>0.000000</td>\n",
       "      <td>...</td>\n",
       "      <td>0.028852</td>\n",
       "      <td>0.980225</td>\n",
       "      <td>5.9</td>\n",
       "      <td>5</td>\n",
       "      <td>4.595884</td>\n",
       "      <td>-0.002455</td>\n",
       "      <td>2.604336</td>\n",
       "      <td>3.576567</td>\n",
       "      <td>0.699492</td>\n",
       "      <td>19.114812</td>\n",
       "    </tr>\n",
       "  </tbody>\n",
       "</table>\n",
       "<p>5 rows × 54 columns</p>\n",
       "</div>"
      ],
      "text/plain": [
       "    homeMSOA   workMSOA  workhome  metro    train       bus  taxi  motorcycle  \\\n",
       "0  E02002183  E02002184       0.0    0.0  0.01506  0.069277   0.0         0.0   \n",
       "1  E02002183  E02002185       0.0    0.0  0.12500  0.000000   0.0         0.0   \n",
       "2  E02002183  E02002186       0.0    0.0  0.00000  0.011628   0.0         0.0   \n",
       "3  E02002183  E02002187       0.0    0.0  0.00000  0.000000   0.0         0.0   \n",
       "4  E02002183  E02002188       0.0    0.0  0.00000  0.100000   0.0         0.0   \n",
       "\n",
       "        car     cycle    ...      otherqual  centheat  nrooms  wzclass  \\\n",
       "0  0.743976  0.012048    ...       0.028852  0.980225     5.9        4   \n",
       "1  0.812500  0.000000    ...       0.028852  0.980225     5.9        6   \n",
       "2  0.941860  0.011628    ...       0.028852  0.980225     5.9        6   \n",
       "3  0.916667  0.000000    ...       0.028852  0.980225     5.9        4   \n",
       "4  0.700000  0.000000    ...       0.028852  0.980225     5.9        5   \n",
       "\n",
       "   distance  response  disttrainstn  distcoachstn  distbusstop   distmway  \n",
       "0  2.684270  0.144439      0.437264      7.354263     0.021183  22.434402  \n",
       "1  7.265346  0.058454      0.270787      7.354263     0.031054  18.741927  \n",
       "2  4.906847  0.229892      1.636134      5.263695     0.483769  23.216051  \n",
       "3  6.938770  0.166186      0.935954      6.985427     0.328198  18.379430  \n",
       "4  4.595884 -0.002455      2.604336      3.576567     0.699492  19.114812  \n",
       "\n",
       "[5 rows x 54 columns]"
      ]
     },
     "execution_count": 2,
     "metadata": {},
     "output_type": "execute_result"
    }
   ],
   "source": [
    "import os\n",
    "import pandas as pd\n",
    "#os.getcwd()\n",
    "df = pd.read_csv(\"../data/wyflows_w_response_and_geo.csv\")\n",
    "df.head()"
   ]
  },
  {
   "cell_type": "code",
   "execution_count": 3,
   "metadata": {
    "collapsed": false
   },
   "outputs": [
    {
     "data": {
      "text/plain": [
       "Index(['homeMSOA', 'workMSOA', 'workhome', 'metro', 'train', 'bus', 'taxi',\n",
       "       'motorcycle', 'car', 'cycle', 'walk', 'othertransp', 'npeople', '16-24',\n",
       "       '25-34', '35-49', '50-54', '65-74', '75+', 'female', 'house0carpct',\n",
       "       'house1carpct', 'house2carpct', 'house3carpct', 'house4carpct',\n",
       "       'ppperhect', 'econactivpct', 'econinactivpct', 'vghealth', 'ghealth',\n",
       "       'fhealth', 'bhealth', 'vbhealth', 'white', 'mixed', 'asian', 'black',\n",
       "       'otherethn', 'noqual', 'aptshpqual', 'lev1qual', 'lev2qual', 'lev3qual',\n",
       "       'lev4qual', 'otherqual', 'centheat', 'nrooms', 'wzclass', 'distance',\n",
       "       'response', 'disttrainstn', 'distcoachstn', 'distbusstop', 'distmway'],\n",
       "      dtype='object')"
      ]
     },
     "execution_count": 3,
     "metadata": {},
     "output_type": "execute_result"
    }
   ],
   "source": [
    "df.columns"
   ]
  },
  {
   "cell_type": "code",
   "execution_count": 4,
   "metadata": {
    "collapsed": false
   },
   "outputs": [],
   "source": [
    "Xfull = df.drop(['homeMSOA','workMSOA','car','response','npeople','workhome','metro','train','bus','taxi','motorcycle','cycle','walk','othertransp'], axis=1).values\n",
    "Yfull = df['car'].values\n",
    "\n",
    "predictors = list(df.drop(['homeMSOA','workMSOA','car','response','npeople','workhome','metro','train','bus','taxi','motorcycle','cycle','walk','othertransp'], axis=1).columns)"
   ]
  },
  {
   "cell_type": "code",
   "execution_count": 5,
   "metadata": {
    "collapsed": true
   },
   "outputs": [],
   "source": [
    "# DO NOT USE THE FULL DATASET, SPLIT OFF A TRAINING SET BEFORE GOING FURTHER, AND NEVER USE THE FULL SET\n",
    "\n",
    "import math\n",
    "\n",
    "idx = list(range(Xfull.shape[0]))\n",
    "np.random.seed(seed=5)\n",
    "np.random.shuffle(idx)\n",
    "np.random.seed(seed=None)\n",
    "\n",
    "trainsetsize = math.floor(Xfull.shape[0]/2)\n",
    "trainidx = idx[:trainsetsize]\n",
    "\n",
    "X, Y = Xfull[trainidx,:], Yfull[trainidx]"
   ]
  },
  {
   "cell_type": "code",
   "execution_count": 6,
   "metadata": {
    "collapsed": false
   },
   "outputs": [
    {
     "data": {
      "text/plain": [
       "['16-24',\n",
       " '25-34',\n",
       " '35-49',\n",
       " '50-54',\n",
       " '65-74',\n",
       " '75+',\n",
       " 'female',\n",
       " 'house0carpct',\n",
       " 'house1carpct',\n",
       " 'house2carpct',\n",
       " 'house3carpct',\n",
       " 'house4carpct',\n",
       " 'ppperhect',\n",
       " 'econactivpct',\n",
       " 'econinactivpct',\n",
       " 'vghealth',\n",
       " 'ghealth',\n",
       " 'fhealth',\n",
       " 'bhealth',\n",
       " 'vbhealth',\n",
       " 'white',\n",
       " 'mixed',\n",
       " 'asian',\n",
       " 'black',\n",
       " 'otherethn',\n",
       " 'noqual',\n",
       " 'aptshpqual',\n",
       " 'lev1qual',\n",
       " 'lev2qual',\n",
       " 'lev3qual',\n",
       " 'lev4qual',\n",
       " 'otherqual',\n",
       " 'centheat',\n",
       " 'nrooms',\n",
       " 'wzclass',\n",
       " 'distance',\n",
       " 'disttrainstn',\n",
       " 'distcoachstn',\n",
       " 'distbusstop',\n",
       " 'distmway']"
      ]
     },
     "execution_count": 6,
     "metadata": {},
     "output_type": "execute_result"
    }
   ],
   "source": [
    "predictors"
   ]
  },
  {
   "cell_type": "code",
   "execution_count": 7,
   "metadata": {
    "collapsed": false
   },
   "outputs": [],
   "source": [
    "#from sklearn.model_selection import StratifiedKFold\n",
    "from sklearn.model_selection import KFold\n",
    "\n",
    "#cross_valsets = StratifiedKFold(n_splits=2)\n",
    "cross_valsets = KFold(n_splits=10)\n",
    "for train_index, test_index in cross_valsets.split(X, Y):\n",
    "    #print(\"TRAIN:\", train_index, \"TEST:\", test_index)\n",
    "    Xtrain, Xval = X[train_index], X[test_index]\n",
    "    Ytrain, Yval = Y[train_index], Y[test_index]"
   ]
  },
  {
   "cell_type": "code",
   "execution_count": 8,
   "metadata": {
    "collapsed": false
   },
   "outputs": [],
   "source": [
    "from sklearn.preprocessing import StandardScaler\n",
    "\n",
    "scaler = StandardScaler().fit(Xtrain)\n",
    "Xtrain = scaler.transform(Xtrain)\n",
    "Xval = scaler.transform(Xval)\n",
    "\n",
    "# We use X = X_train + X_test for the cross-validation runs, so scale X too (note: X is already a training set)\n",
    "X = scaler.transform(X)"
   ]
  },
  {
   "cell_type": "code",
   "execution_count": 9,
   "metadata": {
    "collapsed": false
   },
   "outputs": [],
   "source": [
    "#import pickle\n",
    "\n",
    "#with open('/home/ilan/Desktop/Homesite_Quote_conversion_Kaggle/X_standard_train.pkl', 'rb') as fb:\n",
    "#    Xtrain = pickle.load(fb)\n",
    "\n",
    "#with open('/home/ilan/Desktop/Homesite_Quote_conversion_Kaggle/X_standard_val.pkl', 'rb') as fb:\n",
    "#    Xtest = pickle.load(fb)\n",
    "    \n",
    "#with open('/home/ilan/Desktop/Homesite_Quote_conversion_Kaggle/Ytrain.pkl', 'rb') as fb:\n",
    "#    Ytrain = pickle.load(fb)\n",
    "    \n",
    "#with open('/home/ilan/Desktop/Homesite_Quote_conversion_Kaggle/Yval.pkl', 'rb') as fb:\n",
    "#    Ytest = pickle.load(fb)\n",
    "    \n",
    "\n",
    "    \n",
    "#with open('/home/ilan/Desktop/BNP_Paribas_Cardif_Kaggle/X_standard_train.pkl', 'rb') as fb:\n",
    "#    Xtrain = pickle.load(fb)\n",
    "\n",
    "#with open('/home/ilan/Desktop/BNP_Paribas_Cardif_Kaggle/X_standard_val.pkl', 'rb') as fb:\n",
    "#    Xtest = pickle.load(fb)\n",
    "    \n",
    "#with open('/home/ilan/Desktop/BNP_Paribas_Cardif_Kaggle/Ytrain.pkl', 'rb') as fb:\n",
    "#    Ytrain = pickle.load(fb)\n",
    "    \n",
    "#with open('/home/ilan/Desktop/BNP_Paribas_Cardif_Kaggle/Yval.pkl', 'rb') as fb:\n",
    "#    Ytest = pickle.load(fb)\n",
    "    \n",
    " \n",
    "    \n",
    "#X = np.concatenate((Xtrain, Xtest), axis=0)\n",
    "#Y = np.concatenate((Ytrain, Ytest), axis=0)"
   ]
  },
  {
   "cell_type": "markdown",
   "metadata": {},
   "source": [
    "Split the data set into training, validation, and test sets.  \n",
    "We will not touch the test set at all."
   ]
  },
  {
   "cell_type": "markdown",
   "metadata": {
    "collapsed": true
   },
   "source": [
    "def TrainValTestSplit(X, Y, fracs_list=[0.7, 0.2, 0.1], shuffle=True, seed=42):\n",
    "    \"\"\"Split the samples x features Numpy array, X, into training, validation, and test sets as\n",
    "    specified in fractions in list fracs_list (e.g. [0.6, 0.2, 0.2])\n",
    "    \n",
    "    Return Numpy arrays:\n",
    "    Xtrain, Ytrain, Xval, Yval, Xtest, Ytest\"\"\"\n",
    "    \n",
    "    assert X.shape[0] == Y.shape[0]\n",
    "    \n",
    "    assert sum(fracs_list) == 1.0\n",
    "    \n",
    "    trainfrac, valfrac, testfrac = fracs_list\n",
    "    idxs = np.arange(X.shape[0])\n",
    "\n",
    "    if shuffle==True:\n",
    "        np.random.seed(seed)\n",
    "        np.random.shuffle(idxs)\n",
    "        np.random.seed(None) # Reset to the default value in case numpy uses the seed later (somewhere below)\n",
    "\n",
    "    trainidx = idxs[:int(trainfrac*len(idxs))]\n",
    "    validx = idxs[int(trainfrac*len(idxs)):int(trainfrac*len(idxs))+int(valfrac*len(idxs))]\n",
    "    testidx = idxs[int(trainfrac*len(idxs))+int(valfrac*len(idxs)):]\n",
    "\n",
    "    #Xtrain, Ytrain = X[trainidx], Y[trainidx]\n",
    "    #Xval, Yval = X[validx], Y[validx]\n",
    "    #Xtest, Ytest = X[testidx], Y[testidx]\n",
    "    #return Xtrain, Ytrain, Xval, Yval, Xtest, Ytest\n",
    "    return trainidx,validx,testidx"
   ]
  },
  {
   "cell_type": "markdown",
   "metadata": {
    "collapsed": false
   },
   "source": [
    "trainidx, validx, testidx = TrainValTestSplit(X, Y, fracs_list=[0.6, 0.2, 0.2])\n",
    "\n",
    "Xtrain, Ytrain = X[trainidx], Y[trainidx]\n",
    "Xval, Yval = X[validx], Y[validx]\n",
    "#Xtest, Ytest = X[testidx], Y[testidx]"
   ]
  },
  {
   "cell_type": "markdown",
   "metadata": {},
   "source": [
    "The size of the training and validation sets, as well as the class labels and their distribution."
   ]
  },
  {
   "cell_type": "code",
   "execution_count": 10,
   "metadata": {
    "collapsed": false
   },
   "outputs": [
    {
     "name": "stdout",
     "output_type": "stream",
     "text": [
      "(24213, 40)\n",
      "(2690, 40)\n"
     ]
    }
   ],
   "source": [
    "print(Xtrain.shape)\n",
    "print(Xval.shape)"
   ]
  },
  {
   "cell_type": "markdown",
   "metadata": {},
   "source": [
    "Choose scaling. Standard scaling, minmax scaling, whitening, etc."
   ]
  },
  {
   "cell_type": "code",
   "execution_count": 11,
   "metadata": {
    "collapsed": true
   },
   "outputs": [],
   "source": [
    "# Perform data whitening (make covariance matrix the identity matrix to remove auto-correlations)\n",
    "def whitening(X):\n",
    "    Xcentred = X - np.mean(X, axis=0)\n",
    "    cov = np.dot(Xcentred.T, Xcentred) / float(Xcentred.shape[0])\n",
    "    U,S,V = np.linalg.svd(cov)\n",
    "    Xrot = np.dot(Xcentred,U)\n",
    "    # Xrot_reduced = np.dot(Xcentred, U[:,:100])\n",
    "    Xwhite = Xrot / np.sqrt(S + 1e-5)\n",
    "    return Xwhite"
   ]
  },
  {
   "cell_type": "markdown",
   "metadata": {
    "collapsed": true
   },
   "source": [
    "Check for missing values. Impute if values are missing."
   ]
  },
  {
   "cell_type": "code",
   "execution_count": 12,
   "metadata": {
    "collapsed": true
   },
   "outputs": [],
   "source": [
    "def fancyImpute(X_incomplete):\n",
    "    \"\"\"Imputation methods. Options: SimpleFill, DenseKNN, SoftImpute,\n",
    "    IterativeSVD, MICE (ordinal variables only), MatrixFactorization,\n",
    "    NuclearNormMinimization (too slow for large matrices).\"\"\"\n",
    "    \n",
    "    import fancyimpute as fi\n",
    "    #from fancyimpute import (NuclearNormMinimization, BiScaler, DenseKNN)\n",
    "\n",
    "    # rescale both rows and columns to have zero mean and unit variance\n",
    "    biscaler = fi.BiScaler()\n",
    "    X_incomplete_normalized = biscaler.fit_transform(X_incomplete)\n",
    "\n",
    "    # use 3 nearest rows which have a feature to fill in each row's missing features\n",
    "    #solver = fi.DenseKNN(k=3)\n",
    "    solver = fi.SoftImpute()\n",
    "    # Options for solver = NuclearNormMinimization\n",
    "    X_filled_normalized = solver.complete(X_incomplete_normalized)\n",
    "    X_filled = biscaler.inverse_transform(X_filled_normalized)\n",
    "\n",
    "    #mse = ((X_filled[missing_mask] - X[missing_mask]) ** 2).mean()\n",
    "    #print(\"MSE of reconstruction: %f\" % mse)\n",
    "    return X_filled"
   ]
  },
  {
   "cell_type": "code",
   "execution_count": 13,
   "metadata": {
    "collapsed": false
   },
   "outputs": [
    {
     "name": "stdout",
     "output_type": "stream",
     "text": [
      "0.0\n",
      "0.0\n"
     ]
    }
   ],
   "source": [
    "print(float(Xtrain[np.isnan(Xtrain)].shape[0])/Xtrain.shape[0])\n",
    "print(float(Xval[np.isnan(Xval)].shape[0])/Xval.shape[0])"
   ]
  },
  {
   "cell_type": "code",
   "execution_count": 14,
   "metadata": {
    "collapsed": true
   },
   "outputs": [],
   "source": [
    "if Xtrain.any() == np.nan:\n",
    "    Xtrain = fancyImpute(Xtrain)\n",
    "if Xval.any() == np.nan:\n",
    "    Xval = fancyImpute(Xval)"
   ]
  },
  {
   "cell_type": "code",
   "execution_count": 15,
   "metadata": {
    "collapsed": false
   },
   "outputs": [
    {
     "name": "stdout",
     "output_type": "stream",
     "text": [
      "(24213, 1)\n",
      "(2690, 1)\n"
     ]
    }
   ],
   "source": [
    "Ytrain = Ytrain.reshape((Ytrain.shape[0], 1))\n",
    "print(Ytrain.shape)\n",
    "Yval = Yval.reshape((Yval.shape[0], 1))\n",
    "print(Yval.shape)"
   ]
  },
  {
   "cell_type": "markdown",
   "metadata": {},
   "source": [
    "Build the Multi-Layer Perceptron"
   ]
  },
  {
   "cell_type": "code",
   "execution_count": 16,
   "metadata": {
    "collapsed": false
   },
   "outputs": [
    {
     "name": "stderr",
     "output_type": "stream",
     "text": [
      "WARNING (theano.sandbox.cuda): The cuda backend is deprecated and will be removed in the next release.  Please switch to the gpuarray backend. You can get more information about how to switch at this URL:\n",
      " https://github.com/Theano/Theano/wiki/Converting-to-the-new-gpu-back-end%28gpuarray%29\n",
      "\n",
      "Using gpu device 0: GeForce GTX TITAN X (CNMeM is disabled, cuDNN 5105)\n"
     ]
    }
   ],
   "source": [
    "import theano\n",
    "from theano import tensor as T\n",
    "#from theano.printing import debugprint\n",
    "\n",
    "#theano.config.compute_test_value = 'warn' # default is 'off'\n",
    "theano.config.compute_test_value = 'off'\n",
    "#print theano.config.optimizer # default value is 'fast_run'\n",
    "#print theano.config.exception_verbosity # default value is 'low'\n",
    "\n",
    "import LasagneUpdateRules_Feb_2017 as lur"
   ]
  },
  {
   "cell_type": "code",
   "execution_count": 17,
   "metadata": {
    "collapsed": false
   },
   "outputs": [
    {
     "name": "stdout",
     "output_type": "stream",
     "text": [
      "0.9.0beta1.dev-3343d912717ee85c5c2e0572cfae94581b35e32b\n"
     ]
    }
   ],
   "source": [
    "print(theano.__version__) # T.nnet.relu() activation function available only from Theano 0.7.1 onwards"
   ]
  },
  {
   "cell_type": "code",
   "execution_count": 18,
   "metadata": {
    "collapsed": true
   },
   "outputs": [],
   "source": [
    "def floatX(array):\n",
    "    \"\"\"Convert array to Numpy array of a type supported by the CPU or GPU, accordingly\"\"\"\n",
    "    return np.asarray(array, dtype=theano.config.floatX)\n",
    "\n",
    "def init_weights(shape, frac=0.01):\n",
    "    \"\"\"Initialize weights randomly. Reduce weight size by factor to keep them closer to zero where gradient is largest\n",
    "    and the learning is fastest at the beginning.\n",
    "    This is Glorot initialisation, with a scaling factor.\"\"\"\n",
    "    #return theano.shared(floatX(frac*np.random.uniform(low=0.0, high=1.0, size=shape), borrow=True)\n",
    "    #return theano.shared(floatX(np.sqrt(2/(shape[0]*shape[1]))*np.random.normal(loc=0, scale=1, size=shape)), borrow=True)\n",
    "    return theano.shared(floatX(np.sqrt(2)*np.random.normal(loc=0, scale=1, size=shape)), borrow=True)\n",
    "\n",
    "def init_bias(shape):\n",
    "    \"\"\"Initialize bias to array of zeros\"\"\"\n",
    "    return theano.shared(value=np.zeros(shape, dtype=theano.config.floatX), borrow=True)\n",
    "\n",
    "def init_ortho(shape):\n",
    "    \"\"\"Initialize weights to an orthogonal matrix. Output matrix is square,\n",
    "    output matrix will only be of the requested dimensions if square\"\"\"\n",
    "    #W = np.random.randn(*shape)\n",
    "    W = np.random.normal(loc=0, scale=1, size=shape)\n",
    "    u, s, v = np.linalg.svd(W)\n",
    "    #return theano.shared(value=np.sqrt(2).astype(theano.config.floatX)*u.astype(theano.config.floatX), borrow=True)\n",
    "    #return theano.shared(value=np.sqrt(2/(shape[0]*shape[1])).astype(theano.config.floatX)*u.astype(theano.config.floatX), borrow=True)\n",
    "    return theano.shared(value=np.sqrt(2).astype(theano.config.floatX)*u.astype(theano.config.floatX), borrow=True)\n",
    "\n",
    "\n",
    "#from theano.sandbox.rng_mrg import MRG_RandomStreams as RandomStreams\n",
    "#from theano.sandbox.cuda.rng_curand import CURAND_RandomStreams as RandomStreams\n",
    "\n",
    "def dropout(state_before, p=0.5):\n",
    "    \"\"\"Retain a fraction p of weights and set the other 1-p to zero\"\"\"\n",
    "    #trng = T.shared_randomstreams.RandomStreams(np.random.randint(1000000, size=1))\n",
    "    #trng = RandomStreams()\n",
    "    trng = T.shared_randomstreams.RandomStreams()\n",
    "    proj = T.cast((state_before * trng.binomial(state_before.shape, p=p, n=1, dtype=state_before.dtype))/p, theano.config.floatX)\n",
    "    return proj\n",
    "\n",
    "def to_onehot(array_column, n_classes=None):\n",
    "    \"\"\"Converts column array of integer labels (starting from 0) into\n",
    "    one-hot encoding\"\"\"\n",
    "    #array_column = np.asarray(array_column).flatten()\n",
    "    if not np.equal(np.mod(array_column.any(), 1), 0):\n",
    "        print(\"Problem: labels are not integers\")\n",
    "    if n_classes == None:\n",
    "        # If no. of classes not given, deduce from data.\n",
    "        # Can fail if not all possible classes found in vector.\n",
    "        n_classes = len(np.unique(array_column))\n",
    "    onehotcol = np.zeros((array_column.shape[0], n_classes))\n",
    "    xmin = array_column.min()\n",
    "    if np.equal(np.mod(array_column.all(), 1), 0) and xmin!=0:\n",
    "        print(\"Labels don't start from 0, shifted them\")\n",
    "        array_column_shifted = array_column-xmin\n",
    "        #print(array_column_shifted)\n",
    "        for i in range(array_column_shifted.shape[0]):\n",
    "            #print(i, array_column_shifted[i])\n",
    "            onehotcol[i, int(array_column_shifted[i])] = 1\n",
    "    else:\n",
    "        for i in range(array_column.shape[0]):\n",
    "            onehotcol[i, int(array_column[i])] = 1\n",
    "    return onehotcol\n",
    "\n",
    "import pickle, os\n",
    "\n",
    "def save_model(parameters, filename):\n",
    "    \"\"\"Serialise Theano shared variables to disk\"\"\"\n",
    "    dirname = 'saved_model'\n",
    "    if not os.path.exists(dirname):\n",
    "        os.makedirs(dirname)\n",
    "    with open(os.path.join(dirname, filename+'.pkl'), 'wb') as fb:\n",
    "        for p in parameters:\n",
    "            pickle.dump(p.get_value(borrow=True),fb, -1)"
   ]
  },
  {
   "cell_type": "markdown",
   "metadata": {},
   "source": [
    "Convert to 1-of-N representation for N > 2 class classification."
   ]
  },
  {
   "cell_type": "code",
   "execution_count": 19,
   "metadata": {
    "collapsed": false
   },
   "outputs": [],
   "source": [
    "#Ytrain = to_onehot(Ytrain)"
   ]
  },
  {
   "cell_type": "markdown",
   "metadata": {},
   "source": [
    "Convert to GPU-friendly single precision floats"
   ]
  },
  {
   "cell_type": "code",
   "execution_count": 20,
   "metadata": {
    "collapsed": true
   },
   "outputs": [],
   "source": [
    "Xtrain = floatX(Xtrain)\n",
    "Ytrain = floatX(Ytrain)\n",
    "\n",
    "Xval = floatX(Xval)\n",
    "Yval = floatX(Yval)"
   ]
  },
  {
   "cell_type": "markdown",
   "metadata": {},
   "source": [
    "Convert data to theano shared variable type to make optimal usage of GPU memory."
   ]
  },
  {
   "cell_type": "code",
   "execution_count": 21,
   "metadata": {
    "collapsed": true
   },
   "outputs": [],
   "source": [
    "Xtraintheano = theano.shared(Xtrain, borrow=True)\n",
    "Ytraintheano = theano.shared(Ytrain, borrow=True)"
   ]
  },
  {
   "cell_type": "markdown",
   "metadata": {},
   "source": [
    "Find greatest common divisor between training and validation sets, to use as batchsize to ensure prediction on full validation set. If this is not important, override batch size manually below."
   ]
  },
  {
   "cell_type": "code",
   "execution_count": 22,
   "metadata": {
    "collapsed": false
   },
   "outputs": [
    {
     "name": "stdout",
     "output_type": "stream",
     "text": [
      "1\n"
     ]
    }
   ],
   "source": [
    "from math import gcd\n",
    "\n",
    "batchsize = gcd(Xtrain.shape[0], Xval.shape[0])\n",
    "\n",
    "print(batchsize)"
   ]
  },
  {
   "cell_type": "code",
   "execution_count": 23,
   "metadata": {
    "collapsed": true
   },
   "outputs": [],
   "source": [
    "batchsize = 64"
   ]
  },
  {
   "cell_type": "code",
   "execution_count": 24,
   "metadata": {
    "collapsed": true
   },
   "outputs": [],
   "source": [
    "nfeats = Xtrain.shape[1]\n",
    "widhidlay = nfeats # To ensure autoencoder input and output have the same dimensions, as they must."
   ]
  },
  {
   "cell_type": "markdown",
   "metadata": {},
   "source": [
    "Build and train the Stacked Denoising Auto-encoders for unsupervised pre-training of the lower (non-output) layers of the neural network."
   ]
  },
  {
   "cell_type": "code",
   "execution_count": 25,
   "metadata": {
    "collapsed": false
   },
   "outputs": [],
   "source": [
    "n_epochs_pretrain = 10\n",
    "n_pretrain_batches = int(Xtraintheano.get_value(borrow=True).shape[0] / batchsize)"
   ]
  },
  {
   "cell_type": "code",
   "execution_count": 26,
   "metadata": {
    "collapsed": false
   },
   "outputs": [],
   "source": [
    "X = T.matrix(name='X')\n",
    "Y = T.matrix(name='Y')\n",
    "index = T.lscalar()\n",
    "\n",
    "def pretrain_model(X, w_h1_pre, b_h1_pre, b_h2_pre):\n",
    "    X = dropout(X, p=0.5)\n",
    "    h1 = T.nnet.sigmoid(T.dot(X,w_h1_pre) + b_h1_pre)\n",
    "    h2 = T.nnet.sigmoid(T.dot(h1,w_h1_pre.T) + b_h2_pre)\n",
    "    return h2"
   ]
  },
  {
   "cell_type": "code",
   "execution_count": 27,
   "metadata": {
    "collapsed": false
   },
   "outputs": [],
   "source": [
    "w_h1_pre = init_weights((nfeats, widhidlay))\n",
    "b_h1_pre = init_bias((batchsize, widhidlay))\n",
    "b_h2_pre = init_bias((batchsize, widhidlay))\n",
    "\n",
    "Xpred = pretrain_model(X, w_h1_pre, b_h1_pre, b_h2_pre)\n",
    "\n",
    "\n",
    "L1 = T.sum(T.abs_(w_h1_pre))\n",
    "L2 = T.sum(T.sqr(w_h1_pre))\n",
    "\n",
    "cost = T.mean(T.sqr(Xpred-X)) #+ 0.001*L1 + 0.001*L2\n",
    "#cost = T.mean(T.sqr(Xpred-X))\n",
    "\n",
    "params = [w_h1_pre, b_h1_pre, b_h2_pre]\n",
    "\n",
    "#updates = sgd(cost,params,lr=0.01)\n",
    "#updates = lur.sgd(cost,params,learning_rate=0.01)\n",
    "#updates = lur.adagrad(cost, params, learning_rate=0.001)\n",
    "#updates = lur.adadelta(cost,params,learning_rate=0.01)\n",
    "updates = lur.adam(cost,params,learning_rate=0.01)\n",
    "#updates = lur.adamax(cost,params,learning_rate=0.005)\n",
    "#updates = lur.rmsprop(cost,params,learning_rate=0.001)\n",
    "#updates = lur.nesterov_momentum(cost,params,learning_rate=0.001)\n",
    "#cost = -T.mean(T.log(yprobs)*Y)\n",
    "\n",
    "pretrain1 = theano.function(\n",
    "        inputs=[index],\n",
    "        outputs=(Xpred,w_h1_pre),\n",
    "        #outputs=(cost,yprobs,err),\n",
    "        updates=updates,\n",
    "        allow_input_downcast=True,\n",
    "        givens={\n",
    "            X: Xtraintheano[index * batchsize : (index + 1) * batchsize]\n",
    "        }\n",
    "    )\n",
    "\n",
    "\n",
    "for epoch in range(n_epochs_pretrain):\n",
    "    #print(\"Computing epoch {0} of {1}\".format(epoch+1,n_epochs))\n",
    "    for batchidx in range(n_pretrain_batches):\n",
    "        firsthidlay_weights = pretrain1(batchidx)[1]\n",
    "    if epoch == n_epochs_pretrain-1:\n",
    "        ae_output1 = firsthidlay_weights\n",
    "    #print(firsthidlay_weights[0])\n",
    "\n",
    "ae_outputtheano1 = theano.shared(floatX(ae_output1), borrow=True)\n",
    "#ae_outputtheano1 = theano.shared(floatX(firsthidlay_weights), borrow=True)"
   ]
  },
  {
   "cell_type": "code",
   "execution_count": 28,
   "metadata": {
    "collapsed": false
   },
   "outputs": [
    {
     "name": "stdout",
     "output_type": "stream",
     "text": [
      "[[ -8.68303716e-01   1.47076890e-01  -3.95135909e-01 ...,   8.14438090e-02\n",
      "    3.28318387e-01   1.06076670e+00]\n",
      " [  8.06265533e-01  -1.99180454e-01  -2.10575730e-01 ...,  -2.80295640e-01\n",
      "   -7.91059136e-01  -2.79809386e-01]\n",
      " [  1.30335772e+00  -1.72835484e-01  -4.03029084e-01 ...,  -2.42737681e-01\n",
      "    4.06074196e-01  -5.02879381e-01]\n",
      " ..., \n",
      " [ -1.67133307e+00   5.04379153e-01  -1.02603018e-01 ...,  -6.30518556e-01\n",
      "   -1.02670097e+00   8.43480811e-05]\n",
      " [  2.54872966e+00  -3.73673946e-01   4.72515345e-01 ...,  -3.95939207e+00\n",
      "    3.98504823e-01   2.75480226e-02]\n",
      " [  9.20597672e-01  -3.60685080e-01   5.27276897e+00 ...,  -2.76393127e+00\n",
      "   -2.56399846e+00  -6.62534416e-01]]\n"
     ]
    }
   ],
   "source": [
    "print(ae_outputtheano1.get_value())"
   ]
  },
  {
   "cell_type": "code",
   "execution_count": 29,
   "metadata": {
    "collapsed": false
   },
   "outputs": [],
   "source": [
    "w_h1_pre = init_ortho((widhidlay, widhidlay))\n",
    "b_h1_pre = init_bias((batchsize, widhidlay))\n",
    "b_h2_pre = init_bias((batchsize, widhidlay))\n",
    "b_h3_pre = init_bias((batchsize, widhidlay))\n",
    "\n",
    "\n",
    "def pretrain_model(X, previous_weights, w_h1_pre, b_h1_pre, b_h2_pre, b_h3_pre):\n",
    "    h1 = T.nnet.sigmoid(T.dot(X,previous_weights) + b_h1_pre)\n",
    "    h1 = dropout(h1, p=0.5)\n",
    "    h2 = T.nnet.sigmoid(T.dot(h1,w_h1_pre) + b_h2_pre)\n",
    "    h3 = T.nnet.sigmoid(T.dot(h2,w_h1_pre.T) + b_h3_pre)\n",
    "    return h3\n",
    "\n",
    "Xpred = pretrain_model(X, ae_outputtheano1, w_h1_pre, b_h1_pre, b_h2_pre, b_h3_pre)\n",
    "\n",
    "L1 = T.sum(T.abs_(w_h1_pre))\n",
    "L2 = T.sum(T.sqr(w_h1_pre))\n",
    "\n",
    "cost = T.mean(T.sqr(Xpred-X)) #+ 0.001*L1 + 0.001*L2\n",
    "#cost = T.mean(T.sqr(Xpred-X))\n",
    "\n",
    "params = [w_h1_pre, b_h1_pre, b_h2_pre, b_h3_pre]\n",
    "\n",
    "#updates = sgd(cost,params,lr=0.01)\n",
    "#updates = lur.sgd(cost,params,learning_rate=0.01)\n",
    "#updates = lur.adagrad(cost, params, learning_rate=0.001)\n",
    "#updates = lur.adadelta(cost,params,learning_rate=0.01)\n",
    "updates = lur.adam(cost,params,learning_rate=0.01)\n",
    "#updates = lur.adamax(cost,params,learning_rate=0.005)\n",
    "#updates = lur.rmsprop(cost,params,learning_rate=0.001)\n",
    "#updates = lur.nesterov_momentum(cost,params,learning_rate=0.001)\n",
    "#cost = -T.mean(T.log(yprobs)*Y)\n",
    "\n",
    "pretrain2 = theano.function(\n",
    "        inputs=[index],\n",
    "        outputs=(Xpred,w_h1_pre),\n",
    "        #outputs=(cost,yprobs,err),\n",
    "        updates=updates,\n",
    "        allow_input_downcast=True,\n",
    "        givens={\n",
    "            X: Xtraintheano[index * batchsize : (index + 1) * batchsize]\n",
    "        }\n",
    "    )\n",
    "\n",
    "\n",
    "for epoch in range(n_epochs_pretrain):\n",
    "    #print(\"Computing epoch {0} of {1}\".format(epoch+1,n_epochs))\n",
    "    for batchidx in range(n_pretrain_batches):\n",
    "        firsthidlay_weights = pretrain2(batchidx)[1]\n",
    "    if epoch == n_epochs_pretrain-1:\n",
    "        ae_output2 = firsthidlay_weights\n",
    "    #print(firsthidlay_weights[0])\n",
    "\n",
    "ae_outputtheano2 = theano.shared(floatX(ae_output2), borrow=True)\n",
    "#ae_outputtheano1 = theano.shared(floatX(firsthidlay_weights), borrow=True)"
   ]
  },
  {
   "cell_type": "code",
   "execution_count": 30,
   "metadata": {
    "collapsed": false
   },
   "outputs": [
    {
     "name": "stdout",
     "output_type": "stream",
     "text": [
      "[[  8.50697979e-02   3.48068744e-01  -5.85615933e-01 ...,  -3.99594247e-01\n",
      "    9.81537178e-02  -1.48112357e+00]\n",
      " [ -5.70802402e+00  -2.33642504e-01   5.55887341e-01 ...,   2.41433322e-01\n",
      "   -1.08440995e+00  -1.45025289e+00]\n",
      " [ -1.89823970e-01  -3.97823244e-01  -9.02139321e-02 ...,  -1.53221309e-01\n",
      "    2.08537057e-01   5.21469295e-01]\n",
      " ..., \n",
      " [ -4.72997390e-02  -3.55997115e-01  -3.75815868e-01 ...,   2.12816596e-02\n",
      "   -8.29971373e-01   4.47753787e-01]\n",
      " [ -4.88349283e-03   1.41740322e+00  -4.69164789e-01 ...,   3.03390592e-01\n",
      "    3.33266199e-01   4.21653576e-02]\n",
      " [ -3.36645901e-01  -5.93717158e-01   2.30527863e-01 ...,  -1.62615970e-01\n",
      "   -1.08258176e+00  -5.59095526e-04]]\n"
     ]
    }
   ],
   "source": [
    "print(ae_outputtheano2.get_value())"
   ]
  },
  {
   "cell_type": "code",
   "execution_count": 31,
   "metadata": {
    "collapsed": false
   },
   "outputs": [],
   "source": [
    "w_h1_pre = init_ortho((widhidlay, widhidlay))\n",
    "b_h1_pre = init_bias((batchsize, widhidlay))\n",
    "b_h2_pre = init_bias((batchsize, widhidlay))\n",
    "b_h3_pre = init_bias((batchsize, widhidlay))\n",
    "b_h4_pre = init_bias((batchsize, widhidlay))\n",
    "\n",
    "\n",
    "def pretrain_model(X, previous_weights1, previous_weights2, w_h1_pre, b_h1_pre, b_h2_pre, b_h3_pre, b_h4_pre):\n",
    "    h1 = T.nnet.sigmoid(T.dot(X,previous_weights1) + b_h1_pre)\n",
    "    h2 = T.nnet.sigmoid(T.dot(h1,previous_weights2) + b_h2_pre)\n",
    "    h2 = dropout(h2, p=0.5)\n",
    "    h3 = T.nnet.sigmoid(T.dot(h2,w_h1_pre) + b_h3_pre)\n",
    "    h4 = T.nnet.sigmoid(T.dot(h3,w_h1_pre.T) + b_h4_pre)\n",
    "    return h4\n",
    "\n",
    "Xpred = pretrain_model(X, ae_outputtheano1, ae_outputtheano2, w_h1_pre, b_h1_pre, b_h2_pre, b_h3_pre, b_h4_pre)\n",
    "\n",
    "L1 = T.sum(T.abs_(w_h1_pre))\n",
    "L2 = T.sum(T.sqr(w_h1_pre))\n",
    "\n",
    "cost = T.mean(T.sqr(Xpred-X)) #+ 0.001*L1 + 0.001*L2\n",
    "\n",
    "params = [w_h1_pre, b_h1_pre, b_h2_pre, b_h3_pre, b_h4_pre]\n",
    "\n",
    "#updates = sgd(cost,params,lr=0.01)\n",
    "#updates = lur.sgd(cost,params,learning_rate=0.01)\n",
    "#updates = lur.adagrad(cost, params, learning_rate=0.001)\n",
    "#updates = lur.adadelta(cost,params,learning_rate=0.01)\n",
    "updates = lur.adam(cost,params,learning_rate=0.01)\n",
    "#updates = lur.adamax(cost,params,learning_rate=0.005)\n",
    "#updates = lur.rmsprop(cost,params,learning_rate=0.001)\n",
    "#updates = lur.nesterov_momentum(cost,params,learning_rate=0.001)\n",
    "#cost = -T.mean(T.log(yprobs)*Y)\n",
    "\n",
    "pretrain3 = theano.function(\n",
    "        inputs=[index],\n",
    "        outputs=(Xpred,w_h1_pre),\n",
    "        #outputs=(cost,yprobs,err),\n",
    "        updates=updates,\n",
    "        allow_input_downcast=True,\n",
    "        givens={\n",
    "            X: Xtraintheano[index * batchsize : (index + 1) * batchsize]\n",
    "        }\n",
    "    )\n",
    "\n",
    "\n",
    "for epoch in range(n_epochs_pretrain):\n",
    "    #print(\"Computing epoch {0} of {1}\".format(epoch+1,n_epochs))\n",
    "    for batchidx in range(n_pretrain_batches):\n",
    "        firsthidlay_weights = pretrain3(batchidx)[1]\n",
    "    if epoch == n_epochs_pretrain-1:\n",
    "        ae_output3 = firsthidlay_weights\n",
    "    #print(firsthidlay_weights[0])\n",
    "\n",
    "ae_outputtheano3 = theano.shared(floatX(ae_output3), borrow=True)\n",
    "#ae_outputtheano1 = theano.shared(floatX(firsthidlay_weights), borrow=True)"
   ]
  },
  {
   "cell_type": "code",
   "execution_count": 32,
   "metadata": {
    "collapsed": false
   },
   "outputs": [
    {
     "name": "stdout",
     "output_type": "stream",
     "text": [
      "[[-0.09835201 -1.72015917 -2.92097044 ..., -2.09873128  0.86021304\n",
      "  -0.50833678]\n",
      " [ 0.20724858 -0.54827487  1.64472353 ...,  1.40307701 -2.15477848\n",
      "  -0.52940887]\n",
      " [-2.41064286 -3.61137724 -3.25189495 ..., -0.61309707 -1.33115113\n",
      "  -1.9761802 ]\n",
      " ..., \n",
      " [-1.62450802 -1.37469792 -2.62240887 ...,  0.0522971   0.22417712\n",
      "   0.23245984]\n",
      " [-0.25902796  0.41645634 -4.02521801 ..., -1.26732516 -0.55275428\n",
      "   1.0721463 ]\n",
      " [-1.54389358 -0.70737654 -0.38681376 ..., -0.86342794 -0.90485573\n",
      "   0.21714199]]\n"
     ]
    }
   ],
   "source": [
    "print(ae_outputtheano3.get_value())"
   ]
  },
  {
   "cell_type": "markdown",
   "metadata": {},
   "source": [
    "Build the neural network itself."
   ]
  },
  {
   "cell_type": "code",
   "execution_count": 33,
   "metadata": {
    "collapsed": false
   },
   "outputs": [],
   "source": [
    "#X = T.matrix(name='X')\n",
    "#Y = T.matrix(name='Y')\n",
    "#index = T.lscalar()\n",
    "\n",
    "dropout_p = 0.7\n",
    "relu_alpha = 0.\n",
    "\n",
    "def model_train(X,w_h1,b_h1,w_h2,b_h2,w_h3,b_h3,w_o,b_o):\n",
    "    h1 = T.nnet.relu(T.dot(X,w_h1) + b_h1, alpha=relu_alpha)\n",
    "    #h1 = T.nnet.sigmoid(T.dot(X,w_h1) + b_h1)\n",
    "    h1 = dropout(h1, p=dropout_p)\n",
    "    h2 = T.nnet.relu(T.dot(h1,w_h2) + b_h2, alpha=relu_alpha)\n",
    "    #h2 = T.nnet.sigmoid(T.dot(h1,w_h2) + b_h2)\n",
    "    h2 = dropout(h2, p=dropout_p)\n",
    "    h3 = T.nnet.relu(T.dot(h2,w_h3) + b_h3, alpha=relu_alpha)\n",
    "    #h3 = T.nnet.sigmoid(T.dot(h2,w_h3) + b_h3)\n",
    "    #h3 = dropout(h3, p=dropout_p)\n",
    "    #o = T.nnet.softmax(T.dot(h3,w_o) + b_o)\n",
    "    #o = T.nnet.sigmoid(T.dot(h3,w_o) + b_o)\n",
    "    o = T.dot(h3,w_o) + b_o\n",
    "    return o\n",
    "\n",
    "def model_test(X,w_h1,b_h1,w_h2,b_h2,w_h3,b_h3,w_o,b_o):\n",
    "    h1 = T.nnet.relu(T.dot(X,w_h1) + b_h1, alpha=relu_alpha)\n",
    "    #h1 = T.nnet.sigmoid(T.dot(X,w_h1) + b_h1)\n",
    "    #h1 = dropout(h1, p=dropout_p)\n",
    "    h2 = T.nnet.relu(T.dot(h1,w_h2) + b_h2, alpha=relu_alpha)\n",
    "    #h2 = T.nnet.sigmoid(T.dot(h1,w_h2) + b_h2)\n",
    "    #h2 = dropout(h2, p=dropout_p)\n",
    "    h3 = T.nnet.relu(T.dot(h2,w_h3) + b_h3, alpha=relu_alpha)\n",
    "    #h3 = T.nnet.sigmoid(T.dot(h2,w_h3) + b_h3)\n",
    "    #h3 = dropout(h3, p=dropout_p)\n",
    "    #o = T.nnet.softmax(T.dot(h3,w_o) + b_o)\n",
    "    #o = T.nnet.sigmoid(T.dot(h3,w_o) + b_o)\n",
    "    o = T.dot(h3,w_o) + b_o\n",
    "    return o\n",
    "\n",
    "\n",
    "nfeats = Xtrain.shape[1]\n",
    "widhidlay = nfeats\n",
    "nclasses = 1\n",
    "#nclasses = len(np.unique(Ytrain))  # Use 1 for binary classification or regression\n",
    "\n",
    "# 3 hidden layers, initialise the weights and biases\n",
    "#w_h1 = init_weights((nfeats, widhidlay))\n",
    "w_h1 = ae_outputtheano1\n",
    "b_h1 = init_bias((batchsize, widhidlay))\n",
    "#w_h2 = init_ortho((widhidlay, widhidlay))\n",
    "w_h2 = ae_outputtheano2\n",
    "b_h2 = init_bias((batchsize, widhidlay))\n",
    "#w_h3 = init_ortho((widhidlay, widhidlay))\n",
    "w_h3 = ae_outputtheano3\n",
    "b_h3 = init_bias((batchsize, widhidlay))\n",
    "w_o = init_weights((widhidlay, nclasses))\n",
    "b_o = init_bias((batchsize, nclasses))\n",
    "\n",
    "# Runs the NN and outputs the result from its output node\n",
    "#yprobs_train = model_train(X, w_h1, b_h1, w_h2, b_h2, w_h3, b_h3, w_o, b_o)\n",
    "#yprobs_test = model_test(X, w_h1, b_h1, w_h2, b_h2, w_h3, b_h3, w_o, b_o)\n",
    "ypred_train = model_train(X, w_h1, b_h1, w_h2, b_h2, w_h3, b_h3, w_o, b_o)\n",
    "ypred_test = model_test(X, w_h1, b_h1, w_h2, b_h2, w_h3, b_h3, w_o, b_o)\n",
    "\n",
    "\n",
    "# Predicted label is 1 if its probability is >=0.5, and 0 otherwise.\n",
    "#ypred = (yprobs >= 0.5)\n",
    "\n",
    "\n",
    "#ypred_train = T.argmax(yprobs_train)\n",
    "#ypred_test = T.argmax(yprobs_test)\n",
    "\n",
    "#ypred_train = T.switch(T.lt(yprobs_train, 0.5), 0, 1)\n",
    "#ypred_test = T.switch(T.lt(yprobs_test, 0.5), 0, 1)\n",
    "\n",
    "#ypred_train = T.switch(T.lt(yprobs_train, 0.07), 0, 1)\n",
    "#ypred_test = T.switch(T.lt(yprobs_test, 0.07), 0, 1)\n",
    "\n",
    "#err = T.mean(T.neq(ypred, Y))\n",
    "\n",
    "params = [w_h1, b_h1, w_h2, b_h2, w_h3, b_h3, w_o, b_o]\n",
    "\n",
    "\n",
    "#L1 = T.sum(T.abs_(w_h2)) + T.sum(T.abs_(w_h3)) \n",
    "#L2 = T.sum(T.sqr(w_h2)) + T.sum(T.sqr(w_h3)) \n",
    "\n",
    "L1 = T.sum(T.abs_(w_h2)) + T.sum(T.abs_(w_h3)) + T.sum(T.abs_(w_h1)) + T.sum(T.abs_(w_o))\n",
    "L2 = T.sum(T.sqr(w_h2)) + T.sum(T.sqr(w_h3)) + T.sum(T.sqr(w_h1)) + T.sum(T.sqr(w_o))\n",
    "\n",
    "    \n",
    "#cost = T.mean(T.nnet.categorical_crossentropy(yprobs_train, Y)) + 0.01*L1 + 0.01*L2\n",
    "#cost = T.mean(T.nnet.binary_crossentropy(yprobs_train, Y)) + 0.001*L1 + 0.001*L2\n",
    "#cost = -(Y*T.log(yprobs_train) + (1-Y)*T.log(1-yprobs_train)).mean() + 0.001*L1 + 0.001*L2\n",
    "#cost = T.mean(T.nnet.binary_crossentropy(yprobs, Y)) + 0.01*L2\n",
    "cost = T.mean(T.sqr(ypred_train-Y)) + 0.1*L1 + 0.1*L2\n",
    "#cost = T.mean(T.sqr(yprobs_train-Y))\n",
    "\n",
    "#updates = lur.sgd(cost,params,learning_rate=0.001)\n",
    "#updates = lur.adagrad(cost, params, learning_rate=0.01)\n",
    "#updates = lur.adadelta(cost,params,learning_rate=0.01)\n",
    "updates = lur.adam(cost,params,learning_rate=0.001)\n",
    "#updates = lur.adamax(cost,params,learning_rate=0.01)\n",
    "#updates = lur.rmsprop(cost,params,learning_rate=0.001)\n",
    "#updates = lur.nesterov_momentum(cost,params,learning_rate=0.01)\n",
    "\n",
    "\n",
    "\n",
    "\n",
    "train = theano.function(\n",
    "        inputs=[index],\n",
    "        outputs=cost,\n",
    "        #outputs=(cost,yprobs,err),\n",
    "        updates=updates,\n",
    "        allow_input_downcast=True,\n",
    "        givens={\n",
    "            X: Xtraintheano[index * batchsize : (index + 1) * batchsize],\n",
    "            Y: Ytraintheano[index * batchsize : (index + 1) * batchsize]\n",
    "        }\n",
    "    )\n",
    "\n",
    "\n",
    "Xvaltheano = theano.shared(Xval, borrow=True)\n",
    "Yvaltheano = theano.shared(Yval, borrow=True)\n",
    "\n",
    "predict = theano.function(\n",
    "        inputs=[index],\n",
    "        #outputs=yprobs,\n",
    "        #outputs=(yprobs,ypred),\n",
    "        #outputs=(cost,yprobs,err),\n",
    "        outputs=ypred_test,\n",
    "        #outputs=(yprobs_test,ypred_test),\n",
    "        allow_input_downcast=True,\n",
    "        givens={\n",
    "            X: Xvaltheano[index * batchsize : (index + 1) * batchsize]\n",
    "        }\n",
    "    )\n"
   ]
  },
  {
   "cell_type": "markdown",
   "metadata": {},
   "source": [
    "Train the neural network."
   ]
  },
  {
   "cell_type": "code",
   "execution_count": null,
   "metadata": {
    "collapsed": false
   },
   "outputs": [
    {
     "data": {
      "image/png": "[encoded data removed]",
      "text/plain": [
       "<matplotlib.figure.Figure at 0x7f9c7c50f1d0>"
      ]
     },
     "metadata": {},
     "output_type": "display_data"
    },
    {
     "name": "stdout",
     "output_type": "stream",
     "text": [
      "Epoch runtime: 0.274s\r"
     ]
    }
   ],
   "source": [
    "import time\n",
    "from scipy.stats import mode\n",
    "\n",
    "n_train_batches = int(Xtraintheano.get_value(borrow=True).shape[0] / batchsize)\n",
    "n_test_batches = int(Xvaltheano.get_value(borrow=True).shape[0] / batchsize)\n",
    "\n",
    "n_epochs = 1000\n",
    "\n",
    "plt.ion()\n",
    "\n",
    "start = time.time()\n",
    "epochs = []\n",
    "costs = []\n",
    "errors = []\n",
    "#randomerror = 1 - 1.0/len(np.unique(Yval))\n",
    "#randomerror = \n",
    "#mostcommonerror = np.mean(Yval != mode(Yval)[0][0]) #error from always predicting most common class\n",
    "for epoch in range(n_epochs):\n",
    "    epochstart = time.time()\n",
    "    ypreds = np.empty((batchsize*n_test_batches, 1), dtype=float)\n",
    "    #yprobs = np.empty((batchsize*n_test_batches, 1), dtype=float)\n",
    "    for batchidx in range(n_train_batches):\n",
    "        batchcost = train(batchidx)\n",
    "        if batchcost == np.nan:\n",
    "            print(\"NaN cost. Exiting. Try lowering the learning rate.\")\n",
    "            break\n",
    "    for batchidx in range(n_test_batches):\n",
    "        #batchyprob, batchypred = predict(batchidx)\n",
    "        batchypred = predict(batchidx)\n",
    "        #yprobs[batchsize*batchidx:batchsize*(batchidx+1)] = batchyprob\n",
    "        ypreds[batchsize*batchidx:batchsize*(batchidx+1)] = batchypred\n",
    "    #print(\"Epoch: {0}, runtime: {1}, cost: {2}\".format(epoch, time.time()-epochstart, batchcost))\n",
    "    epochs.append(epoch)\n",
    "    costs.append(batchcost)\n",
    "    \n",
    "    epochYtest = Yval[:ypreds.shape[0]]\n",
    "    #if epochYtest.shape[1]>1: #If Yval is in one-hot form change back to single int to compare with ypred\n",
    "    #    epochYtest = np.argmax(epochYtest, axis=1)\n",
    "    \n",
    "    epochErr = np.mean((epochYtest - ypreds)**2)\n",
    "    #epochAcc = np.mean(epochYtest == ypreds)\n",
    "    #epochErr = np.mean(epochYtest != ypreds)\n",
    "    \n",
    "    errors.append(epochErr)\n",
    "    \n",
    "    #if epochErr < randomerror and epochErr < mostcommonerror:\n",
    "    #    save_model(params, 'model-epoch_'+str(epoch))\n",
    "    if (epoch+1)%(n_epochs/10)==0:\n",
    "        # If error drops precipitously at the beginning the y-scale of the plots is large and ruins plots\n",
    "        # remove first epochs to avoid this\n",
    "        epochsplot = epochs[100:]\n",
    "        costsplot = costs[100:]\n",
    "        errorsplot = errors[100:]\n",
    "        fig, ax = plt.subplots()\n",
    "        ax.plot(epochsplot,costsplot, 'b-')\n",
    "        ax.set_xlabel(\"Epoch\")\n",
    "        ax.set_ylabel(\"Cost\")\n",
    "        for tl in ax.get_yticklabels():\n",
    "            tl.set_color('b')\n",
    "\n",
    "        ax1 = ax.twinx()\n",
    "        ax1.plot(epochsplot, errorsplot, 'r-')\n",
    "        ax1.set_ylabel(\"Error\")\n",
    "        #ax1.axhline(randomerror, color='r', linestyle='dashed')\n",
    "        #ax1.axhline(mostcommonerror, color='r', linestyle='dotted')\n",
    "        for tl in ax1.get_yticklabels():\n",
    "            tl.set_color('r')    \n",
    "\n",
    "        epochtime = time.time()-epochstart\n",
    "        print(\"Epoch runtime: {0:.3g}s\".format(epochtime), end=\"\\r\")\n",
    "\n",
    "        display.clear_output(wait=True)\n",
    "        display.display(plt.gcf())\n",
    "    \n",
    "#    if len(errors) >= 40: # Run at least for 40 epochs\n",
    "#        temperrs = np.asarray(errors)\n",
    "#        if epochErr >= temperrs[-30] - temperrs[-30:].std():\n",
    "#            break # If error hasn't improved by 1 SD in 30 epochs, stop\n",
    "    \n",
    "    #print(\"Epoch: {0}\\tAccuracy: {1:.4g}\\tError: {2:.3g}\\tCost: {3:.6g}\\tRuntime: {4:.3g}\".format(epoch, epochAcc, epochErr, batchcost, epochtime))\n",
    "\n",
    "end = time.time()\n",
    "\n",
    "print(\"Training took {0:.3g} seconds.\".format(end-start))"
   ]
  },
  {
   "cell_type": "markdown",
   "metadata": {},
   "source": [
    "Inspect output: predicted probabilities and final weight matrices."
   ]
  },
  {
   "cell_type": "code",
   "execution_count": 35,
   "metadata": {
    "collapsed": false
   },
   "outputs": [],
   "source": [
    "#print(yprobs[:100])"
   ]
  },
  {
   "cell_type": "code",
   "execution_count": 36,
   "metadata": {
    "collapsed": false
   },
   "outputs": [
    {
     "data": {
      "text/plain": [
       "array([[ -2.17999361e-04,  -1.14111157e-04,   8.93582692e-05, ...,\n",
       "          6.73757459e-05,   8.93572069e-05,  -6.73805116e-05],\n",
       "       [  1.30426750e-04,  -8.93639735e-05,   7.65586010e-05, ...,\n",
       "         -6.73776740e-05,   6.11616997e-07,   1.96182809e-04],\n",
       "       [  2.49712495e-04,   4.62122480e-05,   2.17999448e-04, ...,\n",
       "          4.97282781e-05,  -1.07936205e-04,  -5.52396414e-05],\n",
       "       ..., \n",
       "       [ -1.82760807e-04,  -8.93598626e-05,   6.73777176e-05, ...,\n",
       "         -1.96192326e-04,   6.73723116e-05,  -1.31095585e-04],\n",
       "       [ -8.93645847e-05,   2.17999448e-04,  -6.73816758e-05, ...,\n",
       "          4.52809800e-05,   1.69846790e-05,   2.17990018e-04],\n",
       "       [  7.65584191e-05,   2.02665266e-04,  -1.96182067e-04, ...,\n",
       "         -2.29936486e-05,  -6.73802060e-05,   1.96187524e-04]], dtype=float32)"
      ]
     },
     "execution_count": 36,
     "metadata": {},
     "output_type": "execute_result"
    }
   ],
   "source": [
    "w_h1.get_value()"
   ]
  },
  {
   "cell_type": "code",
   "execution_count": 37,
   "metadata": {
    "collapsed": false
   },
   "outputs": [
    {
     "data": {
      "text/plain": [
       "array([[ -8.93554752e-05,   4.97260480e-05,  -6.73816830e-05, ...,\n",
       "         -3.06404836e-05,   5.52558449e-05,   1.31105146e-04],\n",
       "       [ -8.93641482e-05,  -6.56738557e-05,  -2.17989931e-04, ...,\n",
       "          8.93642791e-05,  -1.32914647e-05,  -4.62122771e-05],\n",
       "       [  1.31105160e-04,   1.30424742e-04,  -1.30429602e-04, ...,\n",
       "          1.57607778e-04,   8.93643519e-05,  -1.14111535e-04],\n",
       "       ..., \n",
       "       [ -2.17990106e-04,   6.09261479e-05,   1.31105233e-04, ...,\n",
       "         -8.93553297e-05,   1.46640043e-04,   6.56742486e-05],\n",
       "       [ -1.30421366e-04,   2.29935176e-05,  -2.17990862e-04, ...,\n",
       "          6.73755421e-05,   1.30426313e-04,  -1.30423476e-04],\n",
       "       [  1.96192472e-04,   1.31098903e-04,   1.96192166e-04, ...,\n",
       "          5.52483725e-05,   1.96184905e-04,   4.62123025e-05]], dtype=float32)"
      ]
     },
     "execution_count": 37,
     "metadata": {},
     "output_type": "execute_result"
    }
   ],
   "source": [
    "w_h2.get_value()"
   ]
  },
  {
   "cell_type": "code",
   "execution_count": 38,
   "metadata": {
    "collapsed": false
   },
   "outputs": [
    {
     "data": {
      "text/plain": [
       "array([[  8.24646486e-06,  -3.06404399e-05,   7.88298930e-05, ...,\n",
       "          8.93631877e-05,  -8.48360796e-05,  -2.27065830e-05],\n",
       "       [ -1.30428816e-04,   8.24637755e-06,  -7.65531076e-05, ...,\n",
       "          8.93639735e-05,   7.65537188e-05,   2.43748567e-04],\n",
       "       [  2.17995956e-04,  -7.65520890e-05,  -6.73752147e-05, ...,\n",
       "         -1.57607632e-04,  -6.65934713e-05,   6.73784598e-05],\n",
       "       ..., \n",
       "       [  8.93632896e-05,   4.97258879e-05,  -2.27077799e-05, ...,\n",
       "          8.93560136e-05,  -2.44786461e-05,   4.97214496e-05],\n",
       "       [ -2.41651287e-04,  -6.52804956e-05,  -1.57607734e-04, ...,\n",
       "         -6.73812756e-05,   1.97299698e-04,   1.96192384e-04],\n",
       "       [ -1.31105451e-04,   5.52505589e-05,  -1.96192370e-04, ...,\n",
       "          2.17999448e-04,  -8.85479967e-05,  -1.07092208e-04]], dtype=float32)"
      ]
     },
     "execution_count": 38,
     "metadata": {},
     "output_type": "execute_result"
    }
   ],
   "source": [
    "w_h3.get_value()"
   ]
  },
  {
   "cell_type": "code",
   "execution_count": 39,
   "metadata": {
    "collapsed": false
   },
   "outputs": [
    {
     "data": {
      "text/plain": [
       "array([[  1.96187873e-04],\n",
       "       [ -6.09261479e-05],\n",
       "       [ -5.52478850e-05],\n",
       "       [  7.65583682e-05],\n",
       "       [  5.63333742e-06],\n",
       "       [  1.25909224e-04],\n",
       "       [ -2.67488445e-04],\n",
       "       [ -2.58228101e-04],\n",
       "       [  1.30423679e-04],\n",
       "       [ -2.17994675e-04],\n",
       "       [ -4.97232904e-05],\n",
       "       [ -1.97980809e-03],\n",
       "       [  1.96185894e-04],\n",
       "       [  6.73755785e-05],\n",
       "       [  6.49465655e-05],\n",
       "       [  1.31099427e-04],\n",
       "       [  7.65518271e-05],\n",
       "       [  3.00369284e-05],\n",
       "       [ -7.75245499e-05],\n",
       "       [  5.39712317e-04],\n",
       "       [  1.41092169e-04],\n",
       "       [  4.55521658e-05],\n",
       "       [ -1.11083058e-03],\n",
       "       [ -6.73753893e-05],\n",
       "       [  2.17999419e-04],\n",
       "       [  1.31098728e-04],\n",
       "       [ -2.17999390e-04],\n",
       "       [ -8.93608667e-05],\n",
       "       [ -7.65548248e-05],\n",
       "       [  2.17994559e-04],\n",
       "       [  4.21806675e-04],\n",
       "       [  4.97299261e-05],\n",
       "       [ -2.17993511e-04],\n",
       "       [  2.46437063e-04],\n",
       "       [ -6.73813047e-05],\n",
       "       [ -1.31100911e-04],\n",
       "       [  2.29934885e-05],\n",
       "       [  3.14500066e-04],\n",
       "       [  3.29019804e-03],\n",
       "       [  1.96185109e-04]], dtype=float32)"
      ]
     },
     "execution_count": 39,
     "metadata": {},
     "output_type": "execute_result"
    }
   ],
   "source": [
    "w_o.get_value()"
   ]
  },
  {
   "cell_type": "markdown",
   "metadata": {},
   "source": [
    "Analyse the final performance."
   ]
  },
  {
   "cell_type": "code",
   "execution_count": 40,
   "metadata": {
    "collapsed": false
   },
   "outputs": [
    {
     "name": "stdout",
     "output_type": "stream",
     "text": [
      "Minimum error at epoch 51: 0.715 (Accuracy: 0.2852)\n"
     ]
    }
   ],
   "source": [
    "errors = np.asarray(errors)\n",
    "print(\"Minimum error at epoch {0}: {1:.3g} (Accuracy: {2:.4g})\".format(errors.argmin(), errors[errors.argmin()], 1-errors[errors.argmin()]))"
   ]
  },
  {
   "cell_type": "markdown",
   "metadata": {
    "collapsed": false
   },
   "source": [
    "n_test_batches = int(Xvaltheano.get_value(borrow=True).shape[0] / batchsize)\n",
    "\n",
    "results = np.empty((batchsize*n_test_batches, 1),dtype=int)\n",
    "#resultprobs = np.empty((batchsize*n_test_batches, 1),dtype=float)\n",
    "for batchidx in range(n_test_batches):\n",
    "    #resultprobs[batchsize*batchidx:batchsize*(batchidx+1)] = predict(batchidx)[0]\n",
    "    #results[batchsize*batchidx:batchsize*(batchidx+1)] = predict(batchidx)[1]\n",
    "    results[batchsize*batchidx:batchsize*(batchidx+1)] = predict(batchidx)[0]\n",
    "    \n",
    "results = np.asarray(results, dtype=int)\n",
    "results = results.flatten()"
   ]
  },
  {
   "cell_type": "markdown",
   "metadata": {
    "collapsed": false
   },
   "source": [
    "\n",
    "#Yval_testing = Yval_testing.reshape(Yval_testing.shape[0],)\n",
    "\n",
    "Yval_testing = Yval[:results.shape[0]]\n",
    "Xval_testing = Xval[:results.shape[0]]\n",
    "\n",
    "#if Yval_testing.shape[1] > 0:\n",
    "#    Yval_testing = np.argmax(Yval_testing, axis=1\n",
    "Yval_testing = Yval_testing.flatten()\n",
    "Yval_testing = np.asarray(Yval_testing, dtype=int)"
   ]
  },
  {
   "cell_type": "markdown",
   "metadata": {
    "collapsed": false
   },
   "source": [
    "#np.unique(ypreds)\n",
    "yprobs[1:10]"
   ]
  },
  {
   "cell_type": "markdown",
   "metadata": {
    "collapsed": false
   },
   "source": [
    "from sklearn.metrics import roc_curve, roc_auc_score\n",
    "\n",
    "fpr, tpr, thresholds = roc_curve(Yval_testing, yprobs[:Yval_testing.shape[0]], pos_label=1)\n",
    "roc_auc = roc_auc_score(Yval_testing, yprobs[:Yval_testing.shape[0]])\n",
    "\n",
    "plt.figure()\n",
    "plt.plot(fpr, tpr, label='ROC curve (area = %0.2f)' % roc_auc)\n",
    "plt.plot([0, 1], [0, 1], 'k--')\n",
    "plt.xlim([0.0, 1.0])\n",
    "plt.ylim([0.0, 1.05])\n",
    "plt.xlabel('False Positive Rate')\n",
    "plt.ylabel('True Positive Rate')\n",
    "plt.title('Receiver Operating Characteristic')\n",
    "plt.legend(loc=\"lower right\")\n",
    "plt.show()"
   ]
  },
  {
   "cell_type": "markdown",
   "metadata": {
    "collapsed": false
   },
   "source": [
    "def find_nearest(array,value):\n",
    "    idx = (np.abs(array-value)).argmin()\n",
    "    return array[idx]\n",
    "\n",
    "\n",
    "thresholds[np.where(fpr == find_nearest(fpr,0.5))]\n",
    "#fpr"
   ]
  },
  {
   "cell_type": "markdown",
   "metadata": {
    "collapsed": false
   },
   "source": [
    "NN_accuracy = np.mean(Yval_testing == results)\n",
    "\n",
    "print(\"Accuracy: {0:.2g}\".format(NN_accuracy))\n",
    "print(\"\\n(Accuracy of random guesses: {0:.2g})\".format(1.0/len(np.unique(epochYtest))))\n",
    "print(\"\\n(Accuracy of predicting dominant class for all: {0:.2g})\".format(np.mean(Yval == mode(Yval)[0][0])))"
   ]
  },
  {
   "cell_type": "markdown",
   "metadata": {
    "collapsed": false
   },
   "source": [
    "print(results[:30])\n",
    "print(Yval_testing[:30])"
   ]
  },
  {
   "cell_type": "markdown",
   "metadata": {
    "collapsed": false
   },
   "source": [
    "plt.figure(1)\n",
    "plt.subplot(211)\n",
    "plt.hist(results)\n",
    "plt.subplot(212)\n",
    "plt.hist(Yval_testing)\n",
    "plt.show()"
   ]
  },
  {
   "cell_type": "markdown",
   "metadata": {
    "collapsed": true
   },
   "source": [
    "from sklearn.metrics import confusion_matrix\n",
    "\n",
    "# Function to plot the confusion matrix\n",
    "def plot_confusion_matrix(y_true, y_pred, target_names):\n",
    "    ncls = len(set(y_true))\n",
    "    cm = confusion_matrix(y_true, y_pred)\n",
    "\n",
    "    \n",
    "    # Normalise each row to its total (i.e. normalise by the number of samples in each class)\n",
    "    cm_normalised = cm.astype('float') / cm.sum(axis=1)[:, np.newaxis]\n",
    "\n",
    "    fig = plt.figure(figsize=(12,12))\n",
    "    plt.clf()\n",
    "    ax = fig.add_subplot(111)\n",
    "    ax.set_aspect(1)\n",
    "    #plt.cm.Blues\n",
    "    #res = ax.imshow(np.array(cm_normalised), cmap=plt.cm.jet, \n",
    "    #                interpolation='nearest')\n",
    "    res = ax.pcolor(np.array(cm_normalised))\n",
    "\n",
    "\n",
    "    height = cm.shape[0]\n",
    "    width = cm.shape[1]\n",
    "\n",
    "    for x in range(ncls):\n",
    "        for y in range(ncls):\n",
    "            ax.annotate(str(cm[x][y]), xy=(y+0.5, x+0.5), \n",
    "                        horizontalalignment='center',\n",
    "                        verticalalignment='center',\n",
    "                        fontsize=20,color='w')\n",
    "\n",
    "    cb = fig.colorbar(res,fraction=0.046, pad=0.04)\n",
    "\n",
    "    #plt.imshow(cm_normalised, cmap='jet')\n",
    "    \n",
    "    plt.xticks(np.arange(ncls)+0.5, target_names, fontsize=16,rotation='vertical')\n",
    "    plt.yticks(np.arange(ncls)+0.5, target_names, fontsize=16)\n",
    "    #plt.tight_layout()\n",
    "    plt.xlabel(\"Predicted label\", fontsize=20)\n",
    "    plt.ylabel(\"True label\", fontsize=20)\n",
    "    plt.title(\"Confusion matrix\", fontsize=22)\n",
    "    fig=plt.figure()\n",
    "\n",
    "    return fig"
   ]
  },
  {
   "cell_type": "markdown",
   "metadata": {
    "collapsed": false
   },
   "source": [
    "#target_names = ['Setosa', 'Versicolour','Virginica']\n",
    "#target_names = [str(i) for i in np.unique(np.concatenate((Ytrain, Yval_testing), axis=0))]\n",
    "\n",
    "target_names = [\"0\",\"1\"]\n",
    "\n",
    "print(confusion_matrix(Yval_testing, results))\n",
    "plot_confusion_matrix(Yval_testing, results, target_names=target_names)\n",
    "plt.show()"
   ]
  },
  {
   "cell_type": "markdown",
   "metadata": {
    "collapsed": false
   },
   "source": [
    "from sklearn.metrics import classification_report\n",
    "\n",
    "print(classification_report(Yval_testing, results, target_names=target_names))"
   ]
  },
  {
   "cell_type": "markdown",
   "metadata": {},
   "source": [
    "Benchmark agains other similar classifiers, possibly one simple and similar one as a baseline, and one usually performant one (e.g. XGBoost) as a benchmark."
   ]
  },
  {
   "cell_type": "markdown",
   "metadata": {
    "collapsed": false
   },
   "source": [
    "# Concatenate training and validation sets and undo one-hot encoding for sklearn classifiers to run CV\n",
    "Xsklearn = np.concatenate((Xtrain,Xval), axis=0)\n",
    "\n",
    "if Ytrain.shape[1] > 0:\n",
    "    Ysklearn = np.concatenate((np.argmax(Ytrain, axis=1), Yval.flatten()),axis=0)\n",
    "else:\n",
    "    np.concatenate((Ytrain,Yval), axis=0)"
   ]
  },
  {
   "cell_type": "markdown",
   "metadata": {
    "collapsed": false
   },
   "source": [
    "from sklearn.cross_validation import cross_val_score"
   ]
  },
  {
   "cell_type": "markdown",
   "metadata": {
    "collapsed": false
   },
   "source": [
    "from sklearn import linear_model\n",
    "clf = linear_model.Perceptron()\n",
    "\n",
    "score = cross_val_score(clf, Xsklearn, Ysklearn, cv=10)\n",
    "\n",
    "print(score)\n",
    "print(score.mean())"
   ]
  },
  {
   "cell_type": "markdown",
   "metadata": {
    "collapsed": false
   },
   "source": [
    "from sklearn import linear_model\n",
    "#clf = linear_model.ElasticNet()\n",
    "clf = linear_model.LogisticRegression(penalty='l2', n_jobs=4)\n",
    "\n",
    "score = cross_val_score(clf, Xsklearn, Ysklearn, cv=10)\n",
    "\n",
    "print(score)\n",
    "print(score.mean())"
   ]
  },
  {
   "cell_type": "markdown",
   "metadata": {
    "collapsed": false
   },
   "source": [
    "# If you have XGBoost installed you can benchmark against it as well:\n",
    "\n",
    "# For description of XGBoost algorithm see:\n",
    "#  http://xgboost.readthedocs.io/en/latest/model.html\n",
    "\n",
    "from xgboost import XGBClassifier\n",
    "clf = XGBClassifier(max_depth=3, n_estimators=300, learning_rate=0.05)\n",
    "#clf = XGBClassifier()\n",
    "score = cross_val_score(clf, Xsklearn, Ysklearn, cv=10)\n",
    "\n",
    "print(score)\n",
    "print(score.mean())"
   ]
  },
  {
   "cell_type": "markdown",
   "metadata": {
    "collapsed": false
   },
   "source": [
    "# Just by predicting zero everywhere we would get this fraction right\n",
    "Yval_testing[Yval_testing==0].shape[0]/float(Yval_testing.shape[0])"
   ]
  },
  {
   "cell_type": "markdown",
   "metadata": {},
   "source": [
    "Apply a shallow (desired for interpretability, see later) decision tree to the data, as a benchmark."
   ]
  },
  {
   "cell_type": "markdown",
   "metadata": {
    "collapsed": true
   },
   "source": [
    "from sklearn import tree\n",
    "clf = tree.DecisionTreeClassifier(max_depth=2)"
   ]
  },
  {
   "cell_type": "markdown",
   "metadata": {
    "collapsed": false
   },
   "source": [
    "score = cross_val_score(clf, Xsklearn, Ysklearn, cv=3)\n",
    "\n",
    "print(score)\n",
    "print(score.mean())\n",
    "\n",
    "clf = tree.DecisionTreeClassifier(max_depth=2)\n",
    "clf_data_to_target = clf.fit(Xsklearn, Ysklearn)\n",
    "tree.export_graphviz(clf_data_to_target, out_file='tree.dot')\n",
    "\n",
    "# sudo apt-get install graphviz\n",
    "!dot -Tpng tree.dot -o tree.png\n",
    "\n",
    "from IPython.display import Image\n",
    "Image(filename='tree.png') "
   ]
  },
  {
   "cell_type": "markdown",
   "metadata": {},
   "source": [
    "Now use a decision tree to fit the NN results from the input data"
   ]
  },
  {
   "cell_type": "markdown",
   "metadata": {
    "collapsed": false
   },
   "source": [
    "from sklearn import tree\n",
    "clf = tree.DecisionTreeClassifier(max_depth=2)\n",
    "\n",
    "Xval_unscaled = scaler_val.inverse_transform(Xval)\n",
    "Xval_unscaled = Xval_unscaled[:results.shape[0]]\n",
    "\n",
    "clf_data_to_NN = clf.fit(Xval_unscaled, results)\n",
    "tree.export_graphviz(clf_data_to_NN, out_file='NN_tree.dot')\n",
    "\n",
    "!dot -Tpng NN_tree.dot -o NN_tree.png\n",
    "\n",
    "from IPython.display import Image\n",
    "Image(filename='NN_tree.png') "
   ]
  },
  {
   "cell_type": "markdown",
   "metadata": {
    "collapsed": false
   },
   "source": [
    "#list(zip(iris.data, iris.target))\n",
    "#np.concatenate((iris.data[validx], iris.target[validx].reshape(len(validx),1)), axis=1)"
   ]
  },
  {
   "cell_type": "markdown",
   "metadata": {},
   "source": [
    "Estimate of the accuracy with which the decision tree replicates the NN:"
   ]
  },
  {
   "cell_type": "markdown",
   "metadata": {
    "collapsed": true
   },
   "source": [
    "# Try a measure of inter-rater agreement such as (weighted Cohen's kappa)\n",
    "\n",
    "#import ml_metrics\n",
    "#print(ml_metrics.quadratic_weighted_kappa(clf_data_to_NN.predict(Xval_unscaled), results))"
   ]
  },
  {
   "cell_type": "markdown",
   "metadata": {
    "collapsed": false
   },
   "source": [
    "print(np.mean(clf_data_to_NN.predict(Xval_unscaled) == results))\n",
    "\n",
    "score = cross_val_score(clf_data_to_NN, Xval_unscaled, results, cv=3)\n",
    "\n",
    "print(score)\n",
    "print(score.mean())\n"
   ]
  },
  {
   "cell_type": "markdown",
   "metadata": {},
   "source": [
    "If we want to ensure we have an \"explanation\" for all predictions we can predict on the data directly from the decision tree trained on the NN."
   ]
  },
  {
   "cell_type": "markdown",
   "metadata": {
    "collapsed": false
   },
   "source": [
    "print(\"Accuracy of predicting from decision tree trained on NN: {0:.2g}\".format(np.mean(clf_data_to_NN.predict(Xval_unscaled) == Yval)))\n",
    "print(\"\\n(c.f. Accuracy of NN itself: {0:.2g})\".format(NN_accuracy))"
   ]
  },
  {
   "cell_type": "markdown",
   "metadata": {},
   "source": [
    "Otherwise, we can predict from the NN itself, in which case we will have no loss of accuracy, but we will only have an \"explanation\" for the cases where the NN prediction and that of the decision tree prediction match.  \n",
    "  In this case we would not have an \"explanation\" for this fraction of samples from the validation set:"
   ]
  },
  {
   "cell_type": "markdown",
   "metadata": {
    "collapsed": false
   },
   "source": [
    "print(np.mean(clf_data_to_NN.predict(Xval_unscaled) != results))"
   ]
  },
  {
   "cell_type": "markdown",
   "metadata": {},
   "source": [
    "(Note that the cross-validation accuracy of the NN-mimicking decision tree against the NN is perhaps a better estimate for the fraction of samples for which we would have an \"explanation\", of sorts.)"
   ]
  },
  {
   "cell_type": "markdown",
   "metadata": {},
   "source": [
    "In general, assuming the NN has better performance on the data set than a shallow decision tree -which is not true in the toy example above- (we assume this as otherwise using a NN would not make sense and one could directly use a more interpretable classifier which outperforms a NN), there is therefore always a trade-off, and one can choose between:  \n",
    "- Have an explanation for all samples, at the cost of taking a hit in predictive accuracy (i.e. predict from the decision tree trained on the NN), or\n",
    "- Retain the full accuracy of the NN, but accept a certain fraction of samples for whose prediction we will have no explanation (i.e. predict directly from the NN, using the decision tree's graph to \"explain\" the classification if the prediction of the NN and the decision tree trained on the NN coincide)."
   ]
  },
  {
   "cell_type": "markdown",
   "metadata": {},
   "source": [
    "### Tentative thoughts on this approach\n",
    "\n",
    "As mentioned, this method only makes sense if a NN is the dominant classifier, so in the following we assume this to be the case throughout.  \n",
    "  \n",
    "As a thought experiment, consider the limit in which the NN tends to perfect accuracy (or optimises whatever other target metric is being used). In this case, as far as the (now optimised) performance metric is concerned, the NN is indistinguishable from the generative process underlying the data, and the difference between training the decision tree on the NN, or training it directly on the data, vanishes.  \n",
    "  \n",
    "Therefore, the accuracy obtained by training the decision tree (of the desired interpretable depth, etc) directly on the data appears to be the upper bound on performance that can be expected from a decision tree trained on the corresponding NN trained on the same data, with the bound being saturated as the NN's performance tends to perfect.\n",
    "  \n",
    "Tentative conclusion: **One cannot expect better interpretable performance by training an interpretable classifier on a superior (but uninterpretable) classifier (e.g. a NN), than that obtained by training the interpretable classifier directly on the data**."
   ]
  },
  {
   "cell_type": "markdown",
   "metadata": {},
   "source": [
    "If the above reasoning is not flawed (which it may very well be!), then there would be no benefit to training an interpretable classifier on a NN and using the simpler classifier to predict. Using the NN to predict, and using the interpretable classifier only to provide a plausible rationale where their predictions match still makes sense, as long as one is willing to accept the fraction of samples for which the NN and the interpretable classifier differ, and therefore no explanation can be given."
   ]
  },
  {
   "cell_type": "markdown",
   "metadata": {
    "collapsed": true
   },
   "source": []
  }
 ],
 "metadata": {
  "kernelspec": {
   "display_name": "Python 3",
   "language": "python",
   "name": "python3"
  },
  "language_info": {
   "codemirror_mode": {
    "name": "ipython",
    "version": 3
   },
   "file_extension": ".py",
   "mimetype": "text/x-python",
   "name": "python",
   "nbconvert_exporter": "python",
   "pygments_lexer": "ipython3",
   "version": "3.5.2"
  }
 },
 "nbformat": 4,
 "nbformat_minor": 0
}
